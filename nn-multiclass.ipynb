{
 "cells": [
  {
   "cell_type": "markdown",
   "id": "62201534",
   "metadata": {
    "id": "1HyRSGlSJXos",
    "papermill": {
     "duration": 0.002383,
     "end_time": "2024-12-11T00:12:30.836284",
     "exception": false,
     "start_time": "2024-12-11T00:12:30.833901",
     "status": "completed"
    },
    "tags": []
   },
   "source": [
    "# NN Multiclass"
   ]
  },
  {
   "cell_type": "code",
   "execution_count": 1,
   "id": "b7619416",
   "metadata": {
    "execution": {
     "iopub.execute_input": "2024-12-11T00:12:30.841400Z",
     "iopub.status.busy": "2024-12-11T00:12:30.841083Z",
     "iopub.status.idle": "2024-12-11T00:12:35.684857Z",
     "shell.execute_reply": "2024-12-11T00:12:35.683733Z"
    },
    "id": "cQ6F3bfaJXou",
    "papermill": {
     "duration": 4.849245,
     "end_time": "2024-12-11T00:12:35.687522",
     "exception": false,
     "start_time": "2024-12-11T00:12:30.838277",
     "status": "completed"
    },
    "tags": []
   },
   "outputs": [],
   "source": [
    "import torch\n",
    "import torch.nn as nn\n",
    "from torch.utils.data import DataLoader, TensorDataset\n",
    "from tqdm import tqdm\n",
    "import pandas as pd\n",
    "from sklearn.preprocessing import StandardScaler, LabelEncoder\n",
    "from sklearn.model_selection import train_test_split\n",
    "from rich import print\n",
    "from sklearn.metrics import classification_report, confusion_matrix\n",
    "import numpy as np\n",
    "from pathlib import Path"
   ]
  },
  {
   "cell_type": "code",
   "execution_count": 2,
   "id": "b3ac8a0f",
   "metadata": {
    "execution": {
     "iopub.execute_input": "2024-12-11T00:12:35.694968Z",
     "iopub.status.busy": "2024-12-11T00:12:35.694535Z",
     "iopub.status.idle": "2024-12-11T00:12:35.702352Z",
     "shell.execute_reply": "2024-12-11T00:12:35.701512Z"
    },
    "id": "tukXUa8iJXov",
    "papermill": {
     "duration": 0.013531,
     "end_time": "2024-12-11T00:12:35.704013",
     "exception": false,
     "start_time": "2024-12-11T00:12:35.690482",
     "status": "completed"
    },
    "tags": []
   },
   "outputs": [],
   "source": [
    "def prepare_data_loaders(df, batch_size=64, test_size=0.3, random_state=42):\n",
    "    \"\"\"\n",
    "    Prepare data loaders for training and validation\n",
    "    \"\"\"\n",
    "    # Initialize preprocessing objects\n",
    "    label_encoder = LabelEncoder()\n",
    "    scaler = StandardScaler()\n",
    "\n",
    "    # Prepare features and labels\n",
    "    x_train = df.drop(['category', 'attack'], axis=1).values\n",
    "    y_train = df['category']\n",
    "\n",
    "    # Encode labels as integers\n",
    "    y_train = label_encoder.fit_transform(y_train)\n",
    "\n",
    "    # Split data\n",
    "    x_train_data, x_val_data, y_train_data, y_val_data = train_test_split(\n",
    "        x_train, y_train, test_size=test_size, random_state=random_state\n",
    "    )\n",
    "\n",
    "    # Scale features\n",
    "    x_train_scaled = scaler.fit_transform(x_train_data)\n",
    "    x_val_scaled = scaler.transform(x_val_data)\n",
    "\n",
    "    # Convert to PyTorch tensors\n",
    "    x_train_tensor = torch.tensor(x_train_scaled, dtype=torch.float32)\n",
    "    x_val_tensor = torch.tensor(x_val_scaled, dtype=torch.float32)\n",
    "    y_train_tensor = torch.tensor(y_train_data, dtype=torch.long)\n",
    "    y_val_tensor = torch.tensor(y_val_data, dtype=torch.long)\n",
    "\n",
    "    # Create datasets and loaders\n",
    "    train_dataset = TensorDataset(x_train_tensor, y_train_tensor)\n",
    "    val_dataset = TensorDataset(x_val_tensor, y_val_tensor)\n",
    "\n",
    "    train_loader = DataLoader(train_dataset, batch_size=batch_size, shuffle=True)\n",
    "    val_loader = DataLoader(val_dataset, batch_size=batch_size, shuffle=False)\n",
    "\n",
    "    return {\n",
    "        'train_loader': train_loader,\n",
    "        'val_loader': val_loader,\n",
    "        'val_dataset': val_dataset,\n",
    "        'input_size': x_train.shape[1],\n",
    "        'num_classes': len(label_encoder.classes_),\n",
    "        'class_counts': torch.bincount(y_train_tensor),\n",
    "        'y_train_tensor': y_train_tensor,\n",
    "        'classes': label_encoder.classes_\n",
    "    }"
   ]
  },
  {
   "cell_type": "code",
   "execution_count": 3,
   "id": "aaaf0ccf",
   "metadata": {
    "execution": {
     "iopub.execute_input": "2024-12-11T00:12:35.708915Z",
     "iopub.status.busy": "2024-12-11T00:12:35.708679Z",
     "iopub.status.idle": "2024-12-11T00:12:35.719645Z",
     "shell.execute_reply": "2024-12-11T00:12:35.718902Z"
    },
    "id": "UBKWQI3iJXow",
    "papermill": {
     "duration": 0.015346,
     "end_time": "2024-12-11T00:12:35.721159",
     "exception": false,
     "start_time": "2024-12-11T00:12:35.705813",
     "status": "completed"
    },
    "tags": []
   },
   "outputs": [],
   "source": [
    "class FeatureExtractor(nn.Module):\n",
    "    def __init__(self, input_size):\n",
    "        super().__init__()\n",
    "        self.layers = nn.Sequential(\n",
    "            nn.Linear(input_size, 512),\n",
    "            nn.BatchNorm1d(512),\n",
    "            nn.LeakyReLU(0.1),\n",
    "            nn.Dropout(0.1)\n",
    "        )\n",
    "\n",
    "    def forward(self, x):\n",
    "        return self.layers(x)\n",
    "\n",
    "class ResidualBlock(nn.Module):\n",
    "    def __init__(self, size):\n",
    "        super().__init__()\n",
    "        self.block = nn.Sequential(\n",
    "            nn.BatchNorm1d(size),\n",
    "            nn.Linear(size, 2*size),\n",
    "            nn.LeakyReLU(0.1),\n",
    "            nn.Linear(2*size, size),\n",
    "            nn.Dropout(0.1),\n",
    "        )\n",
    "        self.activation = nn.LeakyReLU(0.1)\n",
    "\n",
    "    def forward(self, x):\n",
    "        identity = x\n",
    "        out = self.block(x)\n",
    "        out += identity\n",
    "        return self.activation(out)\n",
    "\n",
    "class NeuralNetwork(nn.Module):\n",
    "    def __init__(self, input_size, num_classes):\n",
    "        super().__init__()\n",
    "\n",
    "        # Feature extraction path\n",
    "        self.feature_extractor = FeatureExtractor(input_size)\n",
    "\n",
    "        # Main processing path with residual connections\n",
    "        self.main_path = nn.Sequential(\n",
    "          ResidualBlock(512),\n",
    "          ResidualBlock(512),\n",
    "          ResidualBlock(512),\n",
    "          nn.Linear(512, 256),\n",
    "          nn.BatchNorm1d(256),\n",
    "          nn.LeakyReLU(0.2),\n",
    "          nn.Dropout(0.1)\n",
    "        )\n",
    "\n",
    "        self.classifier = nn.Sequential(\n",
    "            nn.Linear(256, num_classes)\n",
    "        )\n",
    "\n",
    "        self._initialize_weights()\n",
    "\n",
    "    def _initialize_weights(self):\n",
    "        for m in self.modules():\n",
    "            if isinstance(m, nn.Linear):\n",
    "                nn.init.kaiming_normal_(m.weight, mode='fan_in', nonlinearity='leaky_relu')\n",
    "                if m.bias is not None:\n",
    "                    nn.init.constant_(m.bias, 0)\n",
    "            elif isinstance(m, nn.BatchNorm1d):\n",
    "                nn.init.constant_(m.weight, 1)\n",
    "                nn.init.constant_(m.bias, 0)\n",
    "\n",
    "    def forward(self, x):\n",
    "        # Extract features\n",
    "        features = self.feature_extractor(x)\n",
    "\n",
    "        # Process through main path\n",
    "        main_features = self.main_path(features)\n",
    "\n",
    "        # Classification\n",
    "        output = self.classifier(main_features)\n",
    "\n",
    "        return output\n",
    "\n",
    "def get_optimizer(model, learning_rate=0.001, weight_decay=1e-5):\n",
    "    \"\"\"\n",
    "    Create optimizer for the model\n",
    "    \"\"\"\n",
    "    return torch.optim.AdamW(\n",
    "        model.parameters(),\n",
    "        lr=learning_rate,\n",
    "        weight_decay=weight_decay,\n",
    "        betas=(0.9, 0.999)\n",
    "    )\n",
    "\n",
    "def get_scheduler(optimizer):\n",
    "    \"\"\"\n",
    "    Create learning rate scheduler\n",
    "    \"\"\"\n",
    "    return torch.optim.lr_scheduler.ReduceLROnPlateau(\n",
    "        optimizer,\n",
    "        mode='min',\n",
    "        factor=0.1,\n",
    "        patience=5\n",
    "    )\n",
    "\n",
    "# Example of model initialization (to be used in the training loop):\n",
    "def initialize_model(input_size, num_classes, device):\n",
    "    \"\"\"\n",
    "    Initialize the model, optimizer, and scheduler\n",
    "    \"\"\"\n",
    "    model = NeuralNetwork(input_size, num_classes).to(device)\n",
    "    optimizer = get_optimizer(model)\n",
    "    scheduler = get_scheduler(optimizer)\n",
    "\n",
    "    return model, optimizer, scheduler"
   ]
  },
  {
   "cell_type": "code",
   "execution_count": null,
   "id": "e3b3cd93",
   "metadata": {
    "execution": {
     "iopub.execute_input": "2024-12-11T00:12:35.726098Z",
     "iopub.status.busy": "2024-12-11T00:12:35.725854Z",
     "iopub.status.idle": "2024-12-11T00:12:35.743488Z",
     "shell.execute_reply": "2024-12-11T00:12:35.742712Z"
    },
    "id": "kWa1Gc5FJXow",
    "papermill": {
     "duration": 0.021978,
     "end_time": "2024-12-11T00:12:35.744999",
     "exception": false,
     "start_time": "2024-12-11T00:12:35.723021",
     "status": "completed"
    },
    "tags": []
   },
   "outputs": [],
   "source": [
    "def train_model(model, train_loader, val_loader, val_dataset, criterion, optimizer,\n",
    "                scheduler, epochs, device, dataset_name, save_dir, goat):\n",
    "    \"\"\"\n",
    "    Train the model and return best performance metrics\n",
    "    \"\"\"\n",
    "    best_val_loss = float('inf')\n",
    "    best_accuracy = 0.0\n",
    "    patience = 10\n",
    "    counter = 0\n",
    "\n",
    "    if goat != 0:\n",
    "      patience = 5\n",
    "\n",
    "    for epoch in range(epochs):\n",
    "        # Training phase\n",
    "        model.train()\n",
    "        epoch_loss = 0\n",
    "        num_batches = len(train_loader)\n",
    "\n",
    "        with tqdm(train_loader, desc=f\"{dataset_name} - Epoch {epoch + 1}/{epochs}\", bar_format='{desc}: {elapsed}') as progress_bar:\n",
    "            for batch_X, batch_y in progress_bar:\n",
    "                batch_X, batch_y = batch_X.to(device), batch_y.to(device)\n",
    "\n",
    "                optimizer.zero_grad()\n",
    "                outputs = model(batch_X)\n",
    "                loss = criterion(outputs, batch_y)\n",
    "                loss.backward()\n",
    "                optimizer.step()\n",
    "\n",
    "                epoch_loss += loss.item()\n",
    "                progress_bar.set_postfix(loss=loss.item())\n",
    "\n",
    "        # Validation phase\n",
    "        model.eval()\n",
    "        val_loss = 0\n",
    "        correct = 0\n",
    "        with torch.no_grad():\n",
    "            for batch_X, batch_y in val_loader:\n",
    "                batch_X, batch_y = batch_X.to(device), batch_y.to(device)\n",
    "                outputs = model(batch_X)\n",
    "                loss = criterion(outputs, batch_y)\n",
    "                val_loss += loss.item()\n",
    "\n",
    "                _, predicted = torch.max(outputs, 1)\n",
    "                correct += (predicted == batch_y).sum().item()\n",
    "\n",
    "        val_loss /= len(val_loader)\n",
    "        accuracy = correct / len(val_dataset)\n",
    "\n",
    "        # Learning rate scheduling\n",
    "        scheduler.step(val_loss)\n",
    "\n",
    "        # Save best model\n",
    "        if accuracy > best_accuracy:\n",
    "            best_accuracy = accuracy\n",
    "            best_val_loss = val_loss\n",
    "            save_path = Path(save_dir) / f\"best_model_{dataset_name}.pth\"\n",
    "            torch.save({\n",
    "                'epoch': epoch,\n",
    "                'model_state_dict': model.state_dict(),\n",
    "                'optimizer_state_dict': optimizer.state_dict(),\n",
    "                'scheduler_state_dict': scheduler.state_dict(),\n",
    "                'best_accuracy': best_accuracy,\n",
    "                'best_val_loss': best_val_loss\n",
    "            }, save_path)\n",
    "            counter = 0\n",
    "            \n",
    "            if best_accuracy > goat:\n",
    "              goat = best_accuracy\n",
    "              patience = 10\n",
    "        else:\n",
    "            counter += 1\n",
    "\n",
    "        print(f\"{dataset_name} - Epoch {epoch + 1}/{epochs} - \"\n",
    "              f\"Train Loss: {epoch_loss / num_batches:.4f} - \"\n",
    "              f\"Validation Loss: {val_loss:.4f} - \"\n",
    "              f\"Accuracy: {accuracy:.4f} - \"\n",
    "              f\"Best Accuracy: {best_accuracy:.4f}\")\n",
    "\n",
    "        if counter >= patience:\n",
    "            print(f\"No improvement for {patience} epochs. Early stopping...\")\n",
    "            break\n",
    "\n",
    "    return best_accuracy, best_val_loss, goat\n",
    "\n",
    "def evaluate_model(model, val_loader, classes, device):\n",
    "    \"\"\"\n",
    "    Evaluate the model and print classification metrics\n",
    "    \"\"\"\n",
    "    y_pred = []\n",
    "    y_true = []\n",
    "\n",
    "    model.eval()\n",
    "    with torch.no_grad():\n",
    "        for inputs, labels in val_loader:\n",
    "            inputs, labels = inputs.to(device), labels.to(device)\n",
    "            outputs = model(inputs)\n",
    "            _, predicted = torch.max(outputs, 1)\n",
    "            y_pred.extend(predicted.cpu().numpy())\n",
    "            y_true.extend(labels.cpu().numpy())\n",
    "\n",
    "    y_pred = np.array(y_pred)\n",
    "    y_true = np.array(y_true)\n",
    "\n",
    "    print(\"\\nClassification Report:\")\n",
    "    print(classification_report(y_true, y_pred, target_names=classes))\n",
    "\n",
    "    print(\"\\nConfusion Matrix:\")\n",
    "    cm = confusion_matrix(y_true, y_pred)\n",
    "    print(cm)\n",
    "\n",
    "def train_on_multiple_datasets(dataset_paths, save_dir='/kaggle/working'):\n",
    "    \"\"\"\n",
    "    Train the model sequentially on multiple datasets\n",
    "    \"\"\"\n",
    "    # Setup device\n",
    "    device = torch.device(\"cuda\" if torch.cuda.is_available() else \"cpu\")\n",
    "    print(f\"Using device: {device}\")\n",
    "\n",
    "    # Create save directory\n",
    "    save_dir = Path(save_dir)\n",
    "    #os.makedirs(\"/kaggle/working/model_checkpoints\", exist_ok=True)\n",
    "\n",
    "    # Training configuration\n",
    "    config = {\n",
    "        'batch_size': 64,\n",
    "        'epochs': 20,\n",
    "        'learning_rate': 0.001,\n",
    "        'weight_decay': 1e-5,\n",
    "    }\n",
    "\n",
    "    results = {}\n",
    "    goat = 0.0\n",
    "\n",
    "    # Train on each dataset sequentially\n",
    "    for dataset_path in dataset_paths:\n",
    "        dataset_name = Path(dataset_path).stem\n",
    "        print(f\"\\nTraining on dataset: {dataset_name}\")\n",
    "\n",
    "        # Load and prepare data\n",
    "        df = pd.read_csv(dataset_path, low_memory=False)\n",
    "        data = prepare_data_loaders(df, batch_size=config['batch_size'])\n",
    "\n",
    "        # Initialize model, optimizer, and criterion\n",
    "        model = NeuralNetwork(data['input_size'], data['num_classes']).to(device)\n",
    "        optimizer = get_optimizer(model, config['learning_rate'], config['weight_decay'])\n",
    "        scheduler = get_scheduler(optimizer)\n",
    "\n",
    "        # Calculate class weights for balanced training\n",
    "        total_samples = len(data['y_train_tensor'])\n",
    "        class_weights = total_samples / (len(data['class_counts']) * data['class_counts'])\n",
    "        criterion = nn.CrossEntropyLoss(weight=class_weights.to(device))\n",
    "\n",
    "        # Train the model\n",
    "        best_accuracy, best_val_loss, goat = train_model(\n",
    "            model=model,\n",
    "            train_loader=data['train_loader'],\n",
    "            val_loader=data['val_loader'],\n",
    "            val_dataset=data['val_dataset'],\n",
    "            criterion=criterion,\n",
    "            optimizer=optimizer,\n",
    "            scheduler=scheduler,\n",
    "            epochs=config['epochs'],\n",
    "            device=device,\n",
    "            dataset_name=dataset_name,\n",
    "            save_dir=save_dir,\n",
    "            goat=goat\n",
    "        )\n",
    "\n",
    "        # Check if the best model file exists\n",
    "        best_model_path = Path(save_dir) / f\"best_model_{dataset_name}.pth\"\n",
    "        if not best_model_path.exists():\n",
    "            print(f\"Best model file for {dataset_name} not found. Skipping evaluation.\")\n",
    "            continue\n",
    "\n",
    "        # Load best model for evaluation\n",
    "        checkpoint = torch.load(best_model_path, weights_only=True)\n",
    "        model.load_state_dict(checkpoint['model_state_dict'])\n",
    "\n",
    "        # Evaluate model\n",
    "        print(f\"\\nEvaluating model for dataset: {dataset_name}\")\n",
    "        evaluate_model(model, data['val_loader'], data['classes'], device)\n",
    "\n",
    "        # Store results\n",
    "        results[dataset_name] = {\n",
    "            'best_accuracy': best_accuracy,\n",
    "            'best_val_loss': best_val_loss\n",
    "        }\n",
    "\n",
    "    # Print final results summary\n",
    "    print(\"\\nTraining Results Summary:\")\n",
    "    for dataset_name, metrics in results.items():\n",
    "        print(f\"\\n{dataset_name}:\")\n",
    "        print(f\"Best Accuracy: {metrics['best_accuracy']:.4f}\")\n",
    "        print(f\"Best Validation Loss: {metrics['best_val_loss']:.4f}\")"
   ]
  },
  {
   "cell_type": "code",
   "execution_count": 5,
   "id": "9240077a",
   "metadata": {
    "execution": {
     "iopub.execute_input": "2024-12-11T00:12:35.749631Z",
     "iopub.status.busy": "2024-12-11T00:12:35.749338Z",
     "iopub.status.idle": "2024-12-11T00:36:34.082135Z",
     "shell.execute_reply": "2024-12-11T00:36:34.081289Z"
    },
    "id": "SStTaCSBJXox",
    "papermill": {
     "duration": 1438.336855,
     "end_time": "2024-12-11T00:36:34.083690",
     "exception": false,
     "start_time": "2024-12-11T00:12:35.746835",
     "status": "completed"
    },
    "tags": []
   },
   "outputs": [
    {
     "data": {
      "text/html": [
       "<pre style=\"white-space:pre;overflow-x:auto;line-height:normal;font-family:Menlo,'DejaVu Sans Mono',consolas,'Courier New',monospace\">Using device: cuda\n",
       "</pre>\n"
      ],
      "text/plain": [
       "Using device: cuda\n"
      ]
     },
     "metadata": {},
     "output_type": "display_data"
    },
    {
     "data": {
      "text/html": [
       "<pre style=\"white-space:pre;overflow-x:auto;line-height:normal;font-family:Menlo,'DejaVu Sans Mono',consolas,'Courier New',monospace\">\n",
       "Training on dataset: train_augmented\n",
       "</pre>\n"
      ],
      "text/plain": [
       "\n",
       "Training on dataset: train_augmented\n"
      ]
     },
     "metadata": {},
     "output_type": "display_data"
    },
    {
     "name": "stderr",
     "output_type": "stream",
     "text": [
      "train_augmented - Epoch 1/20: 00:09\n"
     ]
    },
    {
     "data": {
      "text/html": [
       "<pre style=\"white-space:pre;overflow-x:auto;line-height:normal;font-family:Menlo,'DejaVu Sans Mono',consolas,'Courier New',monospace\">train_augmented - Epoch <span style=\"color: #008080; text-decoration-color: #008080; font-weight: bold\">1</span>/<span style=\"color: #008080; text-decoration-color: #008080; font-weight: bold\">20</span> - Train Loss: <span style=\"color: #008080; text-decoration-color: #008080; font-weight: bold\">0.3812</span> - Validation Loss: <span style=\"color: #008080; text-decoration-color: #008080; font-weight: bold\">0.3542</span> - Accuracy: <span style=\"color: #008080; text-decoration-color: #008080; font-weight: bold\">0.7760</span> - Best Accuracy: \n",
       "<span style=\"color: #008080; text-decoration-color: #008080; font-weight: bold\">0.7760</span>\n",
       "</pre>\n"
      ],
      "text/plain": [
       "train_augmented - Epoch \u001b[1;36m1\u001b[0m/\u001b[1;36m20\u001b[0m - Train Loss: \u001b[1;36m0.3812\u001b[0m - Validation Loss: \u001b[1;36m0.3542\u001b[0m - Accuracy: \u001b[1;36m0.7760\u001b[0m - Best Accuracy: \n",
       "\u001b[1;36m0.7760\u001b[0m\n"
      ]
     },
     "metadata": {},
     "output_type": "display_data"
    },
    {
     "name": "stderr",
     "output_type": "stream",
     "text": [
      "train_augmented - Epoch 2/20: 00:08\n"
     ]
    },
    {
     "data": {
      "text/html": [
       "<pre style=\"white-space:pre;overflow-x:auto;line-height:normal;font-family:Menlo,'DejaVu Sans Mono',consolas,'Courier New',monospace\">train_augmented - Epoch <span style=\"color: #008080; text-decoration-color: #008080; font-weight: bold\">2</span>/<span style=\"color: #008080; text-decoration-color: #008080; font-weight: bold\">20</span> - Train Loss: <span style=\"color: #008080; text-decoration-color: #008080; font-weight: bold\">0.3484</span> - Validation Loss: <span style=\"color: #008080; text-decoration-color: #008080; font-weight: bold\">0.3360</span> - Accuracy: <span style=\"color: #008080; text-decoration-color: #008080; font-weight: bold\">0.7962</span> - Best Accuracy: \n",
       "<span style=\"color: #008080; text-decoration-color: #008080; font-weight: bold\">0.7962</span>\n",
       "</pre>\n"
      ],
      "text/plain": [
       "train_augmented - Epoch \u001b[1;36m2\u001b[0m/\u001b[1;36m20\u001b[0m - Train Loss: \u001b[1;36m0.3484\u001b[0m - Validation Loss: \u001b[1;36m0.3360\u001b[0m - Accuracy: \u001b[1;36m0.7962\u001b[0m - Best Accuracy: \n",
       "\u001b[1;36m0.7962\u001b[0m\n"
      ]
     },
     "metadata": {},
     "output_type": "display_data"
    },
    {
     "name": "stderr",
     "output_type": "stream",
     "text": [
      "train_augmented - Epoch 3/20: 00:08\n"
     ]
    },
    {
     "data": {
      "text/html": [
       "<pre style=\"white-space:pre;overflow-x:auto;line-height:normal;font-family:Menlo,'DejaVu Sans Mono',consolas,'Courier New',monospace\">train_augmented - Epoch <span style=\"color: #008080; text-decoration-color: #008080; font-weight: bold\">3</span>/<span style=\"color: #008080; text-decoration-color: #008080; font-weight: bold\">20</span> - Train Loss: <span style=\"color: #008080; text-decoration-color: #008080; font-weight: bold\">0.3348</span> - Validation Loss: <span style=\"color: #008080; text-decoration-color: #008080; font-weight: bold\">0.3383</span> - Accuracy: <span style=\"color: #008080; text-decoration-color: #008080; font-weight: bold\">0.7956</span> - Best Accuracy: \n",
       "<span style=\"color: #008080; text-decoration-color: #008080; font-weight: bold\">0.7962</span>\n",
       "</pre>\n"
      ],
      "text/plain": [
       "train_augmented - Epoch \u001b[1;36m3\u001b[0m/\u001b[1;36m20\u001b[0m - Train Loss: \u001b[1;36m0.3348\u001b[0m - Validation Loss: \u001b[1;36m0.3383\u001b[0m - Accuracy: \u001b[1;36m0.7956\u001b[0m - Best Accuracy: \n",
       "\u001b[1;36m0.7962\u001b[0m\n"
      ]
     },
     "metadata": {},
     "output_type": "display_data"
    },
    {
     "name": "stderr",
     "output_type": "stream",
     "text": [
      "train_augmented - Epoch 4/20: 00:08\n"
     ]
    },
    {
     "data": {
      "text/html": [
       "<pre style=\"white-space:pre;overflow-x:auto;line-height:normal;font-family:Menlo,'DejaVu Sans Mono',consolas,'Courier New',monospace\">train_augmented - Epoch <span style=\"color: #008080; text-decoration-color: #008080; font-weight: bold\">4</span>/<span style=\"color: #008080; text-decoration-color: #008080; font-weight: bold\">20</span> - Train Loss: <span style=\"color: #008080; text-decoration-color: #008080; font-weight: bold\">0.3291</span> - Validation Loss: <span style=\"color: #008080; text-decoration-color: #008080; font-weight: bold\">0.3227</span> - Accuracy: <span style=\"color: #008080; text-decoration-color: #008080; font-weight: bold\">0.8164</span> - Best Accuracy: \n",
       "<span style=\"color: #008080; text-decoration-color: #008080; font-weight: bold\">0.8164</span>\n",
       "</pre>\n"
      ],
      "text/plain": [
       "train_augmented - Epoch \u001b[1;36m4\u001b[0m/\u001b[1;36m20\u001b[0m - Train Loss: \u001b[1;36m0.3291\u001b[0m - Validation Loss: \u001b[1;36m0.3227\u001b[0m - Accuracy: \u001b[1;36m0.8164\u001b[0m - Best Accuracy: \n",
       "\u001b[1;36m0.8164\u001b[0m\n"
      ]
     },
     "metadata": {},
     "output_type": "display_data"
    },
    {
     "name": "stderr",
     "output_type": "stream",
     "text": [
      "train_augmented - Epoch 5/20: 00:08\n"
     ]
    },
    {
     "data": {
      "text/html": [
       "<pre style=\"white-space:pre;overflow-x:auto;line-height:normal;font-family:Menlo,'DejaVu Sans Mono',consolas,'Courier New',monospace\">train_augmented - Epoch <span style=\"color: #008080; text-decoration-color: #008080; font-weight: bold\">5</span>/<span style=\"color: #008080; text-decoration-color: #008080; font-weight: bold\">20</span> - Train Loss: <span style=\"color: #008080; text-decoration-color: #008080; font-weight: bold\">0.3249</span> - Validation Loss: <span style=\"color: #008080; text-decoration-color: #008080; font-weight: bold\">0.3363</span> - Accuracy: <span style=\"color: #008080; text-decoration-color: #008080; font-weight: bold\">0.8014</span> - Best Accuracy: \n",
       "<span style=\"color: #008080; text-decoration-color: #008080; font-weight: bold\">0.8164</span>\n",
       "</pre>\n"
      ],
      "text/plain": [
       "train_augmented - Epoch \u001b[1;36m5\u001b[0m/\u001b[1;36m20\u001b[0m - Train Loss: \u001b[1;36m0.3249\u001b[0m - Validation Loss: \u001b[1;36m0.3363\u001b[0m - Accuracy: \u001b[1;36m0.8014\u001b[0m - Best Accuracy: \n",
       "\u001b[1;36m0.8164\u001b[0m\n"
      ]
     },
     "metadata": {},
     "output_type": "display_data"
    },
    {
     "name": "stderr",
     "output_type": "stream",
     "text": [
      "train_augmented - Epoch 6/20: 00:08\n"
     ]
    },
    {
     "data": {
      "text/html": [
       "<pre style=\"white-space:pre;overflow-x:auto;line-height:normal;font-family:Menlo,'DejaVu Sans Mono',consolas,'Courier New',monospace\">train_augmented - Epoch <span style=\"color: #008080; text-decoration-color: #008080; font-weight: bold\">6</span>/<span style=\"color: #008080; text-decoration-color: #008080; font-weight: bold\">20</span> - Train Loss: <span style=\"color: #008080; text-decoration-color: #008080; font-weight: bold\">0.3211</span> - Validation Loss: <span style=\"color: #008080; text-decoration-color: #008080; font-weight: bold\">0.3250</span> - Accuracy: <span style=\"color: #008080; text-decoration-color: #008080; font-weight: bold\">0.8177</span> - Best Accuracy: \n",
       "<span style=\"color: #008080; text-decoration-color: #008080; font-weight: bold\">0.8177</span>\n",
       "</pre>\n"
      ],
      "text/plain": [
       "train_augmented - Epoch \u001b[1;36m6\u001b[0m/\u001b[1;36m20\u001b[0m - Train Loss: \u001b[1;36m0.3211\u001b[0m - Validation Loss: \u001b[1;36m0.3250\u001b[0m - Accuracy: \u001b[1;36m0.8177\u001b[0m - Best Accuracy: \n",
       "\u001b[1;36m0.8177\u001b[0m\n"
      ]
     },
     "metadata": {},
     "output_type": "display_data"
    },
    {
     "name": "stderr",
     "output_type": "stream",
     "text": [
      "train_augmented - Epoch 7/20: 00:09\n"
     ]
    },
    {
     "data": {
      "text/html": [
       "<pre style=\"white-space:pre;overflow-x:auto;line-height:normal;font-family:Menlo,'DejaVu Sans Mono',consolas,'Courier New',monospace\">train_augmented - Epoch <span style=\"color: #008080; text-decoration-color: #008080; font-weight: bold\">7</span>/<span style=\"color: #008080; text-decoration-color: #008080; font-weight: bold\">20</span> - Train Loss: <span style=\"color: #008080; text-decoration-color: #008080; font-weight: bold\">0.3186</span> - Validation Loss: <span style=\"color: #008080; text-decoration-color: #008080; font-weight: bold\">0.3125</span> - Accuracy: <span style=\"color: #008080; text-decoration-color: #008080; font-weight: bold\">0.8230</span> - Best Accuracy: \n",
       "<span style=\"color: #008080; text-decoration-color: #008080; font-weight: bold\">0.8230</span>\n",
       "</pre>\n"
      ],
      "text/plain": [
       "train_augmented - Epoch \u001b[1;36m7\u001b[0m/\u001b[1;36m20\u001b[0m - Train Loss: \u001b[1;36m0.3186\u001b[0m - Validation Loss: \u001b[1;36m0.3125\u001b[0m - Accuracy: \u001b[1;36m0.8230\u001b[0m - Best Accuracy: \n",
       "\u001b[1;36m0.8230\u001b[0m\n"
      ]
     },
     "metadata": {},
     "output_type": "display_data"
    },
    {
     "name": "stderr",
     "output_type": "stream",
     "text": [
      "train_augmented - Epoch 8/20: 00:09\n"
     ]
    },
    {
     "data": {
      "text/html": [
       "<pre style=\"white-space:pre;overflow-x:auto;line-height:normal;font-family:Menlo,'DejaVu Sans Mono',consolas,'Courier New',monospace\">train_augmented - Epoch <span style=\"color: #008080; text-decoration-color: #008080; font-weight: bold\">8</span>/<span style=\"color: #008080; text-decoration-color: #008080; font-weight: bold\">20</span> - Train Loss: <span style=\"color: #008080; text-decoration-color: #008080; font-weight: bold\">0.3152</span> - Validation Loss: <span style=\"color: #008080; text-decoration-color: #008080; font-weight: bold\">0.3212</span> - Accuracy: <span style=\"color: #008080; text-decoration-color: #008080; font-weight: bold\">0.8164</span> - Best Accuracy: \n",
       "<span style=\"color: #008080; text-decoration-color: #008080; font-weight: bold\">0.8230</span>\n",
       "</pre>\n"
      ],
      "text/plain": [
       "train_augmented - Epoch \u001b[1;36m8\u001b[0m/\u001b[1;36m20\u001b[0m - Train Loss: \u001b[1;36m0.3152\u001b[0m - Validation Loss: \u001b[1;36m0.3212\u001b[0m - Accuracy: \u001b[1;36m0.8164\u001b[0m - Best Accuracy: \n",
       "\u001b[1;36m0.8230\u001b[0m\n"
      ]
     },
     "metadata": {},
     "output_type": "display_data"
    },
    {
     "name": "stderr",
     "output_type": "stream",
     "text": [
      "train_augmented - Epoch 9/20: 00:08\n"
     ]
    },
    {
     "data": {
      "text/html": [
       "<pre style=\"white-space:pre;overflow-x:auto;line-height:normal;font-family:Menlo,'DejaVu Sans Mono',consolas,'Courier New',monospace\">train_augmented - Epoch <span style=\"color: #008080; text-decoration-color: #008080; font-weight: bold\">9</span>/<span style=\"color: #008080; text-decoration-color: #008080; font-weight: bold\">20</span> - Train Loss: <span style=\"color: #008080; text-decoration-color: #008080; font-weight: bold\">0.3144</span> - Validation Loss: <span style=\"color: #008080; text-decoration-color: #008080; font-weight: bold\">0.3160</span> - Accuracy: <span style=\"color: #008080; text-decoration-color: #008080; font-weight: bold\">0.8109</span> - Best Accuracy: \n",
       "<span style=\"color: #008080; text-decoration-color: #008080; font-weight: bold\">0.8230</span>\n",
       "</pre>\n"
      ],
      "text/plain": [
       "train_augmented - Epoch \u001b[1;36m9\u001b[0m/\u001b[1;36m20\u001b[0m - Train Loss: \u001b[1;36m0.3144\u001b[0m - Validation Loss: \u001b[1;36m0.3160\u001b[0m - Accuracy: \u001b[1;36m0.8109\u001b[0m - Best Accuracy: \n",
       "\u001b[1;36m0.8230\u001b[0m\n"
      ]
     },
     "metadata": {},
     "output_type": "display_data"
    },
    {
     "name": "stderr",
     "output_type": "stream",
     "text": [
      "train_augmented - Epoch 10/20: 00:08\n"
     ]
    },
    {
     "data": {
      "text/html": [
       "<pre style=\"white-space:pre;overflow-x:auto;line-height:normal;font-family:Menlo,'DejaVu Sans Mono',consolas,'Courier New',monospace\">train_augmented - Epoch <span style=\"color: #008080; text-decoration-color: #008080; font-weight: bold\">10</span>/<span style=\"color: #008080; text-decoration-color: #008080; font-weight: bold\">20</span> - Train Loss: <span style=\"color: #008080; text-decoration-color: #008080; font-weight: bold\">0.3121</span> - Validation Loss: <span style=\"color: #008080; text-decoration-color: #008080; font-weight: bold\">0.3140</span> - Accuracy: <span style=\"color: #008080; text-decoration-color: #008080; font-weight: bold\">0.8203</span> - Best Accuracy: \n",
       "<span style=\"color: #008080; text-decoration-color: #008080; font-weight: bold\">0.8230</span>\n",
       "</pre>\n"
      ],
      "text/plain": [
       "train_augmented - Epoch \u001b[1;36m10\u001b[0m/\u001b[1;36m20\u001b[0m - Train Loss: \u001b[1;36m0.3121\u001b[0m - Validation Loss: \u001b[1;36m0.3140\u001b[0m - Accuracy: \u001b[1;36m0.8203\u001b[0m - Best Accuracy: \n",
       "\u001b[1;36m0.8230\u001b[0m\n"
      ]
     },
     "metadata": {},
     "output_type": "display_data"
    },
    {
     "name": "stderr",
     "output_type": "stream",
     "text": [
      "train_augmented - Epoch 11/20: 00:09\n"
     ]
    },
    {
     "data": {
      "text/html": [
       "<pre style=\"white-space:pre;overflow-x:auto;line-height:normal;font-family:Menlo,'DejaVu Sans Mono',consolas,'Courier New',monospace\">train_augmented - Epoch <span style=\"color: #008080; text-decoration-color: #008080; font-weight: bold\">11</span>/<span style=\"color: #008080; text-decoration-color: #008080; font-weight: bold\">20</span> - Train Loss: <span style=\"color: #008080; text-decoration-color: #008080; font-weight: bold\">0.3092</span> - Validation Loss: <span style=\"color: #008080; text-decoration-color: #008080; font-weight: bold\">0.3150</span> - Accuracy: <span style=\"color: #008080; text-decoration-color: #008080; font-weight: bold\">0.8178</span> - Best Accuracy: \n",
       "<span style=\"color: #008080; text-decoration-color: #008080; font-weight: bold\">0.8230</span>\n",
       "</pre>\n"
      ],
      "text/plain": [
       "train_augmented - Epoch \u001b[1;36m11\u001b[0m/\u001b[1;36m20\u001b[0m - Train Loss: \u001b[1;36m0.3092\u001b[0m - Validation Loss: \u001b[1;36m0.3150\u001b[0m - Accuracy: \u001b[1;36m0.8178\u001b[0m - Best Accuracy: \n",
       "\u001b[1;36m0.8230\u001b[0m\n"
      ]
     },
     "metadata": {},
     "output_type": "display_data"
    },
    {
     "name": "stderr",
     "output_type": "stream",
     "text": [
      "train_augmented - Epoch 12/20: 00:08\n"
     ]
    },
    {
     "data": {
      "text/html": [
       "<pre style=\"white-space:pre;overflow-x:auto;line-height:normal;font-family:Menlo,'DejaVu Sans Mono',consolas,'Courier New',monospace\">train_augmented - Epoch <span style=\"color: #008080; text-decoration-color: #008080; font-weight: bold\">12</span>/<span style=\"color: #008080; text-decoration-color: #008080; font-weight: bold\">20</span> - Train Loss: <span style=\"color: #008080; text-decoration-color: #008080; font-weight: bold\">0.3082</span> - Validation Loss: <span style=\"color: #008080; text-decoration-color: #008080; font-weight: bold\">0.3073</span> - Accuracy: <span style=\"color: #008080; text-decoration-color: #008080; font-weight: bold\">0.8272</span> - Best Accuracy: \n",
       "<span style=\"color: #008080; text-decoration-color: #008080; font-weight: bold\">0.8272</span>\n",
       "</pre>\n"
      ],
      "text/plain": [
       "train_augmented - Epoch \u001b[1;36m12\u001b[0m/\u001b[1;36m20\u001b[0m - Train Loss: \u001b[1;36m0.3082\u001b[0m - Validation Loss: \u001b[1;36m0.3073\u001b[0m - Accuracy: \u001b[1;36m0.8272\u001b[0m - Best Accuracy: \n",
       "\u001b[1;36m0.8272\u001b[0m\n"
      ]
     },
     "metadata": {},
     "output_type": "display_data"
    },
    {
     "name": "stderr",
     "output_type": "stream",
     "text": [
      "train_augmented - Epoch 13/20: 00:09\n"
     ]
    },
    {
     "data": {
      "text/html": [
       "<pre style=\"white-space:pre;overflow-x:auto;line-height:normal;font-family:Menlo,'DejaVu Sans Mono',consolas,'Courier New',monospace\">train_augmented - Epoch <span style=\"color: #008080; text-decoration-color: #008080; font-weight: bold\">13</span>/<span style=\"color: #008080; text-decoration-color: #008080; font-weight: bold\">20</span> - Train Loss: <span style=\"color: #008080; text-decoration-color: #008080; font-weight: bold\">0.3079</span> - Validation Loss: <span style=\"color: #008080; text-decoration-color: #008080; font-weight: bold\">0.3314</span> - Accuracy: <span style=\"color: #008080; text-decoration-color: #008080; font-weight: bold\">0.8112</span> - Best Accuracy: \n",
       "<span style=\"color: #008080; text-decoration-color: #008080; font-weight: bold\">0.8272</span>\n",
       "</pre>\n"
      ],
      "text/plain": [
       "train_augmented - Epoch \u001b[1;36m13\u001b[0m/\u001b[1;36m20\u001b[0m - Train Loss: \u001b[1;36m0.3079\u001b[0m - Validation Loss: \u001b[1;36m0.3314\u001b[0m - Accuracy: \u001b[1;36m0.8112\u001b[0m - Best Accuracy: \n",
       "\u001b[1;36m0.8272\u001b[0m\n"
      ]
     },
     "metadata": {},
     "output_type": "display_data"
    },
    {
     "name": "stderr",
     "output_type": "stream",
     "text": [
      "train_augmented - Epoch 14/20: 00:08\n"
     ]
    },
    {
     "data": {
      "text/html": [
       "<pre style=\"white-space:pre;overflow-x:auto;line-height:normal;font-family:Menlo,'DejaVu Sans Mono',consolas,'Courier New',monospace\">train_augmented - Epoch <span style=\"color: #008080; text-decoration-color: #008080; font-weight: bold\">14</span>/<span style=\"color: #008080; text-decoration-color: #008080; font-weight: bold\">20</span> - Train Loss: <span style=\"color: #008080; text-decoration-color: #008080; font-weight: bold\">0.3069</span> - Validation Loss: <span style=\"color: #008080; text-decoration-color: #008080; font-weight: bold\">0.3108</span> - Accuracy: <span style=\"color: #008080; text-decoration-color: #008080; font-weight: bold\">0.8222</span> - Best Accuracy: \n",
       "<span style=\"color: #008080; text-decoration-color: #008080; font-weight: bold\">0.8272</span>\n",
       "</pre>\n"
      ],
      "text/plain": [
       "train_augmented - Epoch \u001b[1;36m14\u001b[0m/\u001b[1;36m20\u001b[0m - Train Loss: \u001b[1;36m0.3069\u001b[0m - Validation Loss: \u001b[1;36m0.3108\u001b[0m - Accuracy: \u001b[1;36m0.8222\u001b[0m - Best Accuracy: \n",
       "\u001b[1;36m0.8272\u001b[0m\n"
      ]
     },
     "metadata": {},
     "output_type": "display_data"
    },
    {
     "name": "stderr",
     "output_type": "stream",
     "text": [
      "train_augmented - Epoch 15/20: 00:08\n"
     ]
    },
    {
     "data": {
      "text/html": [
       "<pre style=\"white-space:pre;overflow-x:auto;line-height:normal;font-family:Menlo,'DejaVu Sans Mono',consolas,'Courier New',monospace\">train_augmented - Epoch <span style=\"color: #008080; text-decoration-color: #008080; font-weight: bold\">15</span>/<span style=\"color: #008080; text-decoration-color: #008080; font-weight: bold\">20</span> - Train Loss: <span style=\"color: #008080; text-decoration-color: #008080; font-weight: bold\">0.3061</span> - Validation Loss: <span style=\"color: #008080; text-decoration-color: #008080; font-weight: bold\">0.3091</span> - Accuracy: <span style=\"color: #008080; text-decoration-color: #008080; font-weight: bold\">0.8214</span> - Best Accuracy: \n",
       "<span style=\"color: #008080; text-decoration-color: #008080; font-weight: bold\">0.8272</span>\n",
       "</pre>\n"
      ],
      "text/plain": [
       "train_augmented - Epoch \u001b[1;36m15\u001b[0m/\u001b[1;36m20\u001b[0m - Train Loss: \u001b[1;36m0.3061\u001b[0m - Validation Loss: \u001b[1;36m0.3091\u001b[0m - Accuracy: \u001b[1;36m0.8214\u001b[0m - Best Accuracy: \n",
       "\u001b[1;36m0.8272\u001b[0m\n"
      ]
     },
     "metadata": {},
     "output_type": "display_data"
    },
    {
     "name": "stderr",
     "output_type": "stream",
     "text": [
      "train_augmented - Epoch 16/20: 00:09\n"
     ]
    },
    {
     "data": {
      "text/html": [
       "<pre style=\"white-space:pre;overflow-x:auto;line-height:normal;font-family:Menlo,'DejaVu Sans Mono',consolas,'Courier New',monospace\">train_augmented - Epoch <span style=\"color: #008080; text-decoration-color: #008080; font-weight: bold\">16</span>/<span style=\"color: #008080; text-decoration-color: #008080; font-weight: bold\">20</span> - Train Loss: <span style=\"color: #008080; text-decoration-color: #008080; font-weight: bold\">0.3051</span> - Validation Loss: <span style=\"color: #008080; text-decoration-color: #008080; font-weight: bold\">0.3401</span> - Accuracy: <span style=\"color: #008080; text-decoration-color: #008080; font-weight: bold\">0.7961</span> - Best Accuracy: \n",
       "<span style=\"color: #008080; text-decoration-color: #008080; font-weight: bold\">0.8272</span>\n",
       "</pre>\n"
      ],
      "text/plain": [
       "train_augmented - Epoch \u001b[1;36m16\u001b[0m/\u001b[1;36m20\u001b[0m - Train Loss: \u001b[1;36m0.3051\u001b[0m - Validation Loss: \u001b[1;36m0.3401\u001b[0m - Accuracy: \u001b[1;36m0.7961\u001b[0m - Best Accuracy: \n",
       "\u001b[1;36m0.8272\u001b[0m\n"
      ]
     },
     "metadata": {},
     "output_type": "display_data"
    },
    {
     "name": "stderr",
     "output_type": "stream",
     "text": [
      "train_augmented - Epoch 17/20: 00:08\n"
     ]
    },
    {
     "data": {
      "text/html": [
       "<pre style=\"white-space:pre;overflow-x:auto;line-height:normal;font-family:Menlo,'DejaVu Sans Mono',consolas,'Courier New',monospace\">train_augmented - Epoch <span style=\"color: #008080; text-decoration-color: #008080; font-weight: bold\">17</span>/<span style=\"color: #008080; text-decoration-color: #008080; font-weight: bold\">20</span> - Train Loss: <span style=\"color: #008080; text-decoration-color: #008080; font-weight: bold\">0.3038</span> - Validation Loss: <span style=\"color: #008080; text-decoration-color: #008080; font-weight: bold\">0.3070</span> - Accuracy: <span style=\"color: #008080; text-decoration-color: #008080; font-weight: bold\">0.8268</span> - Best Accuracy: \n",
       "<span style=\"color: #008080; text-decoration-color: #008080; font-weight: bold\">0.8272</span>\n",
       "</pre>\n"
      ],
      "text/plain": [
       "train_augmented - Epoch \u001b[1;36m17\u001b[0m/\u001b[1;36m20\u001b[0m - Train Loss: \u001b[1;36m0.3038\u001b[0m - Validation Loss: \u001b[1;36m0.3070\u001b[0m - Accuracy: \u001b[1;36m0.8268\u001b[0m - Best Accuracy: \n",
       "\u001b[1;36m0.8272\u001b[0m\n"
      ]
     },
     "metadata": {},
     "output_type": "display_data"
    },
    {
     "name": "stderr",
     "output_type": "stream",
     "text": [
      "train_augmented - Epoch 18/20: 00:08\n"
     ]
    },
    {
     "data": {
      "text/html": [
       "<pre style=\"white-space:pre;overflow-x:auto;line-height:normal;font-family:Menlo,'DejaVu Sans Mono',consolas,'Courier New',monospace\">train_augmented - Epoch <span style=\"color: #008080; text-decoration-color: #008080; font-weight: bold\">18</span>/<span style=\"color: #008080; text-decoration-color: #008080; font-weight: bold\">20</span> - Train Loss: <span style=\"color: #008080; text-decoration-color: #008080; font-weight: bold\">0.3027</span> - Validation Loss: <span style=\"color: #008080; text-decoration-color: #008080; font-weight: bold\">0.3192</span> - Accuracy: <span style=\"color: #008080; text-decoration-color: #008080; font-weight: bold\">0.8232</span> - Best Accuracy: \n",
       "<span style=\"color: #008080; text-decoration-color: #008080; font-weight: bold\">0.8272</span>\n",
       "</pre>\n"
      ],
      "text/plain": [
       "train_augmented - Epoch \u001b[1;36m18\u001b[0m/\u001b[1;36m20\u001b[0m - Train Loss: \u001b[1;36m0.3027\u001b[0m - Validation Loss: \u001b[1;36m0.3192\u001b[0m - Accuracy: \u001b[1;36m0.8232\u001b[0m - Best Accuracy: \n",
       "\u001b[1;36m0.8272\u001b[0m\n"
      ]
     },
     "metadata": {},
     "output_type": "display_data"
    },
    {
     "name": "stderr",
     "output_type": "stream",
     "text": [
      "train_augmented - Epoch 19/20: 00:09\n"
     ]
    },
    {
     "data": {
      "text/html": [
       "<pre style=\"white-space:pre;overflow-x:auto;line-height:normal;font-family:Menlo,'DejaVu Sans Mono',consolas,'Courier New',monospace\">train_augmented - Epoch <span style=\"color: #008080; text-decoration-color: #008080; font-weight: bold\">19</span>/<span style=\"color: #008080; text-decoration-color: #008080; font-weight: bold\">20</span> - Train Loss: <span style=\"color: #008080; text-decoration-color: #008080; font-weight: bold\">0.3025</span> - Validation Loss: <span style=\"color: #008080; text-decoration-color: #008080; font-weight: bold\">0.3141</span> - Accuracy: <span style=\"color: #008080; text-decoration-color: #008080; font-weight: bold\">0.8229</span> - Best Accuracy: \n",
       "<span style=\"color: #008080; text-decoration-color: #008080; font-weight: bold\">0.8272</span>\n",
       "</pre>\n"
      ],
      "text/plain": [
       "train_augmented - Epoch \u001b[1;36m19\u001b[0m/\u001b[1;36m20\u001b[0m - Train Loss: \u001b[1;36m0.3025\u001b[0m - Validation Loss: \u001b[1;36m0.3141\u001b[0m - Accuracy: \u001b[1;36m0.8229\u001b[0m - Best Accuracy: \n",
       "\u001b[1;36m0.8272\u001b[0m\n"
      ]
     },
     "metadata": {},
     "output_type": "display_data"
    },
    {
     "name": "stderr",
     "output_type": "stream",
     "text": [
      "train_augmented - Epoch 20/20: 00:08\n"
     ]
    },
    {
     "data": {
      "text/html": [
       "<pre style=\"white-space:pre;overflow-x:auto;line-height:normal;font-family:Menlo,'DejaVu Sans Mono',consolas,'Courier New',monospace\">train_augmented - Epoch <span style=\"color: #008080; text-decoration-color: #008080; font-weight: bold\">20</span>/<span style=\"color: #008080; text-decoration-color: #008080; font-weight: bold\">20</span> - Train Loss: <span style=\"color: #008080; text-decoration-color: #008080; font-weight: bold\">0.3016</span> - Validation Loss: <span style=\"color: #008080; text-decoration-color: #008080; font-weight: bold\">0.3137</span> - Accuracy: <span style=\"color: #008080; text-decoration-color: #008080; font-weight: bold\">0.8198</span> - Best Accuracy: \n",
       "<span style=\"color: #008080; text-decoration-color: #008080; font-weight: bold\">0.8272</span>\n",
       "</pre>\n"
      ],
      "text/plain": [
       "train_augmented - Epoch \u001b[1;36m20\u001b[0m/\u001b[1;36m20\u001b[0m - Train Loss: \u001b[1;36m0.3016\u001b[0m - Validation Loss: \u001b[1;36m0.3137\u001b[0m - Accuracy: \u001b[1;36m0.8198\u001b[0m - Best Accuracy: \n",
       "\u001b[1;36m0.8272\u001b[0m\n"
      ]
     },
     "metadata": {},
     "output_type": "display_data"
    },
    {
     "name": "stderr",
     "output_type": "stream",
     "text": [
      "/tmp/ipykernel_23/2417232063.py:177: FutureWarning: You are using `torch.load` with `weights_only=False` (the current default value), which uses the default pickle module implicitly. It is possible to construct malicious pickle data which will execute arbitrary code during unpickling (See https://github.com/pytorch/pytorch/blob/main/SECURITY.md#untrusted-models for more details). In a future release, the default value for `weights_only` will be flipped to `True`. This limits the functions that could be executed during unpickling. Arbitrary objects will no longer be allowed to be loaded via this mode unless they are explicitly allowlisted by the user via `torch.serialization.add_safe_globals`. We recommend you start setting `weights_only=True` for any use case where you don't have full control of the loaded file. Please open an issue on GitHub for any issues related to this experimental feature.\n",
      "  checkpoint = torch.load(best_model_path)\n"
     ]
    },
    {
     "data": {
      "text/html": [
       "<pre style=\"white-space:pre;overflow-x:auto;line-height:normal;font-family:Menlo,'DejaVu Sans Mono',consolas,'Courier New',monospace\">\n",
       "Evaluating model for dataset: train_augmented\n",
       "</pre>\n"
      ],
      "text/plain": [
       "\n",
       "Evaluating model for dataset: train_augmented\n"
      ]
     },
     "metadata": {},
     "output_type": "display_data"
    },
    {
     "data": {
      "text/html": [
       "<pre style=\"white-space:pre;overflow-x:auto;line-height:normal;font-family:Menlo,'DejaVu Sans Mono',consolas,'Courier New',monospace\">\n",
       "Classification Report:\n",
       "</pre>\n"
      ],
      "text/plain": [
       "\n",
       "Classification Report:\n"
      ]
     },
     "metadata": {},
     "output_type": "display_data"
    },
    {
     "data": {
      "text/html": [
       "<pre style=\"white-space:pre;overflow-x:auto;line-height:normal;font-family:Menlo,'DejaVu Sans Mono',consolas,'Courier New',monospace\">              precision    recall  f1-score   support\n",
       "\n",
       "        DDoS       <span style=\"color: #008080; text-decoration-color: #008080; font-weight: bold\">0.69</span>      <span style=\"color: #008080; text-decoration-color: #008080; font-weight: bold\">0.64</span>      <span style=\"color: #008080; text-decoration-color: #008080; font-weight: bold\">0.66</span>      <span style=\"color: #008080; text-decoration-color: #008080; font-weight: bold\">9651</span>\n",
       "         DoS       <span style=\"color: #008080; text-decoration-color: #008080; font-weight: bold\">0.66</span>      <span style=\"color: #008080; text-decoration-color: #008080; font-weight: bold\">0.71</span>      <span style=\"color: #008080; text-decoration-color: #008080; font-weight: bold\">0.68</span>      <span style=\"color: #008080; text-decoration-color: #008080; font-weight: bold\">9668</span>\n",
       "        MQTT       <span style=\"color: #008080; text-decoration-color: #008080; font-weight: bold\">1.00</span>      <span style=\"color: #008080; text-decoration-color: #008080; font-weight: bold\">0.97</span>      <span style=\"color: #008080; text-decoration-color: #008080; font-weight: bold\">0.98</span>      <span style=\"color: #008080; text-decoration-color: #008080; font-weight: bold\">9502</span>\n",
       "       RECON       <span style=\"color: #008080; text-decoration-color: #008080; font-weight: bold\">1.00</span>      <span style=\"color: #008080; text-decoration-color: #008080; font-weight: bold\">0.91</span>      <span style=\"color: #008080; text-decoration-color: #008080; font-weight: bold\">0.95</span>      <span style=\"color: #008080; text-decoration-color: #008080; font-weight: bold\">9700</span>\n",
       "    SPOOFING       <span style=\"color: #008080; text-decoration-color: #008080; font-weight: bold\">0.81</span>      <span style=\"color: #008080; text-decoration-color: #008080; font-weight: bold\">0.99</span>      <span style=\"color: #008080; text-decoration-color: #008080; font-weight: bold\">0.89</span>      <span style=\"color: #008080; text-decoration-color: #008080; font-weight: bold\">4806</span>\n",
       "\n",
       "    accuracy                           <span style=\"color: #008080; text-decoration-color: #008080; font-weight: bold\">0.83</span>     <span style=\"color: #008080; text-decoration-color: #008080; font-weight: bold\">43327</span>\n",
       "   macro avg       <span style=\"color: #008080; text-decoration-color: #008080; font-weight: bold\">0.83</span>      <span style=\"color: #008080; text-decoration-color: #008080; font-weight: bold\">0.84</span>      <span style=\"color: #008080; text-decoration-color: #008080; font-weight: bold\">0.83</span>     <span style=\"color: #008080; text-decoration-color: #008080; font-weight: bold\">43327</span>\n",
       "weighted avg       <span style=\"color: #008080; text-decoration-color: #008080; font-weight: bold\">0.83</span>      <span style=\"color: #008080; text-decoration-color: #008080; font-weight: bold\">0.83</span>      <span style=\"color: #008080; text-decoration-color: #008080; font-weight: bold\">0.83</span>     <span style=\"color: #008080; text-decoration-color: #008080; font-weight: bold\">43327</span>\n",
       "\n",
       "</pre>\n"
      ],
      "text/plain": [
       "              precision    recall  f1-score   support\n",
       "\n",
       "        DDoS       \u001b[1;36m0.69\u001b[0m      \u001b[1;36m0.64\u001b[0m      \u001b[1;36m0.66\u001b[0m      \u001b[1;36m9651\u001b[0m\n",
       "         DoS       \u001b[1;36m0.66\u001b[0m      \u001b[1;36m0.71\u001b[0m      \u001b[1;36m0.68\u001b[0m      \u001b[1;36m9668\u001b[0m\n",
       "        MQTT       \u001b[1;36m1.00\u001b[0m      \u001b[1;36m0.97\u001b[0m      \u001b[1;36m0.98\u001b[0m      \u001b[1;36m9502\u001b[0m\n",
       "       RECON       \u001b[1;36m1.00\u001b[0m      \u001b[1;36m0.91\u001b[0m      \u001b[1;36m0.95\u001b[0m      \u001b[1;36m9700\u001b[0m\n",
       "    SPOOFING       \u001b[1;36m0.81\u001b[0m      \u001b[1;36m0.99\u001b[0m      \u001b[1;36m0.89\u001b[0m      \u001b[1;36m4806\u001b[0m\n",
       "\n",
       "    accuracy                           \u001b[1;36m0.83\u001b[0m     \u001b[1;36m43327\u001b[0m\n",
       "   macro avg       \u001b[1;36m0.83\u001b[0m      \u001b[1;36m0.84\u001b[0m      \u001b[1;36m0.83\u001b[0m     \u001b[1;36m43327\u001b[0m\n",
       "weighted avg       \u001b[1;36m0.83\u001b[0m      \u001b[1;36m0.83\u001b[0m      \u001b[1;36m0.83\u001b[0m     \u001b[1;36m43327\u001b[0m\n",
       "\n"
      ]
     },
     "metadata": {},
     "output_type": "display_data"
    },
    {
     "data": {
      "text/html": [
       "<pre style=\"white-space:pre;overflow-x:auto;line-height:normal;font-family:Menlo,'DejaVu Sans Mono',consolas,'Courier New',monospace\">\n",
       "Confusion Matrix:\n",
       "</pre>\n"
      ],
      "text/plain": [
       "\n",
       "Confusion Matrix:\n"
      ]
     },
     "metadata": {},
     "output_type": "display_data"
    },
    {
     "data": {
      "text/html": [
       "<pre style=\"white-space:pre;overflow-x:auto;line-height:normal;font-family:Menlo,'DejaVu Sans Mono',consolas,'Courier New',monospace\"><span style=\"font-weight: bold\">[[</span><span style=\"color: #008080; text-decoration-color: #008080; font-weight: bold\">6209</span> <span style=\"color: #008080; text-decoration-color: #008080; font-weight: bold\">3440</span>    <span style=\"color: #008080; text-decoration-color: #008080; font-weight: bold\">0</span>    <span style=\"color: #008080; text-decoration-color: #008080; font-weight: bold\">1</span>    <span style=\"color: #008080; text-decoration-color: #008080; font-weight: bold\">1</span><span style=\"font-weight: bold\">]</span>\n",
       " <span style=\"font-weight: bold\">[</span><span style=\"color: #008080; text-decoration-color: #008080; font-weight: bold\">2850</span> <span style=\"color: #008080; text-decoration-color: #008080; font-weight: bold\">6818</span>    <span style=\"color: #008080; text-decoration-color: #008080; font-weight: bold\">0</span>    <span style=\"color: #008080; text-decoration-color: #008080; font-weight: bold\">0</span>    <span style=\"color: #008080; text-decoration-color: #008080; font-weight: bold\">0</span><span style=\"font-weight: bold\">]</span>\n",
       " <span style=\"font-weight: bold\">[</span>   <span style=\"color: #008080; text-decoration-color: #008080; font-weight: bold\">0</span>    <span style=\"color: #008080; text-decoration-color: #008080; font-weight: bold\">3</span> <span style=\"color: #008080; text-decoration-color: #008080; font-weight: bold\">9187</span>    <span style=\"color: #008080; text-decoration-color: #008080; font-weight: bold\">7</span>  <span style=\"color: #008080; text-decoration-color: #008080; font-weight: bold\">305</span><span style=\"font-weight: bold\">]</span>\n",
       " <span style=\"font-weight: bold\">[</span>   <span style=\"color: #008080; text-decoration-color: #008080; font-weight: bold\">0</span>    <span style=\"color: #008080; text-decoration-color: #008080; font-weight: bold\">1</span>    <span style=\"color: #008080; text-decoration-color: #008080; font-weight: bold\">4</span> <span style=\"color: #008080; text-decoration-color: #008080; font-weight: bold\">8854</span>  <span style=\"color: #008080; text-decoration-color: #008080; font-weight: bold\">841</span><span style=\"font-weight: bold\">]</span>\n",
       " <span style=\"font-weight: bold\">[</span>   <span style=\"color: #008080; text-decoration-color: #008080; font-weight: bold\">0</span>    <span style=\"color: #008080; text-decoration-color: #008080; font-weight: bold\">1</span>   <span style=\"color: #008080; text-decoration-color: #008080; font-weight: bold\">14</span>   <span style=\"color: #008080; text-decoration-color: #008080; font-weight: bold\">17</span> <span style=\"color: #008080; text-decoration-color: #008080; font-weight: bold\">4774</span><span style=\"font-weight: bold\">]]</span>\n",
       "</pre>\n"
      ],
      "text/plain": [
       "\u001b[1m[\u001b[0m\u001b[1m[\u001b[0m\u001b[1;36m6209\u001b[0m \u001b[1;36m3440\u001b[0m    \u001b[1;36m0\u001b[0m    \u001b[1;36m1\u001b[0m    \u001b[1;36m1\u001b[0m\u001b[1m]\u001b[0m\n",
       " \u001b[1m[\u001b[0m\u001b[1;36m2850\u001b[0m \u001b[1;36m6818\u001b[0m    \u001b[1;36m0\u001b[0m    \u001b[1;36m0\u001b[0m    \u001b[1;36m0\u001b[0m\u001b[1m]\u001b[0m\n",
       " \u001b[1m[\u001b[0m   \u001b[1;36m0\u001b[0m    \u001b[1;36m3\u001b[0m \u001b[1;36m9187\u001b[0m    \u001b[1;36m7\u001b[0m  \u001b[1;36m305\u001b[0m\u001b[1m]\u001b[0m\n",
       " \u001b[1m[\u001b[0m   \u001b[1;36m0\u001b[0m    \u001b[1;36m1\u001b[0m    \u001b[1;36m4\u001b[0m \u001b[1;36m8854\u001b[0m  \u001b[1;36m841\u001b[0m\u001b[1m]\u001b[0m\n",
       " \u001b[1m[\u001b[0m   \u001b[1;36m0\u001b[0m    \u001b[1;36m1\u001b[0m   \u001b[1;36m14\u001b[0m   \u001b[1;36m17\u001b[0m \u001b[1;36m4774\u001b[0m\u001b[1m]\u001b[0m\u001b[1m]\u001b[0m\n"
      ]
     },
     "metadata": {},
     "output_type": "display_data"
    },
    {
     "data": {
      "text/html": [
       "<pre style=\"white-space:pre;overflow-x:auto;line-height:normal;font-family:Menlo,'DejaVu Sans Mono',consolas,'Courier New',monospace\">\n",
       "Training on dataset: train_sel_hclust\n",
       "</pre>\n"
      ],
      "text/plain": [
       "\n",
       "Training on dataset: train_sel_hclust\n"
      ]
     },
     "metadata": {},
     "output_type": "display_data"
    },
    {
     "name": "stderr",
     "output_type": "stream",
     "text": [
      "train_sel_hclust - Epoch 1/20: 01:16\n"
     ]
    },
    {
     "data": {
      "text/html": [
       "<pre style=\"white-space:pre;overflow-x:auto;line-height:normal;font-family:Menlo,'DejaVu Sans Mono',consolas,'Courier New',monospace\">train_sel_hclust - Epoch <span style=\"color: #008080; text-decoration-color: #008080; font-weight: bold\">1</span>/<span style=\"color: #008080; text-decoration-color: #008080; font-weight: bold\">20</span> - Train Loss: <span style=\"color: #008080; text-decoration-color: #008080; font-weight: bold\">0.3141</span> - Validation Loss: <span style=\"color: #008080; text-decoration-color: #008080; font-weight: bold\">0.3719</span> - Accuracy: <span style=\"color: #008080; text-decoration-color: #008080; font-weight: bold\">0.5820</span> - Best Accuracy: \n",
       "<span style=\"color: #008080; text-decoration-color: #008080; font-weight: bold\">0.5820</span>\n",
       "</pre>\n"
      ],
      "text/plain": [
       "train_sel_hclust - Epoch \u001b[1;36m1\u001b[0m/\u001b[1;36m20\u001b[0m - Train Loss: \u001b[1;36m0.3141\u001b[0m - Validation Loss: \u001b[1;36m0.3719\u001b[0m - Accuracy: \u001b[1;36m0.5820\u001b[0m - Best Accuracy: \n",
       "\u001b[1;36m0.5820\u001b[0m\n"
      ]
     },
     "metadata": {},
     "output_type": "display_data"
    },
    {
     "name": "stderr",
     "output_type": "stream",
     "text": [
      "train_sel_hclust - Epoch 2/20: 01:16\n"
     ]
    },
    {
     "data": {
      "text/html": [
       "<pre style=\"white-space:pre;overflow-x:auto;line-height:normal;font-family:Menlo,'DejaVu Sans Mono',consolas,'Courier New',monospace\">train_sel_hclust - Epoch <span style=\"color: #008080; text-decoration-color: #008080; font-weight: bold\">2</span>/<span style=\"color: #008080; text-decoration-color: #008080; font-weight: bold\">20</span> - Train Loss: <span style=\"color: #008080; text-decoration-color: #008080; font-weight: bold\">0.2871</span> - Validation Loss: <span style=\"color: #008080; text-decoration-color: #008080; font-weight: bold\">0.2984</span> - Accuracy: <span style=\"color: #008080; text-decoration-color: #008080; font-weight: bold\">0.6960</span> - Best Accuracy: \n",
       "<span style=\"color: #008080; text-decoration-color: #008080; font-weight: bold\">0.6960</span>\n",
       "</pre>\n"
      ],
      "text/plain": [
       "train_sel_hclust - Epoch \u001b[1;36m2\u001b[0m/\u001b[1;36m20\u001b[0m - Train Loss: \u001b[1;36m0.2871\u001b[0m - Validation Loss: \u001b[1;36m0.2984\u001b[0m - Accuracy: \u001b[1;36m0.6960\u001b[0m - Best Accuracy: \n",
       "\u001b[1;36m0.6960\u001b[0m\n"
      ]
     },
     "metadata": {},
     "output_type": "display_data"
    },
    {
     "name": "stderr",
     "output_type": "stream",
     "text": [
      "train_sel_hclust - Epoch 3/20: 01:15\n"
     ]
    },
    {
     "data": {
      "text/html": [
       "<pre style=\"white-space:pre;overflow-x:auto;line-height:normal;font-family:Menlo,'DejaVu Sans Mono',consolas,'Courier New',monospace\">train_sel_hclust - Epoch <span style=\"color: #008080; text-decoration-color: #008080; font-weight: bold\">3</span>/<span style=\"color: #008080; text-decoration-color: #008080; font-weight: bold\">20</span> - Train Loss: <span style=\"color: #008080; text-decoration-color: #008080; font-weight: bold\">0.2802</span> - Validation Loss: <span style=\"color: #008080; text-decoration-color: #008080; font-weight: bold\">0.3034</span> - Accuracy: <span style=\"color: #008080; text-decoration-color: #008080; font-weight: bold\">0.7173</span> - Best Accuracy: \n",
       "<span style=\"color: #008080; text-decoration-color: #008080; font-weight: bold\">0.7173</span>\n",
       "</pre>\n"
      ],
      "text/plain": [
       "train_sel_hclust - Epoch \u001b[1;36m3\u001b[0m/\u001b[1;36m20\u001b[0m - Train Loss: \u001b[1;36m0.2802\u001b[0m - Validation Loss: \u001b[1;36m0.3034\u001b[0m - Accuracy: \u001b[1;36m0.7173\u001b[0m - Best Accuracy: \n",
       "\u001b[1;36m0.7173\u001b[0m\n"
      ]
     },
     "metadata": {},
     "output_type": "display_data"
    },
    {
     "name": "stderr",
     "output_type": "stream",
     "text": [
      "train_sel_hclust - Epoch 4/20: 01:15\n"
     ]
    },
    {
     "data": {
      "text/html": [
       "<pre style=\"white-space:pre;overflow-x:auto;line-height:normal;font-family:Menlo,'DejaVu Sans Mono',consolas,'Courier New',monospace\">train_sel_hclust - Epoch <span style=\"color: #008080; text-decoration-color: #008080; font-weight: bold\">4</span>/<span style=\"color: #008080; text-decoration-color: #008080; font-weight: bold\">20</span> - Train Loss: <span style=\"color: #008080; text-decoration-color: #008080; font-weight: bold\">0.2754</span> - Validation Loss: <span style=\"color: #008080; text-decoration-color: #008080; font-weight: bold\">0.3109</span> - Accuracy: <span style=\"color: #008080; text-decoration-color: #008080; font-weight: bold\">0.7056</span> - Best Accuracy: \n",
       "<span style=\"color: #008080; text-decoration-color: #008080; font-weight: bold\">0.7173</span>\n",
       "</pre>\n"
      ],
      "text/plain": [
       "train_sel_hclust - Epoch \u001b[1;36m4\u001b[0m/\u001b[1;36m20\u001b[0m - Train Loss: \u001b[1;36m0.2754\u001b[0m - Validation Loss: \u001b[1;36m0.3109\u001b[0m - Accuracy: \u001b[1;36m0.7056\u001b[0m - Best Accuracy: \n",
       "\u001b[1;36m0.7173\u001b[0m\n"
      ]
     },
     "metadata": {},
     "output_type": "display_data"
    },
    {
     "name": "stderr",
     "output_type": "stream",
     "text": [
      "train_sel_hclust - Epoch 5/20: 01:16\n"
     ]
    },
    {
     "data": {
      "text/html": [
       "<pre style=\"white-space:pre;overflow-x:auto;line-height:normal;font-family:Menlo,'DejaVu Sans Mono',consolas,'Courier New',monospace\">train_sel_hclust - Epoch <span style=\"color: #008080; text-decoration-color: #008080; font-weight: bold\">5</span>/<span style=\"color: #008080; text-decoration-color: #008080; font-weight: bold\">20</span> - Train Loss: <span style=\"color: #008080; text-decoration-color: #008080; font-weight: bold\">0.2717</span> - Validation Loss: <span style=\"color: #008080; text-decoration-color: #008080; font-weight: bold\">0.3033</span> - Accuracy: <span style=\"color: #008080; text-decoration-color: #008080; font-weight: bold\">0.6807</span> - Best Accuracy: \n",
       "<span style=\"color: #008080; text-decoration-color: #008080; font-weight: bold\">0.7173</span>\n",
       "</pre>\n"
      ],
      "text/plain": [
       "train_sel_hclust - Epoch \u001b[1;36m5\u001b[0m/\u001b[1;36m20\u001b[0m - Train Loss: \u001b[1;36m0.2717\u001b[0m - Validation Loss: \u001b[1;36m0.3033\u001b[0m - Accuracy: \u001b[1;36m0.6807\u001b[0m - Best Accuracy: \n",
       "\u001b[1;36m0.7173\u001b[0m\n"
      ]
     },
     "metadata": {},
     "output_type": "display_data"
    },
    {
     "name": "stderr",
     "output_type": "stream",
     "text": [
      "train_sel_hclust - Epoch 6/20: 01:15\n"
     ]
    },
    {
     "data": {
      "text/html": [
       "<pre style=\"white-space:pre;overflow-x:auto;line-height:normal;font-family:Menlo,'DejaVu Sans Mono',consolas,'Courier New',monospace\">train_sel_hclust - Epoch <span style=\"color: #008080; text-decoration-color: #008080; font-weight: bold\">6</span>/<span style=\"color: #008080; text-decoration-color: #008080; font-weight: bold\">20</span> - Train Loss: <span style=\"color: #008080; text-decoration-color: #008080; font-weight: bold\">0.2696</span> - Validation Loss: <span style=\"color: #008080; text-decoration-color: #008080; font-weight: bold\">0.3313</span> - Accuracy: <span style=\"color: #008080; text-decoration-color: #008080; font-weight: bold\">0.6702</span> - Best Accuracy: \n",
       "<span style=\"color: #008080; text-decoration-color: #008080; font-weight: bold\">0.7173</span>\n",
       "</pre>\n"
      ],
      "text/plain": [
       "train_sel_hclust - Epoch \u001b[1;36m6\u001b[0m/\u001b[1;36m20\u001b[0m - Train Loss: \u001b[1;36m0.2696\u001b[0m - Validation Loss: \u001b[1;36m0.3313\u001b[0m - Accuracy: \u001b[1;36m0.6702\u001b[0m - Best Accuracy: \n",
       "\u001b[1;36m0.7173\u001b[0m\n"
      ]
     },
     "metadata": {},
     "output_type": "display_data"
    },
    {
     "name": "stderr",
     "output_type": "stream",
     "text": [
      "train_sel_hclust - Epoch 7/20: 01:16\n"
     ]
    },
    {
     "data": {
      "text/html": [
       "<pre style=\"white-space:pre;overflow-x:auto;line-height:normal;font-family:Menlo,'DejaVu Sans Mono',consolas,'Courier New',monospace\">train_sel_hclust - Epoch <span style=\"color: #008080; text-decoration-color: #008080; font-weight: bold\">7</span>/<span style=\"color: #008080; text-decoration-color: #008080; font-weight: bold\">20</span> - Train Loss: <span style=\"color: #008080; text-decoration-color: #008080; font-weight: bold\">0.2680</span> - Validation Loss: <span style=\"color: #008080; text-decoration-color: #008080; font-weight: bold\">0.3582</span> - Accuracy: <span style=\"color: #008080; text-decoration-color: #008080; font-weight: bold\">0.6001</span> - Best Accuracy: \n",
       "<span style=\"color: #008080; text-decoration-color: #008080; font-weight: bold\">0.7173</span>\n",
       "</pre>\n"
      ],
      "text/plain": [
       "train_sel_hclust - Epoch \u001b[1;36m7\u001b[0m/\u001b[1;36m20\u001b[0m - Train Loss: \u001b[1;36m0.2680\u001b[0m - Validation Loss: \u001b[1;36m0.3582\u001b[0m - Accuracy: \u001b[1;36m0.6001\u001b[0m - Best Accuracy: \n",
       "\u001b[1;36m0.7173\u001b[0m\n"
      ]
     },
     "metadata": {},
     "output_type": "display_data"
    },
    {
     "name": "stderr",
     "output_type": "stream",
     "text": [
      "train_sel_hclust - Epoch 8/20: 01:15\n"
     ]
    },
    {
     "data": {
      "text/html": [
       "<pre style=\"white-space:pre;overflow-x:auto;line-height:normal;font-family:Menlo,'DejaVu Sans Mono',consolas,'Courier New',monospace\">train_sel_hclust - Epoch <span style=\"color: #008080; text-decoration-color: #008080; font-weight: bold\">8</span>/<span style=\"color: #008080; text-decoration-color: #008080; font-weight: bold\">20</span> - Train Loss: <span style=\"color: #008080; text-decoration-color: #008080; font-weight: bold\">0.2660</span> - Validation Loss: <span style=\"color: #008080; text-decoration-color: #008080; font-weight: bold\">0.3758</span> - Accuracy: <span style=\"color: #008080; text-decoration-color: #008080; font-weight: bold\">0.6420</span> - Best Accuracy: \n",
       "<span style=\"color: #008080; text-decoration-color: #008080; font-weight: bold\">0.7173</span>\n",
       "</pre>\n"
      ],
      "text/plain": [
       "train_sel_hclust - Epoch \u001b[1;36m8\u001b[0m/\u001b[1;36m20\u001b[0m - Train Loss: \u001b[1;36m0.2660\u001b[0m - Validation Loss: \u001b[1;36m0.3758\u001b[0m - Accuracy: \u001b[1;36m0.6420\u001b[0m - Best Accuracy: \n",
       "\u001b[1;36m0.7173\u001b[0m\n"
      ]
     },
     "metadata": {},
     "output_type": "display_data"
    },
    {
     "data": {
      "text/html": [
       "<pre style=\"white-space:pre;overflow-x:auto;line-height:normal;font-family:Menlo,'DejaVu Sans Mono',consolas,'Courier New',monospace\">No improvement for <span style=\"color: #008080; text-decoration-color: #008080; font-weight: bold\">5</span> epochs. Early stopping<span style=\"color: #808000; text-decoration-color: #808000\">...</span>\n",
       "</pre>\n"
      ],
      "text/plain": [
       "No improvement for \u001b[1;36m5\u001b[0m epochs. Early stopping\u001b[33m...\u001b[0m\n"
      ]
     },
     "metadata": {},
     "output_type": "display_data"
    },
    {
     "name": "stderr",
     "output_type": "stream",
     "text": [
      "/tmp/ipykernel_23/2417232063.py:177: FutureWarning: You are using `torch.load` with `weights_only=False` (the current default value), which uses the default pickle module implicitly. It is possible to construct malicious pickle data which will execute arbitrary code during unpickling (See https://github.com/pytorch/pytorch/blob/main/SECURITY.md#untrusted-models for more details). In a future release, the default value for `weights_only` will be flipped to `True`. This limits the functions that could be executed during unpickling. Arbitrary objects will no longer be allowed to be loaded via this mode unless they are explicitly allowlisted by the user via `torch.serialization.add_safe_globals`. We recommend you start setting `weights_only=True` for any use case where you don't have full control of the loaded file. Please open an issue on GitHub for any issues related to this experimental feature.\n",
      "  checkpoint = torch.load(best_model_path)\n"
     ]
    },
    {
     "data": {
      "text/html": [
       "<pre style=\"white-space:pre;overflow-x:auto;line-height:normal;font-family:Menlo,'DejaVu Sans Mono',consolas,'Courier New',monospace\">\n",
       "Evaluating model for dataset: train_sel_hclust\n",
       "</pre>\n"
      ],
      "text/plain": [
       "\n",
       "Evaluating model for dataset: train_sel_hclust\n"
      ]
     },
     "metadata": {},
     "output_type": "display_data"
    },
    {
     "data": {
      "text/html": [
       "<pre style=\"white-space:pre;overflow-x:auto;line-height:normal;font-family:Menlo,'DejaVu Sans Mono',consolas,'Courier New',monospace\">\n",
       "Classification Report:\n",
       "</pre>\n"
      ],
      "text/plain": [
       "\n",
       "Classification Report:\n"
      ]
     },
     "metadata": {},
     "output_type": "display_data"
    },
    {
     "data": {
      "text/html": [
       "<pre style=\"white-space:pre;overflow-x:auto;line-height:normal;font-family:Menlo,'DejaVu Sans Mono',consolas,'Courier New',monospace\">              precision    recall  f1-score   support\n",
       "\n",
       "      BENIGN       <span style=\"color: #008080; text-decoration-color: #008080; font-weight: bold\">1.00</span>      <span style=\"color: #008080; text-decoration-color: #008080; font-weight: bold\">1.00</span>      <span style=\"color: #008080; text-decoration-color: #008080; font-weight: bold\">1.00</span>     <span style=\"color: #008080; text-decoration-color: #008080; font-weight: bold\">57664</span>\n",
       "        DDoS       <span style=\"color: #008080; text-decoration-color: #008080; font-weight: bold\">0.73</span>      <span style=\"color: #008080; text-decoration-color: #008080; font-weight: bold\">0.67</span>      <span style=\"color: #008080; text-decoration-color: #008080; font-weight: bold\">0.70</span>    <span style=\"color: #008080; text-decoration-color: #008080; font-weight: bold\">175033</span>\n",
       "         DoS       <span style=\"color: #008080; text-decoration-color: #008080; font-weight: bold\">0.42</span>      <span style=\"color: #008080; text-decoration-color: #008080; font-weight: bold\">0.49</span>      <span style=\"color: #008080; text-decoration-color: #008080; font-weight: bold\">0.45</span>     <span style=\"color: #008080; text-decoration-color: #008080; font-weight: bold\">85315</span>\n",
       "        MQTT       <span style=\"color: #008080; text-decoration-color: #008080; font-weight: bold\">0.99</span>      <span style=\"color: #008080; text-decoration-color: #008080; font-weight: bold\">0.96</span>      <span style=\"color: #008080; text-decoration-color: #008080; font-weight: bold\">0.98</span>     <span style=\"color: #008080; text-decoration-color: #008080; font-weight: bold\">32040</span>\n",
       "       RECON       <span style=\"color: #008080; text-decoration-color: #008080; font-weight: bold\">1.00</span>      <span style=\"color: #008080; text-decoration-color: #008080; font-weight: bold\">0.90</span>      <span style=\"color: #008080; text-decoration-color: #008080; font-weight: bold\">0.95</span>     <span style=\"color: #008080; text-decoration-color: #008080; font-weight: bold\">15843</span>\n",
       "    SPOOFING       <span style=\"color: #008080; text-decoration-color: #008080; font-weight: bold\">0.64</span>      <span style=\"color: #008080; text-decoration-color: #008080; font-weight: bold\">0.99</span>      <span style=\"color: #008080; text-decoration-color: #008080; font-weight: bold\">0.78</span>      <span style=\"color: #008080; text-decoration-color: #008080; font-weight: bold\">4745</span>\n",
       "\n",
       "    accuracy                           <span style=\"color: #008080; text-decoration-color: #008080; font-weight: bold\">0.72</span>    <span style=\"color: #008080; text-decoration-color: #008080; font-weight: bold\">370640</span>\n",
       "   macro avg       <span style=\"color: #008080; text-decoration-color: #008080; font-weight: bold\">0.80</span>      <span style=\"color: #008080; text-decoration-color: #008080; font-weight: bold\">0.84</span>      <span style=\"color: #008080; text-decoration-color: #008080; font-weight: bold\">0.81</span>    <span style=\"color: #008080; text-decoration-color: #008080; font-weight: bold\">370640</span>\n",
       "weighted avg       <span style=\"color: #008080; text-decoration-color: #008080; font-weight: bold\">0.73</span>      <span style=\"color: #008080; text-decoration-color: #008080; font-weight: bold\">0.72</span>      <span style=\"color: #008080; text-decoration-color: #008080; font-weight: bold\">0.72</span>    <span style=\"color: #008080; text-decoration-color: #008080; font-weight: bold\">370640</span>\n",
       "\n",
       "</pre>\n"
      ],
      "text/plain": [
       "              precision    recall  f1-score   support\n",
       "\n",
       "      BENIGN       \u001b[1;36m1.00\u001b[0m      \u001b[1;36m1.00\u001b[0m      \u001b[1;36m1.00\u001b[0m     \u001b[1;36m57664\u001b[0m\n",
       "        DDoS       \u001b[1;36m0.73\u001b[0m      \u001b[1;36m0.67\u001b[0m      \u001b[1;36m0.70\u001b[0m    \u001b[1;36m175033\u001b[0m\n",
       "         DoS       \u001b[1;36m0.42\u001b[0m      \u001b[1;36m0.49\u001b[0m      \u001b[1;36m0.45\u001b[0m     \u001b[1;36m85315\u001b[0m\n",
       "        MQTT       \u001b[1;36m0.99\u001b[0m      \u001b[1;36m0.96\u001b[0m      \u001b[1;36m0.98\u001b[0m     \u001b[1;36m32040\u001b[0m\n",
       "       RECON       \u001b[1;36m1.00\u001b[0m      \u001b[1;36m0.90\u001b[0m      \u001b[1;36m0.95\u001b[0m     \u001b[1;36m15843\u001b[0m\n",
       "    SPOOFING       \u001b[1;36m0.64\u001b[0m      \u001b[1;36m0.99\u001b[0m      \u001b[1;36m0.78\u001b[0m      \u001b[1;36m4745\u001b[0m\n",
       "\n",
       "    accuracy                           \u001b[1;36m0.72\u001b[0m    \u001b[1;36m370640\u001b[0m\n",
       "   macro avg       \u001b[1;36m0.80\u001b[0m      \u001b[1;36m0.84\u001b[0m      \u001b[1;36m0.81\u001b[0m    \u001b[1;36m370640\u001b[0m\n",
       "weighted avg       \u001b[1;36m0.73\u001b[0m      \u001b[1;36m0.72\u001b[0m      \u001b[1;36m0.72\u001b[0m    \u001b[1;36m370640\u001b[0m\n",
       "\n"
      ]
     },
     "metadata": {},
     "output_type": "display_data"
    },
    {
     "data": {
      "text/html": [
       "<pre style=\"white-space:pre;overflow-x:auto;line-height:normal;font-family:Menlo,'DejaVu Sans Mono',consolas,'Courier New',monospace\">\n",
       "Confusion Matrix:\n",
       "</pre>\n"
      ],
      "text/plain": [
       "\n",
       "Confusion Matrix:\n"
      ]
     },
     "metadata": {},
     "output_type": "display_data"
    },
    {
     "data": {
      "text/html": [
       "<pre style=\"white-space:pre;overflow-x:auto;line-height:normal;font-family:Menlo,'DejaVu Sans Mono',consolas,'Courier New',monospace\"><span style=\"font-weight: bold\">[[</span> <span style=\"color: #008080; text-decoration-color: #008080; font-weight: bold\">57650</span>      <span style=\"color: #008080; text-decoration-color: #008080; font-weight: bold\">0</span>      <span style=\"color: #008080; text-decoration-color: #008080; font-weight: bold\">0</span>      <span style=\"color: #008080; text-decoration-color: #008080; font-weight: bold\">0</span>      <span style=\"color: #008080; text-decoration-color: #008080; font-weight: bold\">6</span>      <span style=\"color: #008080; text-decoration-color: #008080; font-weight: bold\">8</span><span style=\"font-weight: bold\">]</span>\n",
       " <span style=\"font-weight: bold\">[</span>     <span style=\"color: #008080; text-decoration-color: #008080; font-weight: bold\">4</span> <span style=\"color: #008080; text-decoration-color: #008080; font-weight: bold\">116627</span>  <span style=\"color: #008080; text-decoration-color: #008080; font-weight: bold\">58310</span>     <span style=\"color: #008080; text-decoration-color: #008080; font-weight: bold\">70</span>      <span style=\"color: #008080; text-decoration-color: #008080; font-weight: bold\">5</span>     <span style=\"color: #008080; text-decoration-color: #008080; font-weight: bold\">17</span><span style=\"font-weight: bold\">]</span>\n",
       " <span style=\"font-weight: bold\">[</span>     <span style=\"color: #008080; text-decoration-color: #008080; font-weight: bold\">0</span>  <span style=\"color: #008080; text-decoration-color: #008080; font-weight: bold\">43548</span>  <span style=\"color: #008080; text-decoration-color: #008080; font-weight: bold\">41675</span>     <span style=\"color: #008080; text-decoration-color: #008080; font-weight: bold\">75</span>      <span style=\"color: #008080; text-decoration-color: #008080; font-weight: bold\">7</span>     <span style=\"color: #008080; text-decoration-color: #008080; font-weight: bold\">10</span><span style=\"font-weight: bold\">]</span>\n",
       " <span style=\"font-weight: bold\">[</span>     <span style=\"color: #008080; text-decoration-color: #008080; font-weight: bold\">1</span>      <span style=\"color: #008080; text-decoration-color: #008080; font-weight: bold\">1</span>     <span style=\"color: #008080; text-decoration-color: #008080; font-weight: bold\">15</span>  <span style=\"color: #008080; text-decoration-color: #008080; font-weight: bold\">30892</span>     <span style=\"color: #008080; text-decoration-color: #008080; font-weight: bold\">10</span>   <span style=\"color: #008080; text-decoration-color: #008080; font-weight: bold\">1121</span><span style=\"font-weight: bold\">]</span>\n",
       " <span style=\"font-weight: bold\">[</span>    <span style=\"color: #008080; text-decoration-color: #008080; font-weight: bold\">29</span>      <span style=\"color: #008080; text-decoration-color: #008080; font-weight: bold\">0</span>      <span style=\"color: #008080; text-decoration-color: #008080; font-weight: bold\">3</span>      <span style=\"color: #008080; text-decoration-color: #008080; font-weight: bold\">8</span>  <span style=\"color: #008080; text-decoration-color: #008080; font-weight: bold\">14297</span>   <span style=\"color: #008080; text-decoration-color: #008080; font-weight: bold\">1506</span><span style=\"font-weight: bold\">]</span>\n",
       " <span style=\"font-weight: bold\">[</span>     <span style=\"color: #008080; text-decoration-color: #008080; font-weight: bold\">1</span>      <span style=\"color: #008080; text-decoration-color: #008080; font-weight: bold\">0</span>      <span style=\"color: #008080; text-decoration-color: #008080; font-weight: bold\">0</span>     <span style=\"color: #008080; text-decoration-color: #008080; font-weight: bold\">18</span>     <span style=\"color: #008080; text-decoration-color: #008080; font-weight: bold\">11</span>   <span style=\"color: #008080; text-decoration-color: #008080; font-weight: bold\">4715</span><span style=\"font-weight: bold\">]]</span>\n",
       "</pre>\n"
      ],
      "text/plain": [
       "\u001b[1m[\u001b[0m\u001b[1m[\u001b[0m \u001b[1;36m57650\u001b[0m      \u001b[1;36m0\u001b[0m      \u001b[1;36m0\u001b[0m      \u001b[1;36m0\u001b[0m      \u001b[1;36m6\u001b[0m      \u001b[1;36m8\u001b[0m\u001b[1m]\u001b[0m\n",
       " \u001b[1m[\u001b[0m     \u001b[1;36m4\u001b[0m \u001b[1;36m116627\u001b[0m  \u001b[1;36m58310\u001b[0m     \u001b[1;36m70\u001b[0m      \u001b[1;36m5\u001b[0m     \u001b[1;36m17\u001b[0m\u001b[1m]\u001b[0m\n",
       " \u001b[1m[\u001b[0m     \u001b[1;36m0\u001b[0m  \u001b[1;36m43548\u001b[0m  \u001b[1;36m41675\u001b[0m     \u001b[1;36m75\u001b[0m      \u001b[1;36m7\u001b[0m     \u001b[1;36m10\u001b[0m\u001b[1m]\u001b[0m\n",
       " \u001b[1m[\u001b[0m     \u001b[1;36m1\u001b[0m      \u001b[1;36m1\u001b[0m     \u001b[1;36m15\u001b[0m  \u001b[1;36m30892\u001b[0m     \u001b[1;36m10\u001b[0m   \u001b[1;36m1121\u001b[0m\u001b[1m]\u001b[0m\n",
       " \u001b[1m[\u001b[0m    \u001b[1;36m29\u001b[0m      \u001b[1;36m0\u001b[0m      \u001b[1;36m3\u001b[0m      \u001b[1;36m8\u001b[0m  \u001b[1;36m14297\u001b[0m   \u001b[1;36m1506\u001b[0m\u001b[1m]\u001b[0m\n",
       " \u001b[1m[\u001b[0m     \u001b[1;36m1\u001b[0m      \u001b[1;36m0\u001b[0m      \u001b[1;36m0\u001b[0m     \u001b[1;36m18\u001b[0m     \u001b[1;36m11\u001b[0m   \u001b[1;36m4715\u001b[0m\u001b[1m]\u001b[0m\u001b[1m]\u001b[0m\n"
      ]
     },
     "metadata": {},
     "output_type": "display_data"
    },
    {
     "data": {
      "text/html": [
       "<pre style=\"white-space:pre;overflow-x:auto;line-height:normal;font-family:Menlo,'DejaVu Sans Mono',consolas,'Courier New',monospace\">\n",
       "Training on dataset: merged_train\n",
       "</pre>\n"
      ],
      "text/plain": [
       "\n",
       "Training on dataset: merged_train\n"
      ]
     },
     "metadata": {},
     "output_type": "display_data"
    },
    {
     "name": "stderr",
     "output_type": "stream",
     "text": [
      "merged_train - Epoch 1/20: 01:15\n"
     ]
    },
    {
     "data": {
      "text/html": [
       "<pre style=\"white-space:pre;overflow-x:auto;line-height:normal;font-family:Menlo,'DejaVu Sans Mono',consolas,'Courier New',monospace\">merged_train - Epoch <span style=\"color: #008080; text-decoration-color: #008080; font-weight: bold\">1</span>/<span style=\"color: #008080; text-decoration-color: #008080; font-weight: bold\">20</span> - Train Loss: <span style=\"color: #008080; text-decoration-color: #008080; font-weight: bold\">0.4029</span> - Validation Loss: <span style=\"color: #008080; text-decoration-color: #008080; font-weight: bold\">0.3825</span> - Accuracy: <span style=\"color: #008080; text-decoration-color: #008080; font-weight: bold\">0.7515</span> - Best Accuracy: <span style=\"color: #008080; text-decoration-color: #008080; font-weight: bold\">0.7515</span>\n",
       "</pre>\n"
      ],
      "text/plain": [
       "merged_train - Epoch \u001b[1;36m1\u001b[0m/\u001b[1;36m20\u001b[0m - Train Loss: \u001b[1;36m0.4029\u001b[0m - Validation Loss: \u001b[1;36m0.3825\u001b[0m - Accuracy: \u001b[1;36m0.7515\u001b[0m - Best Accuracy: \u001b[1;36m0.7515\u001b[0m\n"
      ]
     },
     "metadata": {},
     "output_type": "display_data"
    },
    {
     "name": "stderr",
     "output_type": "stream",
     "text": [
      "merged_train - Epoch 2/20: 01:14\n"
     ]
    },
    {
     "data": {
      "text/html": [
       "<pre style=\"white-space:pre;overflow-x:auto;line-height:normal;font-family:Menlo,'DejaVu Sans Mono',consolas,'Courier New',monospace\">merged_train - Epoch <span style=\"color: #008080; text-decoration-color: #008080; font-weight: bold\">2</span>/<span style=\"color: #008080; text-decoration-color: #008080; font-weight: bold\">20</span> - Train Loss: <span style=\"color: #008080; text-decoration-color: #008080; font-weight: bold\">0.3636</span> - Validation Loss: <span style=\"color: #008080; text-decoration-color: #008080; font-weight: bold\">0.3610</span> - Accuracy: <span style=\"color: #008080; text-decoration-color: #008080; font-weight: bold\">0.7434</span> - Best Accuracy: <span style=\"color: #008080; text-decoration-color: #008080; font-weight: bold\">0.7515</span>\n",
       "</pre>\n"
      ],
      "text/plain": [
       "merged_train - Epoch \u001b[1;36m2\u001b[0m/\u001b[1;36m20\u001b[0m - Train Loss: \u001b[1;36m0.3636\u001b[0m - Validation Loss: \u001b[1;36m0.3610\u001b[0m - Accuracy: \u001b[1;36m0.7434\u001b[0m - Best Accuracy: \u001b[1;36m0.7515\u001b[0m\n"
      ]
     },
     "metadata": {},
     "output_type": "display_data"
    },
    {
     "name": "stderr",
     "output_type": "stream",
     "text": [
      "merged_train - Epoch 3/20: 01:15\n"
     ]
    },
    {
     "data": {
      "text/html": [
       "<pre style=\"white-space:pre;overflow-x:auto;line-height:normal;font-family:Menlo,'DejaVu Sans Mono',consolas,'Courier New',monospace\">merged_train - Epoch <span style=\"color: #008080; text-decoration-color: #008080; font-weight: bold\">3</span>/<span style=\"color: #008080; text-decoration-color: #008080; font-weight: bold\">20</span> - Train Loss: <span style=\"color: #008080; text-decoration-color: #008080; font-weight: bold\">0.3530</span> - Validation Loss: <span style=\"color: #008080; text-decoration-color: #008080; font-weight: bold\">0.3637</span> - Accuracy: <span style=\"color: #008080; text-decoration-color: #008080; font-weight: bold\">0.7349</span> - Best Accuracy: <span style=\"color: #008080; text-decoration-color: #008080; font-weight: bold\">0.7515</span>\n",
       "</pre>\n"
      ],
      "text/plain": [
       "merged_train - Epoch \u001b[1;36m3\u001b[0m/\u001b[1;36m20\u001b[0m - Train Loss: \u001b[1;36m0.3530\u001b[0m - Validation Loss: \u001b[1;36m0.3637\u001b[0m - Accuracy: \u001b[1;36m0.7349\u001b[0m - Best Accuracy: \u001b[1;36m0.7515\u001b[0m\n"
      ]
     },
     "metadata": {},
     "output_type": "display_data"
    },
    {
     "name": "stderr",
     "output_type": "stream",
     "text": [
      "merged_train - Epoch 4/20: 01:15\n"
     ]
    },
    {
     "data": {
      "text/html": [
       "<pre style=\"white-space:pre;overflow-x:auto;line-height:normal;font-family:Menlo,'DejaVu Sans Mono',consolas,'Courier New',monospace\">merged_train - Epoch <span style=\"color: #008080; text-decoration-color: #008080; font-weight: bold\">4</span>/<span style=\"color: #008080; text-decoration-color: #008080; font-weight: bold\">20</span> - Train Loss: <span style=\"color: #008080; text-decoration-color: #008080; font-weight: bold\">0.3471</span> - Validation Loss: <span style=\"color: #008080; text-decoration-color: #008080; font-weight: bold\">0.3704</span> - Accuracy: <span style=\"color: #008080; text-decoration-color: #008080; font-weight: bold\">0.7197</span> - Best Accuracy: <span style=\"color: #008080; text-decoration-color: #008080; font-weight: bold\">0.7515</span>\n",
       "</pre>\n"
      ],
      "text/plain": [
       "merged_train - Epoch \u001b[1;36m4\u001b[0m/\u001b[1;36m20\u001b[0m - Train Loss: \u001b[1;36m0.3471\u001b[0m - Validation Loss: \u001b[1;36m0.3704\u001b[0m - Accuracy: \u001b[1;36m0.7197\u001b[0m - Best Accuracy: \u001b[1;36m0.7515\u001b[0m\n"
      ]
     },
     "metadata": {},
     "output_type": "display_data"
    },
    {
     "name": "stderr",
     "output_type": "stream",
     "text": [
      "merged_train - Epoch 5/20: 01:15\n"
     ]
    },
    {
     "data": {
      "text/html": [
       "<pre style=\"white-space:pre;overflow-x:auto;line-height:normal;font-family:Menlo,'DejaVu Sans Mono',consolas,'Courier New',monospace\">merged_train - Epoch <span style=\"color: #008080; text-decoration-color: #008080; font-weight: bold\">5</span>/<span style=\"color: #008080; text-decoration-color: #008080; font-weight: bold\">20</span> - Train Loss: <span style=\"color: #008080; text-decoration-color: #008080; font-weight: bold\">0.3424</span> - Validation Loss: <span style=\"color: #008080; text-decoration-color: #008080; font-weight: bold\">0.3639</span> - Accuracy: <span style=\"color: #008080; text-decoration-color: #008080; font-weight: bold\">0.7154</span> - Best Accuracy: <span style=\"color: #008080; text-decoration-color: #008080; font-weight: bold\">0.7515</span>\n",
       "</pre>\n"
      ],
      "text/plain": [
       "merged_train - Epoch \u001b[1;36m5\u001b[0m/\u001b[1;36m20\u001b[0m - Train Loss: \u001b[1;36m0.3424\u001b[0m - Validation Loss: \u001b[1;36m0.3639\u001b[0m - Accuracy: \u001b[1;36m0.7154\u001b[0m - Best Accuracy: \u001b[1;36m0.7515\u001b[0m\n"
      ]
     },
     "metadata": {},
     "output_type": "display_data"
    },
    {
     "name": "stderr",
     "output_type": "stream",
     "text": [
      "merged_train - Epoch 6/20: 01:16\n"
     ]
    },
    {
     "data": {
      "text/html": [
       "<pre style=\"white-space:pre;overflow-x:auto;line-height:normal;font-family:Menlo,'DejaVu Sans Mono',consolas,'Courier New',monospace\">merged_train - Epoch <span style=\"color: #008080; text-decoration-color: #008080; font-weight: bold\">6</span>/<span style=\"color: #008080; text-decoration-color: #008080; font-weight: bold\">20</span> - Train Loss: <span style=\"color: #008080; text-decoration-color: #008080; font-weight: bold\">0.3389</span> - Validation Loss: <span style=\"color: #008080; text-decoration-color: #008080; font-weight: bold\">0.3396</span> - Accuracy: <span style=\"color: #008080; text-decoration-color: #008080; font-weight: bold\">0.7458</span> - Best Accuracy: <span style=\"color: #008080; text-decoration-color: #008080; font-weight: bold\">0.7515</span>\n",
       "</pre>\n"
      ],
      "text/plain": [
       "merged_train - Epoch \u001b[1;36m6\u001b[0m/\u001b[1;36m20\u001b[0m - Train Loss: \u001b[1;36m0.3389\u001b[0m - Validation Loss: \u001b[1;36m0.3396\u001b[0m - Accuracy: \u001b[1;36m0.7458\u001b[0m - Best Accuracy: \u001b[1;36m0.7515\u001b[0m\n"
      ]
     },
     "metadata": {},
     "output_type": "display_data"
    },
    {
     "data": {
      "text/html": [
       "<pre style=\"white-space:pre;overflow-x:auto;line-height:normal;font-family:Menlo,'DejaVu Sans Mono',consolas,'Courier New',monospace\">No improvement for <span style=\"color: #008080; text-decoration-color: #008080; font-weight: bold\">5</span> epochs. Early stopping<span style=\"color: #808000; text-decoration-color: #808000\">...</span>\n",
       "</pre>\n"
      ],
      "text/plain": [
       "No improvement for \u001b[1;36m5\u001b[0m epochs. Early stopping\u001b[33m...\u001b[0m\n"
      ]
     },
     "metadata": {},
     "output_type": "display_data"
    },
    {
     "name": "stderr",
     "output_type": "stream",
     "text": [
      "/tmp/ipykernel_23/2417232063.py:177: FutureWarning: You are using `torch.load` with `weights_only=False` (the current default value), which uses the default pickle module implicitly. It is possible to construct malicious pickle data which will execute arbitrary code during unpickling (See https://github.com/pytorch/pytorch/blob/main/SECURITY.md#untrusted-models for more details). In a future release, the default value for `weights_only` will be flipped to `True`. This limits the functions that could be executed during unpickling. Arbitrary objects will no longer be allowed to be loaded via this mode unless they are explicitly allowlisted by the user via `torch.serialization.add_safe_globals`. We recommend you start setting `weights_only=True` for any use case where you don't have full control of the loaded file. Please open an issue on GitHub for any issues related to this experimental feature.\n",
      "  checkpoint = torch.load(best_model_path)\n"
     ]
    },
    {
     "data": {
      "text/html": [
       "<pre style=\"white-space:pre;overflow-x:auto;line-height:normal;font-family:Menlo,'DejaVu Sans Mono',consolas,'Courier New',monospace\">\n",
       "Evaluating model for dataset: merged_train\n",
       "</pre>\n"
      ],
      "text/plain": [
       "\n",
       "Evaluating model for dataset: merged_train\n"
      ]
     },
     "metadata": {},
     "output_type": "display_data"
    },
    {
     "data": {
      "text/html": [
       "<pre style=\"white-space:pre;overflow-x:auto;line-height:normal;font-family:Menlo,'DejaVu Sans Mono',consolas,'Courier New',monospace\">\n",
       "Classification Report:\n",
       "</pre>\n"
      ],
      "text/plain": [
       "\n",
       "Classification Report:\n"
      ]
     },
     "metadata": {},
     "output_type": "display_data"
    },
    {
     "data": {
      "text/html": [
       "<pre style=\"white-space:pre;overflow-x:auto;line-height:normal;font-family:Menlo,'DejaVu Sans Mono',consolas,'Courier New',monospace\">              precision    recall  f1-score   support\n",
       "\n",
       "      BENIGN       <span style=\"color: #008080; text-decoration-color: #008080; font-weight: bold\">0.96</span>      <span style=\"color: #008080; text-decoration-color: #008080; font-weight: bold\">0.92</span>      <span style=\"color: #008080; text-decoration-color: #008080; font-weight: bold\">0.94</span>     <span style=\"color: #008080; text-decoration-color: #008080; font-weight: bold\">57664</span>\n",
       "        DDoS       <span style=\"color: #008080; text-decoration-color: #008080; font-weight: bold\">0.79</span>      <span style=\"color: #008080; text-decoration-color: #008080; font-weight: bold\">0.71</span>      <span style=\"color: #008080; text-decoration-color: #008080; font-weight: bold\">0.75</span>    <span style=\"color: #008080; text-decoration-color: #008080; font-weight: bold\">175033</span>\n",
       "         DoS       <span style=\"color: #008080; text-decoration-color: #008080; font-weight: bold\">0.51</span>      <span style=\"color: #008080; text-decoration-color: #008080; font-weight: bold\">0.61</span>      <span style=\"color: #008080; text-decoration-color: #008080; font-weight: bold\">0.56</span>     <span style=\"color: #008080; text-decoration-color: #008080; font-weight: bold\">85315</span>\n",
       "        MQTT       <span style=\"color: #008080; text-decoration-color: #008080; font-weight: bold\">1.00</span>      <span style=\"color: #008080; text-decoration-color: #008080; font-weight: bold\">0.96</span>      <span style=\"color: #008080; text-decoration-color: #008080; font-weight: bold\">0.98</span>     <span style=\"color: #008080; text-decoration-color: #008080; font-weight: bold\">32040</span>\n",
       "       RECON       <span style=\"color: #008080; text-decoration-color: #008080; font-weight: bold\">0.98</span>      <span style=\"color: #008080; text-decoration-color: #008080; font-weight: bold\">0.89</span>      <span style=\"color: #008080; text-decoration-color: #008080; font-weight: bold\">0.93</span>     <span style=\"color: #008080; text-decoration-color: #008080; font-weight: bold\">15843</span>\n",
       "    SPOOFING       <span style=\"color: #008080; text-decoration-color: #008080; font-weight: bold\">0.37</span>      <span style=\"color: #008080; text-decoration-color: #008080; font-weight: bold\">0.78</span>      <span style=\"color: #008080; text-decoration-color: #008080; font-weight: bold\">0.50</span>      <span style=\"color: #008080; text-decoration-color: #008080; font-weight: bold\">4745</span>\n",
       "\n",
       "    accuracy                           <span style=\"color: #008080; text-decoration-color: #008080; font-weight: bold\">0.75</span>    <span style=\"color: #008080; text-decoration-color: #008080; font-weight: bold\">370640</span>\n",
       "   macro avg       <span style=\"color: #008080; text-decoration-color: #008080; font-weight: bold\">0.77</span>      <span style=\"color: #008080; text-decoration-color: #008080; font-weight: bold\">0.81</span>      <span style=\"color: #008080; text-decoration-color: #008080; font-weight: bold\">0.78</span>    <span style=\"color: #008080; text-decoration-color: #008080; font-weight: bold\">370640</span>\n",
       "weighted avg       <span style=\"color: #008080; text-decoration-color: #008080; font-weight: bold\">0.77</span>      <span style=\"color: #008080; text-decoration-color: #008080; font-weight: bold\">0.75</span>      <span style=\"color: #008080; text-decoration-color: #008080; font-weight: bold\">0.76</span>    <span style=\"color: #008080; text-decoration-color: #008080; font-weight: bold\">370640</span>\n",
       "\n",
       "</pre>\n"
      ],
      "text/plain": [
       "              precision    recall  f1-score   support\n",
       "\n",
       "      BENIGN       \u001b[1;36m0.96\u001b[0m      \u001b[1;36m0.92\u001b[0m      \u001b[1;36m0.94\u001b[0m     \u001b[1;36m57664\u001b[0m\n",
       "        DDoS       \u001b[1;36m0.79\u001b[0m      \u001b[1;36m0.71\u001b[0m      \u001b[1;36m0.75\u001b[0m    \u001b[1;36m175033\u001b[0m\n",
       "         DoS       \u001b[1;36m0.51\u001b[0m      \u001b[1;36m0.61\u001b[0m      \u001b[1;36m0.56\u001b[0m     \u001b[1;36m85315\u001b[0m\n",
       "        MQTT       \u001b[1;36m1.00\u001b[0m      \u001b[1;36m0.96\u001b[0m      \u001b[1;36m0.98\u001b[0m     \u001b[1;36m32040\u001b[0m\n",
       "       RECON       \u001b[1;36m0.98\u001b[0m      \u001b[1;36m0.89\u001b[0m      \u001b[1;36m0.93\u001b[0m     \u001b[1;36m15843\u001b[0m\n",
       "    SPOOFING       \u001b[1;36m0.37\u001b[0m      \u001b[1;36m0.78\u001b[0m      \u001b[1;36m0.50\u001b[0m      \u001b[1;36m4745\u001b[0m\n",
       "\n",
       "    accuracy                           \u001b[1;36m0.75\u001b[0m    \u001b[1;36m370640\u001b[0m\n",
       "   macro avg       \u001b[1;36m0.77\u001b[0m      \u001b[1;36m0.81\u001b[0m      \u001b[1;36m0.78\u001b[0m    \u001b[1;36m370640\u001b[0m\n",
       "weighted avg       \u001b[1;36m0.77\u001b[0m      \u001b[1;36m0.75\u001b[0m      \u001b[1;36m0.76\u001b[0m    \u001b[1;36m370640\u001b[0m\n",
       "\n"
      ]
     },
     "metadata": {},
     "output_type": "display_data"
    },
    {
     "data": {
      "text/html": [
       "<pre style=\"white-space:pre;overflow-x:auto;line-height:normal;font-family:Menlo,'DejaVu Sans Mono',consolas,'Courier New',monospace\">\n",
       "Confusion Matrix:\n",
       "</pre>\n"
      ],
      "text/plain": [
       "\n",
       "Confusion Matrix:\n"
      ]
     },
     "metadata": {},
     "output_type": "display_data"
    },
    {
     "data": {
      "text/html": [
       "<pre style=\"white-space:pre;overflow-x:auto;line-height:normal;font-family:Menlo,'DejaVu Sans Mono',consolas,'Courier New',monospace\"><span style=\"font-weight: bold\">[[</span> <span style=\"color: #008080; text-decoration-color: #008080; font-weight: bold\">53125</span>      <span style=\"color: #008080; text-decoration-color: #008080; font-weight: bold\">0</span>      <span style=\"color: #008080; text-decoration-color: #008080; font-weight: bold\">0</span>     <span style=\"color: #008080; text-decoration-color: #008080; font-weight: bold\">11</span>    <span style=\"color: #008080; text-decoration-color: #008080; font-weight: bold\">141</span>   <span style=\"color: #008080; text-decoration-color: #008080; font-weight: bold\">4387</span><span style=\"font-weight: bold\">]</span>\n",
       " <span style=\"font-weight: bold\">[</span>     <span style=\"color: #008080; text-decoration-color: #008080; font-weight: bold\">8</span> <span style=\"color: #008080; text-decoration-color: #008080; font-weight: bold\">124886</span>  <span style=\"color: #008080; text-decoration-color: #008080; font-weight: bold\">50060</span>     <span style=\"color: #008080; text-decoration-color: #008080; font-weight: bold\">13</span>      <span style=\"color: #008080; text-decoration-color: #008080; font-weight: bold\">7</span>     <span style=\"color: #008080; text-decoration-color: #008080; font-weight: bold\">59</span><span style=\"font-weight: bold\">]</span>\n",
       " <span style=\"font-weight: bold\">[</span>     <span style=\"color: #008080; text-decoration-color: #008080; font-weight: bold\">3</span>  <span style=\"color: #008080; text-decoration-color: #008080; font-weight: bold\">33110</span>  <span style=\"color: #008080; text-decoration-color: #008080; font-weight: bold\">52103</span>     <span style=\"color: #008080; text-decoration-color: #008080; font-weight: bold\">24</span>     <span style=\"color: #008080; text-decoration-color: #008080; font-weight: bold\">10</span>     <span style=\"color: #008080; text-decoration-color: #008080; font-weight: bold\">65</span><span style=\"font-weight: bold\">]</span>\n",
       " <span style=\"font-weight: bold\">[</span>   <span style=\"color: #008080; text-decoration-color: #008080; font-weight: bold\">294</span>      <span style=\"color: #008080; text-decoration-color: #008080; font-weight: bold\">2</span>      <span style=\"color: #008080; text-decoration-color: #008080; font-weight: bold\">2</span>  <span style=\"color: #008080; text-decoration-color: #008080; font-weight: bold\">30647</span>     <span style=\"color: #008080; text-decoration-color: #008080; font-weight: bold\">66</span>   <span style=\"color: #008080; text-decoration-color: #008080; font-weight: bold\">1029</span><span style=\"font-weight: bold\">]</span>\n",
       " <span style=\"font-weight: bold\">[</span>   <span style=\"color: #008080; text-decoration-color: #008080; font-weight: bold\">922</span>      <span style=\"color: #008080; text-decoration-color: #008080; font-weight: bold\">1</span>      <span style=\"color: #008080; text-decoration-color: #008080; font-weight: bold\">0</span>      <span style=\"color: #008080; text-decoration-color: #008080; font-weight: bold\">1</span>  <span style=\"color: #008080; text-decoration-color: #008080; font-weight: bold\">14076</span>    <span style=\"color: #008080; text-decoration-color: #008080; font-weight: bold\">843</span><span style=\"font-weight: bold\">]</span>\n",
       " <span style=\"font-weight: bold\">[</span>  <span style=\"color: #008080; text-decoration-color: #008080; font-weight: bold\">1002</span>      <span style=\"color: #008080; text-decoration-color: #008080; font-weight: bold\">0</span>      <span style=\"color: #008080; text-decoration-color: #008080; font-weight: bold\">0</span>      <span style=\"color: #008080; text-decoration-color: #008080; font-weight: bold\">1</span>     <span style=\"color: #008080; text-decoration-color: #008080; font-weight: bold\">25</span>   <span style=\"color: #008080; text-decoration-color: #008080; font-weight: bold\">3717</span><span style=\"font-weight: bold\">]]</span>\n",
       "</pre>\n"
      ],
      "text/plain": [
       "\u001b[1m[\u001b[0m\u001b[1m[\u001b[0m \u001b[1;36m53125\u001b[0m      \u001b[1;36m0\u001b[0m      \u001b[1;36m0\u001b[0m     \u001b[1;36m11\u001b[0m    \u001b[1;36m141\u001b[0m   \u001b[1;36m4387\u001b[0m\u001b[1m]\u001b[0m\n",
       " \u001b[1m[\u001b[0m     \u001b[1;36m8\u001b[0m \u001b[1;36m124886\u001b[0m  \u001b[1;36m50060\u001b[0m     \u001b[1;36m13\u001b[0m      \u001b[1;36m7\u001b[0m     \u001b[1;36m59\u001b[0m\u001b[1m]\u001b[0m\n",
       " \u001b[1m[\u001b[0m     \u001b[1;36m3\u001b[0m  \u001b[1;36m33110\u001b[0m  \u001b[1;36m52103\u001b[0m     \u001b[1;36m24\u001b[0m     \u001b[1;36m10\u001b[0m     \u001b[1;36m65\u001b[0m\u001b[1m]\u001b[0m\n",
       " \u001b[1m[\u001b[0m   \u001b[1;36m294\u001b[0m      \u001b[1;36m2\u001b[0m      \u001b[1;36m2\u001b[0m  \u001b[1;36m30647\u001b[0m     \u001b[1;36m66\u001b[0m   \u001b[1;36m1029\u001b[0m\u001b[1m]\u001b[0m\n",
       " \u001b[1m[\u001b[0m   \u001b[1;36m922\u001b[0m      \u001b[1;36m1\u001b[0m      \u001b[1;36m0\u001b[0m      \u001b[1;36m1\u001b[0m  \u001b[1;36m14076\u001b[0m    \u001b[1;36m843\u001b[0m\u001b[1m]\u001b[0m\n",
       " \u001b[1m[\u001b[0m  \u001b[1;36m1002\u001b[0m      \u001b[1;36m0\u001b[0m      \u001b[1;36m0\u001b[0m      \u001b[1;36m1\u001b[0m     \u001b[1;36m25\u001b[0m   \u001b[1;36m3717\u001b[0m\u001b[1m]\u001b[0m\u001b[1m]\u001b[0m\n"
      ]
     },
     "metadata": {},
     "output_type": "display_data"
    },
    {
     "data": {
      "text/html": [
       "<pre style=\"white-space:pre;overflow-x:auto;line-height:normal;font-family:Menlo,'DejaVu Sans Mono',consolas,'Courier New',monospace\">\n",
       "Training Results Summary:\n",
       "</pre>\n"
      ],
      "text/plain": [
       "\n",
       "Training Results Summary:\n"
      ]
     },
     "metadata": {},
     "output_type": "display_data"
    },
    {
     "data": {
      "text/html": [
       "<pre style=\"white-space:pre;overflow-x:auto;line-height:normal;font-family:Menlo,'DejaVu Sans Mono',consolas,'Courier New',monospace\">\n",
       "train_augmented:\n",
       "</pre>\n"
      ],
      "text/plain": [
       "\n",
       "train_augmented:\n"
      ]
     },
     "metadata": {},
     "output_type": "display_data"
    },
    {
     "data": {
      "text/html": [
       "<pre style=\"white-space:pre;overflow-x:auto;line-height:normal;font-family:Menlo,'DejaVu Sans Mono',consolas,'Courier New',monospace\">Best Accuracy: <span style=\"color: #008080; text-decoration-color: #008080; font-weight: bold\">0.8272</span>\n",
       "</pre>\n"
      ],
      "text/plain": [
       "Best Accuracy: \u001b[1;36m0.8272\u001b[0m\n"
      ]
     },
     "metadata": {},
     "output_type": "display_data"
    },
    {
     "data": {
      "text/html": [
       "<pre style=\"white-space:pre;overflow-x:auto;line-height:normal;font-family:Menlo,'DejaVu Sans Mono',consolas,'Courier New',monospace\">Best Validation Loss: <span style=\"color: #008080; text-decoration-color: #008080; font-weight: bold\">0.3073</span>\n",
       "</pre>\n"
      ],
      "text/plain": [
       "Best Validation Loss: \u001b[1;36m0.3073\u001b[0m\n"
      ]
     },
     "metadata": {},
     "output_type": "display_data"
    },
    {
     "data": {
      "text/html": [
       "<pre style=\"white-space:pre;overflow-x:auto;line-height:normal;font-family:Menlo,'DejaVu Sans Mono',consolas,'Courier New',monospace\">\n",
       "train_sel_hclust:\n",
       "</pre>\n"
      ],
      "text/plain": [
       "\n",
       "train_sel_hclust:\n"
      ]
     },
     "metadata": {},
     "output_type": "display_data"
    },
    {
     "data": {
      "text/html": [
       "<pre style=\"white-space:pre;overflow-x:auto;line-height:normal;font-family:Menlo,'DejaVu Sans Mono',consolas,'Courier New',monospace\">Best Accuracy: <span style=\"color: #008080; text-decoration-color: #008080; font-weight: bold\">0.7173</span>\n",
       "</pre>\n"
      ],
      "text/plain": [
       "Best Accuracy: \u001b[1;36m0.7173\u001b[0m\n"
      ]
     },
     "metadata": {},
     "output_type": "display_data"
    },
    {
     "data": {
      "text/html": [
       "<pre style=\"white-space:pre;overflow-x:auto;line-height:normal;font-family:Menlo,'DejaVu Sans Mono',consolas,'Courier New',monospace\">Best Validation Loss: <span style=\"color: #008080; text-decoration-color: #008080; font-weight: bold\">0.3034</span>\n",
       "</pre>\n"
      ],
      "text/plain": [
       "Best Validation Loss: \u001b[1;36m0.3034\u001b[0m\n"
      ]
     },
     "metadata": {},
     "output_type": "display_data"
    },
    {
     "data": {
      "text/html": [
       "<pre style=\"white-space:pre;overflow-x:auto;line-height:normal;font-family:Menlo,'DejaVu Sans Mono',consolas,'Courier New',monospace\">\n",
       "merged_train:\n",
       "</pre>\n"
      ],
      "text/plain": [
       "\n",
       "merged_train:\n"
      ]
     },
     "metadata": {},
     "output_type": "display_data"
    },
    {
     "data": {
      "text/html": [
       "<pre style=\"white-space:pre;overflow-x:auto;line-height:normal;font-family:Menlo,'DejaVu Sans Mono',consolas,'Courier New',monospace\">Best Accuracy: <span style=\"color: #008080; text-decoration-color: #008080; font-weight: bold\">0.7515</span>\n",
       "</pre>\n"
      ],
      "text/plain": [
       "Best Accuracy: \u001b[1;36m0.7515\u001b[0m\n"
      ]
     },
     "metadata": {},
     "output_type": "display_data"
    },
    {
     "data": {
      "text/html": [
       "<pre style=\"white-space:pre;overflow-x:auto;line-height:normal;font-family:Menlo,'DejaVu Sans Mono',consolas,'Courier New',monospace\">Best Validation Loss: <span style=\"color: #008080; text-decoration-color: #008080; font-weight: bold\">0.3825</span>\n",
       "</pre>\n"
      ],
      "text/plain": [
       "Best Validation Loss: \u001b[1;36m0.3825\u001b[0m\n"
      ]
     },
     "metadata": {},
     "output_type": "display_data"
    }
   ],
   "source": [
    "dataset_paths = [\n",
    "    \"/kaggle/input/dataset/train_augmented.csv\",\n",
    "    \"/kaggle/input/dataset/train_sel_hclust.csv\",\n",
    "    \"/kaggle/input/dataset/merged_train.csv\"\n",
    "]\n",
    "\n",
    "train_on_multiple_datasets(dataset_paths)"
   ]
  }
 ],
 "metadata": {
  "accelerator": "GPU",
  "colab": {
   "gpuType": "T4",
   "provenance": []
  },
  "kaggle": {
   "accelerator": "nvidiaTeslaT4",
   "dataSources": [
    {
     "datasetId": 6273203,
     "sourceId": 10159557,
     "sourceType": "datasetVersion"
    }
   ],
   "dockerImageVersionId": 30805,
   "isGpuEnabled": true,
   "isInternetEnabled": false,
   "language": "python",
   "sourceType": "notebook"
  },
  "kernelspec": {
   "display_name": "Python 3",
   "language": "python",
   "name": "python3"
  },
  "language_info": {
   "codemirror_mode": {
    "name": "ipython",
    "version": 3
   },
   "file_extension": ".py",
   "mimetype": "text/x-python",
   "name": "python",
   "nbconvert_exporter": "python",
   "pygments_lexer": "ipython3",
   "version": "3.10.14"
  },
  "papermill": {
   "default_parameters": {},
   "duration": 1457.841931,
   "end_time": "2024-12-11T00:36:46.240555",
   "environment_variables": {},
   "exception": null,
   "input_path": "__notebook__.ipynb",
   "output_path": "__notebook__.ipynb",
   "parameters": {},
   "start_time": "2024-12-11T00:12:28.398624",
   "version": "2.6.0"
  }
 },
 "nbformat": 4,
 "nbformat_minor": 5
}
