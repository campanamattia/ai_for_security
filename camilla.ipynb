{
 "cells": [
  {
   "cell_type": "markdown",
   "metadata": {},
   "source": [
    "#feature estractor: manca il commento\n",
    "\n",
    "NON E' IMPORTANTE FEATURE ESTRACTOR IN SE, E' SOLO UNO DEGLI HIDDEN LAYER DELLA NOSTRA RETE, TUTTA LA CELLA SERVE PER DEFINIRE CLASSI USATE PER LA CREAZIONE DELLA NOSTRA NN"
   ]
  }
 ],
 "metadata": {
  "language_info": {
   "name": "python"
  }
 },
 "nbformat": 4,
 "nbformat_minor": 2
}
