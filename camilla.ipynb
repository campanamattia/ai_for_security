{
 "cells": [
  {
   "cell_type": "markdown",
   "metadata": {},
   "source": [
    "As concerns rst_count feature, the graphs show that its values tend to be extremely low or null in case of attacks, regardless of the specific attack category, while its distribution is wider and characterized by higher values for benign data. It can be a useful indicator in order to  distinguish between the two classes. "
   ]
  },
  {
   "cell_type": "markdown",
   "metadata": {},
   "source": [
    "#GRAFICO RST"
   ]
  },
  {
   "cell_type": "markdown",
   "metadata": {},
   "source": [
    "Except for spoofing, which shows a wider distribution of values, it is clear that in the other cases the Header_Length can be discriminative between the two phenomena; undoubtedly, it is useful for distinguishing DoS and DDoS from benign traffic, due to the extremely sharp peak at 0. In contrast, the separation can be less noticeable for Recon and MQTT, but still intuitively observable."
   ]
  },
  {
   "cell_type": "markdown",
   "metadata": {},
   "source": [
    "#GRAFICO HEADER_LENGHT"
   ]
  },
  {
   "cell_type": "markdown",
   "metadata": {},
   "source": [
    "About Variance, the distinction in the distribution of the two classes tends to become remarkable, since benign traffic is featured by higher values than attack-related data. Both benign and attack traffic data tend to show regular intervals, but this feature can be a strong indicator for separating the two classes because attacks like DoS and DDoS show a strong concentration at 0, while others tend to present lower values than benign traffic. "
   ]
  },
  {
   "cell_type": "markdown",
   "metadata": {},
   "source": [
    "#GRAFICO VARIANCE"
   ]
  },
  {
   "cell_type": "markdown",
   "metadata": {},
   "source": [
    "On the one hand IAT doesn’t appear to be a strong indicator for differentiate attacks like spoofing and recon, but it certainly does for MQTT, DoS and DDoS, where the separation between malicious and benign traffic is very clear. "
   ]
  },
  {
   "cell_type": "markdown",
   "metadata": {},
   "source": [
    "#GRAFICO IAT"
   ]
  },
  {
   "cell_type": "markdown",
   "metadata": {},
   "source": [
    "In the case of Rate, the distinction is not clear, and it cannot be considered an effective indicator for differentiating the two classes."
   ]
  },
  {
   "cell_type": "markdown",
   "metadata": {},
   "source": [
    "#GRAFICO RATE"
   ]
  },
  {
   "cell_type": "markdown",
   "metadata": {},
   "source": [
    "All in all, across all features variance and IAT are strong indicators to differentiate attacks from benign traffic, especially DoS, DDoS and MQTT. Header_Lenght and Rate show minimal if not null variability, consequently they are not particularly significant. "
   ]
  },
  {
   "cell_type": "markdown",
   "metadata": {},
   "source": [
    "#MULTI-CLASS CLASSIFICATION\n",
    "#Neural Networks"
   ]
  },
  {
   "cell_type": "markdown",
   "metadata": {},
   "source": [
    "In this section we prepared and preprocessed the input data for the development of a neural network model whose purpose is to classify data distinguishing between benign traffic and each attack. First of all, label encoding, converting categorical labels into integers, allows for the compatibility of data type with the classification task of NN. In order to stabilize the learning process of NN and facilitate the convergence, it was necessary to standardize the input features, making the range of values more restricted. Then the use of PyTorch’s TensorDataset and DataLoader improves the performance by batching, shuffling and loading the data during the training (?).\n",
    "\n"
   ]
  },
  {
   "cell_type": "markdown",
   "metadata": {},
   "source": [
    "#feature estractor: manca il commento"
   ]
  },
  {
   "cell_type": "markdown",
   "metadata": {},
   "source": [
    "#sopra training metrics"
   ]
  },
  {
   "cell_type": "markdown",
   "metadata": {},
   "source": [
    "A dictionary named “history” is created in order to record the performance of the main metrics in each epoch during the training. Every metric evolution is then plotted on a line chart with specifically defined colors (blue for Training Loss, orange for Validation Loss and green for Accuracy). "
   ]
  },
  {
   "cell_type": "markdown",
   "metadata": {},
   "source": [
    "#sopra train_model"
   ]
  },
  {
   "cell_type": "markdown",
   "metadata": {},
   "source": [
    "The following code describes the implementation of the NN model, designed to classify malicious attack types and benign network flows. \n",
    "The strength point of this phase is the fact that the model is trained sequentially on three distinct datasets, whose performances are then compared, respectively:\n",
    "- train_labeled \n",
    "- train_smote, in which data have been rebalanced in order to oversample benign data.\n",
    "- train_sel_hclust \n",
    "\n",
    "For each epoch, during the training phase the model processes batch of data to calculate the loss (cross-entropy loss). The optimizer updates the model’s weight using backpropagation and the scheduler dynamically fix the learning rate based on the validation loss. Then the model is evaluated on the validation set and the metrics are calculated. If the model accuracy is higher than the best accuracy up to that moment, the model’s state is saved as best model; otherwise if accuracy does not improve after a certain number of epochs, defined by patience arbitrarily set to 15, but reduced to 9 under certain conditions, in order to improve training efficiency and avoid overfitting the training stops (early stopping). \n",
    "\n",
    "After training, the “evaluate_model” function calculates performance metrics (respectively, precision, recall and F1-Score) comparing the predicted labels with the real ones. Results are shown in a bar chart representing metrics for each individual class. Furthermore, a normalized confusion matrix is plotted in order to easily visualize the types of errors the model makes.\n",
    "\n",
    "A summary table consolidates the results for easy comparison of best accuracy and validation loss across the three datasets.\n"
   ]
  },
  {
   "cell_type": "markdown",
   "metadata": {},
   "source": [
    "#sotto i risultati, al posto della frase che c'è già"
   ]
  },
  {
   "cell_type": "markdown",
   "metadata": {},
   "source": [
    "Given these result, it is clear how difficult for the model it is to distinguish between DoS and DDoS attacks. In orde#r to address this issue, we now tried to merge the two categories (also due to the fact that at their root these attacks are similar). "
   ]
  }
 ],
 "metadata": {
  "language_info": {
   "name": "python"
  }
 },
 "nbformat": 4,
 "nbformat_minor": 2
}
