{
 "cells": [
  {
   "cell_type": "markdown",
   "metadata": {},
   "source": [
    "# feature estractor: manca il commento\n",
    "\n",
    "# NON E' IMPORTANTE FEATURE ESTRACTOR IN SE, E' SOLO UNO DEGLI HIDDEN LAYER DELLA NOSTRA RETE, TUTTA LA CELLA SERVE PER DEFINIRE CLASSI USATE PER LA CREAZIONE DELLA NOSTRA NN"
   ]
  },
  {
   "cell_type": "markdown",
   "metadata": {},
   "source": [
    "# DA SOTTOLINEARE COME MAI USIAMO TRE DATASET E IN PARTICOLARE QUELLO SENZA LA SELEZIONE DI FEATURES"
   ]
  },
  {
   "cell_type": "markdown",
   "metadata": {},
   "source": [
    "In this section the aim is to confirm the results obtained using the Random Forest adopting another ensemble method. The following code processes data for binary classification with XGBoost algorithm. "
   ]
  },
  {
   "cell_type": "markdown",
   "metadata": {},
   "source": []
  }
 ],
 "metadata": {
  "language_info": {
   "name": "python"
  }
 },
 "nbformat": 4,
 "nbformat_minor": 2
}
