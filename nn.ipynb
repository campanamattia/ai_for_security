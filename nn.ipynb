{
 "cells": [
  {
   "cell_type": "markdown",
   "metadata": {},
   "source": [
    "# NN Multiclass"
   ]
  },
  {
   "cell_type": "code",
   "execution_count": null,
   "metadata": {},
   "outputs": [],
   "source": [
    "import torch\n",
    "import torch.nn as nn\n",
    "from torch.utils.data import DataLoader, TensorDataset\n",
    "from tqdm import tqdm\n",
    "import pandas as pd\n",
    "from sklearn.preprocessing import StandardScaler, LabelEncoder\n",
    "from sklearn.model_selection import train_test_split\n",
    "from rich import print\n",
    "from sklearn.metrics import classification_report, confusion_matrix\n",
    "import numpy as np"
   ]
  },
  {
   "cell_type": "code",
   "execution_count": 3,
   "metadata": {},
   "outputs": [],
   "source": [
    "# Load dataset (let's try with all the features)\n",
    "df = pd.read_csv('dataset/merged_train.csv')"
   ]
  },
  {
   "cell_type": "code",
   "execution_count": 4,
   "metadata": {},
   "outputs": [],
   "source": [
    "x_train = df.drop(['category', 'attack'], axis=1)\n",
    "y_train = df['category']\n",
    "\n",
    "# Encode labels as integers\n",
    "label_encoder = LabelEncoder()\n",
    "y_train = label_encoder.fit_transform(y_train)\n",
    "\n",
    "# Convert to PyTorch tensors\n",
    "# First convert DataFrame to numpy array, then to tensor\n",
    "x_tensor = torch.tensor(x_train.values, dtype=torch.float32)  # Add .values here\n",
    "y_tensor = torch.tensor(y_train, dtype=torch.long)\n",
    "\n",
    "# Split data into train and validation sets\n",
    "x_train_tensor, x_val_tensor, y_train_tensor, y_val_tensor = train_test_split(\n",
    "    x_tensor, y_tensor, test_size=0.3, random_state=42\n",
    ")\n",
    "\n",
    "# Convert tensors to numpy arrays before scaling\n",
    "x_train_np = x_train_tensor.numpy()\n",
    "x_val_np = x_val_tensor.numpy()\n",
    "\n",
    "# Apply scaling\n",
    "scaler = StandardScaler()\n",
    "x_train_scaled = scaler.fit_transform(x_train_np)\n",
    "x_val_scaled = scaler.transform(x_val_np)\n",
    "\n",
    "# Convert back to tensors\n",
    "x_train_tensor = torch.tensor(x_train_scaled, dtype=torch.float32)\n",
    "x_val_tensor = torch.tensor(x_val_scaled, dtype=torch.float32)\n",
    "\n",
    "# Now create the datasets\n",
    "train_dataset = TensorDataset(x_train_tensor, y_train_tensor)\n",
    "val_dataset = TensorDataset(x_val_tensor, y_val_tensor)\n",
    "\n",
    "train_loader = DataLoader(train_dataset, batch_size=64, shuffle=True)\n",
    "val_loader = DataLoader(val_dataset, batch_size=64, shuffle=True)"
   ]
  },
  {
   "cell_type": "code",
   "execution_count": 5,
   "metadata": {},
   "outputs": [],
   "source": [
    "class FeatureExtractor(nn.Module):\n",
    "    def __init__(self, input_size):\n",
    "        super().__init__()\n",
    "        self.layers = nn.Sequential(\n",
    "            nn.Linear(input_size, 256),\n",
    "            nn.BatchNorm1d(256),\n",
    "            nn.LeakyReLU(0.1),\n",
    "            nn.Dropout(0.1)\n",
    "        )\n",
    "        \n",
    "    def forward(self, x):\n",
    "        return self.layers(x)\n",
    "\n",
    "class ResidualBlock(nn.Module):\n",
    "    def __init__(self, size):\n",
    "        super().__init__()\n",
    "        self.block = nn.Sequential(\n",
    "            nn.BatchNorm1d(size),\n",
    "            nn.Linear(size, 2*size),\n",
    "            nn.LeakyReLU(0.1),\n",
    "            nn.Linear(2*size, size),\n",
    "            nn.Dropout(0.1),\n",
    "        )\n",
    "        self.activation = nn.LeakyReLU(0.1)\n",
    "        \n",
    "    def forward(self, x):\n",
    "        identity = x\n",
    "        out = self.block(x)\n",
    "        out += identity\n",
    "        return self.activation(out)\n",
    "\n",
    "class ImprovedNeuralNet(nn.Module):\n",
    "    def __init__(self, input_size, num_classes):\n",
    "        super().__init__()\n",
    "        \n",
    "        # Feature extraction path\n",
    "        self.feature_extractor = FeatureExtractor(input_size)\n",
    "        \n",
    "        # Main processing path with residual connections\n",
    "        self.main_path = nn.Sequential(\n",
    "            ResidualBlock(256),\n",
    "            ResidualBlock(256),\n",
    "            nn.Linear(256, 128),\n",
    "            nn.BatchNorm1d(128),\n",
    "            nn.LeakyReLU(0.2),\n",
    "            nn.Dropout(0.2)\n",
    "        )\n",
    "        # Classification head\n",
    "        self.classifier = nn.Sequential(\n",
    "            nn.Linear(128, num_classes)\n",
    "        )\n",
    "        \n",
    "        # Initialize weights\n",
    "        self._initialize_weights()\n",
    "        \n",
    "    def _initialize_weights(self):\n",
    "        for m in self.modules():\n",
    "            if isinstance(m, nn.Linear):\n",
    "                nn.init.kaiming_normal_(m.weight, mode='fan_in', nonlinearity='leaky_relu')\n",
    "                if m.bias is not None:\n",
    "                    nn.init.constant_(m.bias, 0)\n",
    "            elif isinstance(m, nn.BatchNorm1d):\n",
    "                nn.init.constant_(m.weight, 1)\n",
    "                nn.init.constant_(m.bias, 0)\n",
    "    \n",
    "    def forward(self, x):\n",
    "        # Extract features\n",
    "        features = self.feature_extractor(x)\n",
    "        \n",
    "        # Process through main path\n",
    "        main_features = self.main_path(features)\n",
    "       \n",
    "        # Classification\n",
    "        output = self.classifier(main_features)\n",
    "        \n",
    "        return output\n",
    "\n",
    "def get_optimizer(model, learning_rate=0.001, weight_decay=1e-5):\n",
    "    return torch.optim.AdamW(\n",
    "        model.parameters(),\n",
    "        lr=learning_rate,\n",
    "        weight_decay=weight_decay,\n",
    "        betas=(0.9, 0.999)\n",
    "    )\n",
    "\n",
    "def get_scheduler(optimizer):\n",
    "    return torch.optim.lr_scheduler.ReduceLROnPlateau(\n",
    "        optimizer,\n",
    "        mode='min',\n",
    "        factor=0.1,\n",
    "        patience=5\n",
    "    )"
   ]
  },
  {
   "cell_type": "code",
   "execution_count": 6,
   "metadata": {},
   "outputs": [
    {
     "name": "stderr",
     "output_type": "stream",
     "text": [
      "Epoch 1/20: 100%|██████████| 13513/13513 [02:46<00:00, 81.18it/s, loss=0.222] \n"
     ]
    },
    {
     "data": {
      "text/html": [
       "<pre style=\"white-space:pre;overflow-x:auto;line-height:normal;font-family:Menlo,'DejaVu Sans Mono',consolas,'Courier New',monospace\">Epoch <span style=\"color: #008080; text-decoration-color: #008080; font-weight: bold\">1</span>/<span style=\"color: #008080; text-decoration-color: #008080; font-weight: bold\">20</span> - Train Loss: <span style=\"color: #008080; text-decoration-color: #008080; font-weight: bold\">0.4048</span> - Validation Loss: <span style=\"color: #008080; text-decoration-color: #008080; font-weight: bold\">0.3663</span> - Accuracy: <span style=\"color: #008080; text-decoration-color: #008080; font-weight: bold\">0.7303</span> - Best Accuracy: <span style=\"color: #008080; text-decoration-color: #008080; font-weight: bold\">0.7303</span>\n",
       "</pre>\n"
      ],
      "text/plain": [
       "Epoch \u001b[1;36m1\u001b[0m/\u001b[1;36m20\u001b[0m - Train Loss: \u001b[1;36m0.4048\u001b[0m - Validation Loss: \u001b[1;36m0.3663\u001b[0m - Accuracy: \u001b[1;36m0.7303\u001b[0m - Best Accuracy: \u001b[1;36m0.7303\u001b[0m\n"
      ]
     },
     "metadata": {},
     "output_type": "display_data"
    },
    {
     "name": "stderr",
     "output_type": "stream",
     "text": [
      "Epoch 2/20: 100%|██████████| 13513/13513 [02:20<00:00, 96.07it/s, loss=0.243] \n"
     ]
    },
    {
     "data": {
      "text/html": [
       "<pre style=\"white-space:pre;overflow-x:auto;line-height:normal;font-family:Menlo,'DejaVu Sans Mono',consolas,'Courier New',monospace\">Epoch <span style=\"color: #008080; text-decoration-color: #008080; font-weight: bold\">2</span>/<span style=\"color: #008080; text-decoration-color: #008080; font-weight: bold\">20</span> - Train Loss: <span style=\"color: #008080; text-decoration-color: #008080; font-weight: bold\">0.3666</span> - Validation Loss: <span style=\"color: #008080; text-decoration-color: #008080; font-weight: bold\">0.3571</span> - Accuracy: <span style=\"color: #008080; text-decoration-color: #008080; font-weight: bold\">0.7156</span> - Best Accuracy: <span style=\"color: #008080; text-decoration-color: #008080; font-weight: bold\">0.7303</span>\n",
       "</pre>\n"
      ],
      "text/plain": [
       "Epoch \u001b[1;36m2\u001b[0m/\u001b[1;36m20\u001b[0m - Train Loss: \u001b[1;36m0.3666\u001b[0m - Validation Loss: \u001b[1;36m0.3571\u001b[0m - Accuracy: \u001b[1;36m0.7156\u001b[0m - Best Accuracy: \u001b[1;36m0.7303\u001b[0m\n"
      ]
     },
     "metadata": {},
     "output_type": "display_data"
    },
    {
     "name": "stderr",
     "output_type": "stream",
     "text": [
      "Epoch 3/20: 100%|██████████| 13513/13513 [02:23<00:00, 94.07it/s, loss=0.312] \n"
     ]
    },
    {
     "data": {
      "text/html": [
       "<pre style=\"white-space:pre;overflow-x:auto;line-height:normal;font-family:Menlo,'DejaVu Sans Mono',consolas,'Courier New',monospace\">Epoch <span style=\"color: #008080; text-decoration-color: #008080; font-weight: bold\">3</span>/<span style=\"color: #008080; text-decoration-color: #008080; font-weight: bold\">20</span> - Train Loss: <span style=\"color: #008080; text-decoration-color: #008080; font-weight: bold\">0.3561</span> - Validation Loss: <span style=\"color: #008080; text-decoration-color: #008080; font-weight: bold\">0.3478</span> - Accuracy: <span style=\"color: #008080; text-decoration-color: #008080; font-weight: bold\">0.7392</span> - Best Accuracy: <span style=\"color: #008080; text-decoration-color: #008080; font-weight: bold\">0.7392</span>\n",
       "</pre>\n"
      ],
      "text/plain": [
       "Epoch \u001b[1;36m3\u001b[0m/\u001b[1;36m20\u001b[0m - Train Loss: \u001b[1;36m0.3561\u001b[0m - Validation Loss: \u001b[1;36m0.3478\u001b[0m - Accuracy: \u001b[1;36m0.7392\u001b[0m - Best Accuracy: \u001b[1;36m0.7392\u001b[0m\n"
      ]
     },
     "metadata": {},
     "output_type": "display_data"
    },
    {
     "name": "stderr",
     "output_type": "stream",
     "text": [
      "Epoch 4/20: 100%|██████████| 13513/13513 [02:24<00:00, 93.40it/s, loss=0.497] \n"
     ]
    },
    {
     "data": {
      "text/html": [
       "<pre style=\"white-space:pre;overflow-x:auto;line-height:normal;font-family:Menlo,'DejaVu Sans Mono',consolas,'Courier New',monospace\">Epoch <span style=\"color: #008080; text-decoration-color: #008080; font-weight: bold\">4</span>/<span style=\"color: #008080; text-decoration-color: #008080; font-weight: bold\">20</span> - Train Loss: <span style=\"color: #008080; text-decoration-color: #008080; font-weight: bold\">0.3503</span> - Validation Loss: <span style=\"color: #008080; text-decoration-color: #008080; font-weight: bold\">0.3419</span> - Accuracy: <span style=\"color: #008080; text-decoration-color: #008080; font-weight: bold\">0.7351</span> - Best Accuracy: <span style=\"color: #008080; text-decoration-color: #008080; font-weight: bold\">0.7392</span>\n",
       "</pre>\n"
      ],
      "text/plain": [
       "Epoch \u001b[1;36m4\u001b[0m/\u001b[1;36m20\u001b[0m - Train Loss: \u001b[1;36m0.3503\u001b[0m - Validation Loss: \u001b[1;36m0.3419\u001b[0m - Accuracy: \u001b[1;36m0.7351\u001b[0m - Best Accuracy: \u001b[1;36m0.7392\u001b[0m\n"
      ]
     },
     "metadata": {},
     "output_type": "display_data"
    },
    {
     "name": "stderr",
     "output_type": "stream",
     "text": [
      "Epoch 5/20: 100%|██████████| 13513/13513 [02:23<00:00, 94.29it/s, loss=0.346] \n"
     ]
    },
    {
     "data": {
      "text/html": [
       "<pre style=\"white-space:pre;overflow-x:auto;line-height:normal;font-family:Menlo,'DejaVu Sans Mono',consolas,'Courier New',monospace\">Epoch <span style=\"color: #008080; text-decoration-color: #008080; font-weight: bold\">5</span>/<span style=\"color: #008080; text-decoration-color: #008080; font-weight: bold\">20</span> - Train Loss: <span style=\"color: #008080; text-decoration-color: #008080; font-weight: bold\">0.3457</span> - Validation Loss: <span style=\"color: #008080; text-decoration-color: #008080; font-weight: bold\">0.3432</span> - Accuracy: <span style=\"color: #008080; text-decoration-color: #008080; font-weight: bold\">0.7230</span> - Best Accuracy: <span style=\"color: #008080; text-decoration-color: #008080; font-weight: bold\">0.7392</span>\n",
       "</pre>\n"
      ],
      "text/plain": [
       "Epoch \u001b[1;36m5\u001b[0m/\u001b[1;36m20\u001b[0m - Train Loss: \u001b[1;36m0.3457\u001b[0m - Validation Loss: \u001b[1;36m0.3432\u001b[0m - Accuracy: \u001b[1;36m0.7230\u001b[0m - Best Accuracy: \u001b[1;36m0.7392\u001b[0m\n"
      ]
     },
     "metadata": {},
     "output_type": "display_data"
    },
    {
     "name": "stderr",
     "output_type": "stream",
     "text": [
      "Epoch 6/20: 100%|██████████| 13513/13513 [02:18<00:00, 97.36it/s, loss=0.725] \n"
     ]
    },
    {
     "data": {
      "text/html": [
       "<pre style=\"white-space:pre;overflow-x:auto;line-height:normal;font-family:Menlo,'DejaVu Sans Mono',consolas,'Courier New',monospace\">Epoch <span style=\"color: #008080; text-decoration-color: #008080; font-weight: bold\">6</span>/<span style=\"color: #008080; text-decoration-color: #008080; font-weight: bold\">20</span> - Train Loss: <span style=\"color: #008080; text-decoration-color: #008080; font-weight: bold\">0.3422</span> - Validation Loss: <span style=\"color: #008080; text-decoration-color: #008080; font-weight: bold\">0.3472</span> - Accuracy: <span style=\"color: #008080; text-decoration-color: #008080; font-weight: bold\">0.7391</span> - Best Accuracy: <span style=\"color: #008080; text-decoration-color: #008080; font-weight: bold\">0.7392</span>\n",
       "</pre>\n"
      ],
      "text/plain": [
       "Epoch \u001b[1;36m6\u001b[0m/\u001b[1;36m20\u001b[0m - Train Loss: \u001b[1;36m0.3422\u001b[0m - Validation Loss: \u001b[1;36m0.3472\u001b[0m - Accuracy: \u001b[1;36m0.7391\u001b[0m - Best Accuracy: \u001b[1;36m0.7392\u001b[0m\n"
      ]
     },
     "metadata": {},
     "output_type": "display_data"
    },
    {
     "name": "stderr",
     "output_type": "stream",
     "text": [
      "Epoch 7/20: 100%|██████████| 13513/13513 [02:18<00:00, 97.35it/s, loss=0.355] \n"
     ]
    },
    {
     "data": {
      "text/html": [
       "<pre style=\"white-space:pre;overflow-x:auto;line-height:normal;font-family:Menlo,'DejaVu Sans Mono',consolas,'Courier New',monospace\">Epoch <span style=\"color: #008080; text-decoration-color: #008080; font-weight: bold\">7</span>/<span style=\"color: #008080; text-decoration-color: #008080; font-weight: bold\">20</span> - Train Loss: <span style=\"color: #008080; text-decoration-color: #008080; font-weight: bold\">0.3400</span> - Validation Loss: <span style=\"color: #008080; text-decoration-color: #008080; font-weight: bold\">0.3406</span> - Accuracy: <span style=\"color: #008080; text-decoration-color: #008080; font-weight: bold\">0.7265</span> - Best Accuracy: <span style=\"color: #008080; text-decoration-color: #008080; font-weight: bold\">0.7392</span>\n",
       "</pre>\n"
      ],
      "text/plain": [
       "Epoch \u001b[1;36m7\u001b[0m/\u001b[1;36m20\u001b[0m - Train Loss: \u001b[1;36m0.3400\u001b[0m - Validation Loss: \u001b[1;36m0.3406\u001b[0m - Accuracy: \u001b[1;36m0.7265\u001b[0m - Best Accuracy: \u001b[1;36m0.7392\u001b[0m\n"
      ]
     },
     "metadata": {},
     "output_type": "display_data"
    },
    {
     "name": "stderr",
     "output_type": "stream",
     "text": [
      "Epoch 8/20: 100%|██████████| 13513/13513 [02:18<00:00, 97.87it/s, loss=0.206] \n"
     ]
    },
    {
     "data": {
      "text/html": [
       "<pre style=\"white-space:pre;overflow-x:auto;line-height:normal;font-family:Menlo,'DejaVu Sans Mono',consolas,'Courier New',monospace\">Epoch <span style=\"color: #008080; text-decoration-color: #008080; font-weight: bold\">8</span>/<span style=\"color: #008080; text-decoration-color: #008080; font-weight: bold\">20</span> - Train Loss: <span style=\"color: #008080; text-decoration-color: #008080; font-weight: bold\">0.3372</span> - Validation Loss: <span style=\"color: #008080; text-decoration-color: #008080; font-weight: bold\">0.3371</span> - Accuracy: <span style=\"color: #008080; text-decoration-color: #008080; font-weight: bold\">0.7491</span> - Best Accuracy: <span style=\"color: #008080; text-decoration-color: #008080; font-weight: bold\">0.7491</span>\n",
       "</pre>\n"
      ],
      "text/plain": [
       "Epoch \u001b[1;36m8\u001b[0m/\u001b[1;36m20\u001b[0m - Train Loss: \u001b[1;36m0.3372\u001b[0m - Validation Loss: \u001b[1;36m0.3371\u001b[0m - Accuracy: \u001b[1;36m0.7491\u001b[0m - Best Accuracy: \u001b[1;36m0.7491\u001b[0m\n"
      ]
     },
     "metadata": {},
     "output_type": "display_data"
    },
    {
     "name": "stderr",
     "output_type": "stream",
     "text": [
      "Epoch 9/20: 100%|██████████| 13513/13513 [02:17<00:00, 98.02it/s, loss=0.363] \n"
     ]
    },
    {
     "data": {
      "text/html": [
       "<pre style=\"white-space:pre;overflow-x:auto;line-height:normal;font-family:Menlo,'DejaVu Sans Mono',consolas,'Courier New',monospace\">Epoch <span style=\"color: #008080; text-decoration-color: #008080; font-weight: bold\">9</span>/<span style=\"color: #008080; text-decoration-color: #008080; font-weight: bold\">20</span> - Train Loss: <span style=\"color: #008080; text-decoration-color: #008080; font-weight: bold\">0.3360</span> - Validation Loss: <span style=\"color: #008080; text-decoration-color: #008080; font-weight: bold\">0.3379</span> - Accuracy: <span style=\"color: #008080; text-decoration-color: #008080; font-weight: bold\">0.7575</span> - Best Accuracy: <span style=\"color: #008080; text-decoration-color: #008080; font-weight: bold\">0.7575</span>\n",
       "</pre>\n"
      ],
      "text/plain": [
       "Epoch \u001b[1;36m9\u001b[0m/\u001b[1;36m20\u001b[0m - Train Loss: \u001b[1;36m0.3360\u001b[0m - Validation Loss: \u001b[1;36m0.3379\u001b[0m - Accuracy: \u001b[1;36m0.7575\u001b[0m - Best Accuracy: \u001b[1;36m0.7575\u001b[0m\n"
      ]
     },
     "metadata": {},
     "output_type": "display_data"
    },
    {
     "name": "stderr",
     "output_type": "stream",
     "text": [
      "Epoch 10/20: 100%|██████████| 13513/13513 [02:13<00:00, 101.11it/s, loss=0.545]\n"
     ]
    },
    {
     "data": {
      "text/html": [
       "<pre style=\"white-space:pre;overflow-x:auto;line-height:normal;font-family:Menlo,'DejaVu Sans Mono',consolas,'Courier New',monospace\">Epoch <span style=\"color: #008080; text-decoration-color: #008080; font-weight: bold\">10</span>/<span style=\"color: #008080; text-decoration-color: #008080; font-weight: bold\">20</span> - Train Loss: <span style=\"color: #008080; text-decoration-color: #008080; font-weight: bold\">0.3345</span> - Validation Loss: <span style=\"color: #008080; text-decoration-color: #008080; font-weight: bold\">0.3390</span> - Accuracy: <span style=\"color: #008080; text-decoration-color: #008080; font-weight: bold\">0.7261</span> - Best Accuracy: <span style=\"color: #008080; text-decoration-color: #008080; font-weight: bold\">0.7575</span>\n",
       "</pre>\n"
      ],
      "text/plain": [
       "Epoch \u001b[1;36m10\u001b[0m/\u001b[1;36m20\u001b[0m - Train Loss: \u001b[1;36m0.3345\u001b[0m - Validation Loss: \u001b[1;36m0.3390\u001b[0m - Accuracy: \u001b[1;36m0.7261\u001b[0m - Best Accuracy: \u001b[1;36m0.7575\u001b[0m\n"
      ]
     },
     "metadata": {},
     "output_type": "display_data"
    },
    {
     "name": "stderr",
     "output_type": "stream",
     "text": [
      "Epoch 11/20: 100%|██████████| 13513/13513 [02:12<00:00, 101.90it/s, loss=0.244]\n"
     ]
    },
    {
     "data": {
      "text/html": [
       "<pre style=\"white-space:pre;overflow-x:auto;line-height:normal;font-family:Menlo,'DejaVu Sans Mono',consolas,'Courier New',monospace\">Epoch <span style=\"color: #008080; text-decoration-color: #008080; font-weight: bold\">11</span>/<span style=\"color: #008080; text-decoration-color: #008080; font-weight: bold\">20</span> - Train Loss: <span style=\"color: #008080; text-decoration-color: #008080; font-weight: bold\">0.3325</span> - Validation Loss: <span style=\"color: #008080; text-decoration-color: #008080; font-weight: bold\">0.3893</span> - Accuracy: <span style=\"color: #008080; text-decoration-color: #008080; font-weight: bold\">0.6845</span> - Best Accuracy: <span style=\"color: #008080; text-decoration-color: #008080; font-weight: bold\">0.7575</span>\n",
       "</pre>\n"
      ],
      "text/plain": [
       "Epoch \u001b[1;36m11\u001b[0m/\u001b[1;36m20\u001b[0m - Train Loss: \u001b[1;36m0.3325\u001b[0m - Validation Loss: \u001b[1;36m0.3893\u001b[0m - Accuracy: \u001b[1;36m0.6845\u001b[0m - Best Accuracy: \u001b[1;36m0.7575\u001b[0m\n"
      ]
     },
     "metadata": {},
     "output_type": "display_data"
    },
    {
     "name": "stderr",
     "output_type": "stream",
     "text": [
      "Epoch 12/20: 100%|██████████| 13513/13513 [02:12<00:00, 101.74it/s, loss=0.186]\n"
     ]
    },
    {
     "data": {
      "text/html": [
       "<pre style=\"white-space:pre;overflow-x:auto;line-height:normal;font-family:Menlo,'DejaVu Sans Mono',consolas,'Courier New',monospace\">Epoch <span style=\"color: #008080; text-decoration-color: #008080; font-weight: bold\">12</span>/<span style=\"color: #008080; text-decoration-color: #008080; font-weight: bold\">20</span> - Train Loss: <span style=\"color: #008080; text-decoration-color: #008080; font-weight: bold\">0.3309</span> - Validation Loss: <span style=\"color: #008080; text-decoration-color: #008080; font-weight: bold\">0.3310</span> - Accuracy: <span style=\"color: #008080; text-decoration-color: #008080; font-weight: bold\">0.7615</span> - Best Accuracy: <span style=\"color: #008080; text-decoration-color: #008080; font-weight: bold\">0.7615</span>\n",
       "</pre>\n"
      ],
      "text/plain": [
       "Epoch \u001b[1;36m12\u001b[0m/\u001b[1;36m20\u001b[0m - Train Loss: \u001b[1;36m0.3309\u001b[0m - Validation Loss: \u001b[1;36m0.3310\u001b[0m - Accuracy: \u001b[1;36m0.7615\u001b[0m - Best Accuracy: \u001b[1;36m0.7615\u001b[0m\n"
      ]
     },
     "metadata": {},
     "output_type": "display_data"
    },
    {
     "name": "stderr",
     "output_type": "stream",
     "text": [
      "Epoch 13/20: 100%|██████████| 13513/13513 [02:12<00:00, 101.75it/s, loss=0.26] \n"
     ]
    },
    {
     "data": {
      "text/html": [
       "<pre style=\"white-space:pre;overflow-x:auto;line-height:normal;font-family:Menlo,'DejaVu Sans Mono',consolas,'Courier New',monospace\">Epoch <span style=\"color: #008080; text-decoration-color: #008080; font-weight: bold\">13</span>/<span style=\"color: #008080; text-decoration-color: #008080; font-weight: bold\">20</span> - Train Loss: <span style=\"color: #008080; text-decoration-color: #008080; font-weight: bold\">0.3302</span> - Validation Loss: <span style=\"color: #008080; text-decoration-color: #008080; font-weight: bold\">0.3426</span> - Accuracy: <span style=\"color: #008080; text-decoration-color: #008080; font-weight: bold\">0.7211</span> - Best Accuracy: <span style=\"color: #008080; text-decoration-color: #008080; font-weight: bold\">0.7615</span>\n",
       "</pre>\n"
      ],
      "text/plain": [
       "Epoch \u001b[1;36m13\u001b[0m/\u001b[1;36m20\u001b[0m - Train Loss: \u001b[1;36m0.3302\u001b[0m - Validation Loss: \u001b[1;36m0.3426\u001b[0m - Accuracy: \u001b[1;36m0.7211\u001b[0m - Best Accuracy: \u001b[1;36m0.7615\u001b[0m\n"
      ]
     },
     "metadata": {},
     "output_type": "display_data"
    },
    {
     "name": "stderr",
     "output_type": "stream",
     "text": [
      "Epoch 14/20: 100%|██████████| 13513/13513 [02:09<00:00, 104.51it/s, loss=0.374]\n"
     ]
    },
    {
     "data": {
      "text/html": [
       "<pre style=\"white-space:pre;overflow-x:auto;line-height:normal;font-family:Menlo,'DejaVu Sans Mono',consolas,'Courier New',monospace\">Epoch <span style=\"color: #008080; text-decoration-color: #008080; font-weight: bold\">14</span>/<span style=\"color: #008080; text-decoration-color: #008080; font-weight: bold\">20</span> - Train Loss: <span style=\"color: #008080; text-decoration-color: #008080; font-weight: bold\">0.3287</span> - Validation Loss: <span style=\"color: #008080; text-decoration-color: #008080; font-weight: bold\">0.3580</span> - Accuracy: <span style=\"color: #008080; text-decoration-color: #008080; font-weight: bold\">0.7533</span> - Best Accuracy: <span style=\"color: #008080; text-decoration-color: #008080; font-weight: bold\">0.7615</span>\n",
       "</pre>\n"
      ],
      "text/plain": [
       "Epoch \u001b[1;36m14\u001b[0m/\u001b[1;36m20\u001b[0m - Train Loss: \u001b[1;36m0.3287\u001b[0m - Validation Loss: \u001b[1;36m0.3580\u001b[0m - Accuracy: \u001b[1;36m0.7533\u001b[0m - Best Accuracy: \u001b[1;36m0.7615\u001b[0m\n"
      ]
     },
     "metadata": {},
     "output_type": "display_data"
    },
    {
     "name": "stderr",
     "output_type": "stream",
     "text": [
      "Epoch 15/20: 100%|██████████| 13513/13513 [02:09<00:00, 104.12it/s, loss=0.318]\n"
     ]
    },
    {
     "data": {
      "text/html": [
       "<pre style=\"white-space:pre;overflow-x:auto;line-height:normal;font-family:Menlo,'DejaVu Sans Mono',consolas,'Courier New',monospace\">Epoch <span style=\"color: #008080; text-decoration-color: #008080; font-weight: bold\">15</span>/<span style=\"color: #008080; text-decoration-color: #008080; font-weight: bold\">20</span> - Train Loss: <span style=\"color: #008080; text-decoration-color: #008080; font-weight: bold\">0.3283</span> - Validation Loss: <span style=\"color: #008080; text-decoration-color: #008080; font-weight: bold\">0.3935</span> - Accuracy: <span style=\"color: #008080; text-decoration-color: #008080; font-weight: bold\">0.6760</span> - Best Accuracy: <span style=\"color: #008080; text-decoration-color: #008080; font-weight: bold\">0.7615</span>\n",
       "</pre>\n"
      ],
      "text/plain": [
       "Epoch \u001b[1;36m15\u001b[0m/\u001b[1;36m20\u001b[0m - Train Loss: \u001b[1;36m0.3283\u001b[0m - Validation Loss: \u001b[1;36m0.3935\u001b[0m - Accuracy: \u001b[1;36m0.6760\u001b[0m - Best Accuracy: \u001b[1;36m0.7615\u001b[0m\n"
      ]
     },
     "metadata": {},
     "output_type": "display_data"
    },
    {
     "name": "stderr",
     "output_type": "stream",
     "text": [
      "Epoch 16/20: 100%|██████████| 13513/13513 [02:09<00:00, 104.01it/s, loss=0.322]\n"
     ]
    },
    {
     "data": {
      "text/html": [
       "<pre style=\"white-space:pre;overflow-x:auto;line-height:normal;font-family:Menlo,'DejaVu Sans Mono',consolas,'Courier New',monospace\">Epoch <span style=\"color: #008080; text-decoration-color: #008080; font-weight: bold\">16</span>/<span style=\"color: #008080; text-decoration-color: #008080; font-weight: bold\">20</span> - Train Loss: <span style=\"color: #008080; text-decoration-color: #008080; font-weight: bold\">0.3274</span> - Validation Loss: <span style=\"color: #008080; text-decoration-color: #008080; font-weight: bold\">0.3543</span> - Accuracy: <span style=\"color: #008080; text-decoration-color: #008080; font-weight: bold\">0.7460</span> - Best Accuracy: <span style=\"color: #008080; text-decoration-color: #008080; font-weight: bold\">0.7615</span>\n",
       "</pre>\n"
      ],
      "text/plain": [
       "Epoch \u001b[1;36m16\u001b[0m/\u001b[1;36m20\u001b[0m - Train Loss: \u001b[1;36m0.3274\u001b[0m - Validation Loss: \u001b[1;36m0.3543\u001b[0m - Accuracy: \u001b[1;36m0.7460\u001b[0m - Best Accuracy: \u001b[1;36m0.7615\u001b[0m\n"
      ]
     },
     "metadata": {},
     "output_type": "display_data"
    },
    {
     "name": "stderr",
     "output_type": "stream",
     "text": [
      "Epoch 17/20: 100%|██████████| 13513/13513 [02:07<00:00, 106.14it/s, loss=0.253]\n"
     ]
    },
    {
     "data": {
      "text/html": [
       "<pre style=\"white-space:pre;overflow-x:auto;line-height:normal;font-family:Menlo,'DejaVu Sans Mono',consolas,'Courier New',monospace\">Epoch <span style=\"color: #008080; text-decoration-color: #008080; font-weight: bold\">17</span>/<span style=\"color: #008080; text-decoration-color: #008080; font-weight: bold\">20</span> - Train Loss: <span style=\"color: #008080; text-decoration-color: #008080; font-weight: bold\">0.3265</span> - Validation Loss: <span style=\"color: #008080; text-decoration-color: #008080; font-weight: bold\">0.3479</span> - Accuracy: <span style=\"color: #008080; text-decoration-color: #008080; font-weight: bold\">0.7641</span> - Best Accuracy: <span style=\"color: #008080; text-decoration-color: #008080; font-weight: bold\">0.7641</span>\n",
       "</pre>\n"
      ],
      "text/plain": [
       "Epoch \u001b[1;36m17\u001b[0m/\u001b[1;36m20\u001b[0m - Train Loss: \u001b[1;36m0.3265\u001b[0m - Validation Loss: \u001b[1;36m0.3479\u001b[0m - Accuracy: \u001b[1;36m0.7641\u001b[0m - Best Accuracy: \u001b[1;36m0.7641\u001b[0m\n"
      ]
     },
     "metadata": {},
     "output_type": "display_data"
    },
    {
     "name": "stderr",
     "output_type": "stream",
     "text": [
      "Epoch 18/20: 100%|██████████| 13513/13513 [01:56<00:00, 116.38it/s, loss=0.376]\n"
     ]
    },
    {
     "data": {
      "text/html": [
       "<pre style=\"white-space:pre;overflow-x:auto;line-height:normal;font-family:Menlo,'DejaVu Sans Mono',consolas,'Courier New',monospace\">Epoch <span style=\"color: #008080; text-decoration-color: #008080; font-weight: bold\">18</span>/<span style=\"color: #008080; text-decoration-color: #008080; font-weight: bold\">20</span> - Train Loss: <span style=\"color: #008080; text-decoration-color: #008080; font-weight: bold\">0.3262</span> - Validation Loss: <span style=\"color: #008080; text-decoration-color: #008080; font-weight: bold\">0.3442</span> - Accuracy: <span style=\"color: #008080; text-decoration-color: #008080; font-weight: bold\">0.7510</span> - Best Accuracy: <span style=\"color: #008080; text-decoration-color: #008080; font-weight: bold\">0.7641</span>\n",
       "</pre>\n"
      ],
      "text/plain": [
       "Epoch \u001b[1;36m18\u001b[0m/\u001b[1;36m20\u001b[0m - Train Loss: \u001b[1;36m0.3262\u001b[0m - Validation Loss: \u001b[1;36m0.3442\u001b[0m - Accuracy: \u001b[1;36m0.7510\u001b[0m - Best Accuracy: \u001b[1;36m0.7641\u001b[0m\n"
      ]
     },
     "metadata": {},
     "output_type": "display_data"
    },
    {
     "name": "stderr",
     "output_type": "stream",
     "text": [
      "Epoch 19/20: 100%|██████████| 13513/13513 [01:43<00:00, 130.29it/s, loss=0.262]\n"
     ]
    },
    {
     "data": {
      "text/html": [
       "<pre style=\"white-space:pre;overflow-x:auto;line-height:normal;font-family:Menlo,'DejaVu Sans Mono',consolas,'Courier New',monospace\">Epoch <span style=\"color: #008080; text-decoration-color: #008080; font-weight: bold\">19</span>/<span style=\"color: #008080; text-decoration-color: #008080; font-weight: bold\">20</span> - Train Loss: <span style=\"color: #008080; text-decoration-color: #008080; font-weight: bold\">0.3167</span> - Validation Loss: <span style=\"color: #008080; text-decoration-color: #008080; font-weight: bold\">0.3603</span> - Accuracy: <span style=\"color: #008080; text-decoration-color: #008080; font-weight: bold\">0.7402</span> - Best Accuracy: <span style=\"color: #008080; text-decoration-color: #008080; font-weight: bold\">0.7641</span>\n",
       "</pre>\n"
      ],
      "text/plain": [
       "Epoch \u001b[1;36m19\u001b[0m/\u001b[1;36m20\u001b[0m - Train Loss: \u001b[1;36m0.3167\u001b[0m - Validation Loss: \u001b[1;36m0.3603\u001b[0m - Accuracy: \u001b[1;36m0.7402\u001b[0m - Best Accuracy: \u001b[1;36m0.7641\u001b[0m\n"
      ]
     },
     "metadata": {},
     "output_type": "display_data"
    },
    {
     "name": "stderr",
     "output_type": "stream",
     "text": [
      "Epoch 20/20: 100%|██████████| 13513/13513 [02:05<00:00, 107.30it/s, loss=0.255]\n"
     ]
    },
    {
     "data": {
      "text/html": [
       "<pre style=\"white-space:pre;overflow-x:auto;line-height:normal;font-family:Menlo,'DejaVu Sans Mono',consolas,'Courier New',monospace\">Epoch <span style=\"color: #008080; text-decoration-color: #008080; font-weight: bold\">20</span>/<span style=\"color: #008080; text-decoration-color: #008080; font-weight: bold\">20</span> - Train Loss: <span style=\"color: #008080; text-decoration-color: #008080; font-weight: bold\">0.3148</span> - Validation Loss: <span style=\"color: #008080; text-decoration-color: #008080; font-weight: bold\">0.3362</span> - Accuracy: <span style=\"color: #008080; text-decoration-color: #008080; font-weight: bold\">0.7682</span> - Best Accuracy: <span style=\"color: #008080; text-decoration-color: #008080; font-weight: bold\">0.7682</span>\n",
       "</pre>\n"
      ],
      "text/plain": [
       "Epoch \u001b[1;36m20\u001b[0m/\u001b[1;36m20\u001b[0m - Train Loss: \u001b[1;36m0.3148\u001b[0m - Validation Loss: \u001b[1;36m0.3362\u001b[0m - Accuracy: \u001b[1;36m0.7682\u001b[0m - Best Accuracy: \u001b[1;36m0.7682\u001b[0m\n"
      ]
     },
     "metadata": {},
     "output_type": "display_data"
    }
   ],
   "source": [
    "# Model, loss, and optimizer\n",
    "input_size = x_train.shape[1]\n",
    "num_classes = len(label_encoder.classes_)\n",
    "\n",
    "model = ImprovedNeuralNet(input_size, num_classes)\n",
    "optimizer = get_optimizer(model)\n",
    "scheduler = get_scheduler(optimizer)\n",
    "\n",
    "# Calculate class weights\n",
    "class_counts = torch.bincount(y_train_tensor)\n",
    "total_samples = len(y_train_tensor)\n",
    "class_weights = total_samples / (len(class_counts) * class_counts)\n",
    "criterion = nn.CrossEntropyLoss(weight=class_weights)\n",
    "\n",
    "# Training loop\n",
    "epochs = 20\n",
    "best_val_loss = float('inf')\n",
    "best_accuracy = 0.0\n",
    "patience = 10  # Number of epochs to wait before early stopping\n",
    "counter = 0  # Counter for patience\n",
    "\n",
    "for epoch in range(epochs):\n",
    "    model.train()\n",
    "    epoch_loss = 0\n",
    "    num_batches = len(train_loader)\n",
    "\n",
    "    with tqdm(train_loader, desc=f\"Epoch {epoch + 1}/{epochs}\") as progress_bar:\n",
    "        for batch_X, batch_y in progress_bar:\n",
    "            optimizer.zero_grad()\n",
    "            outputs = model(batch_X)\n",
    "            loss = criterion(outputs, batch_y)\n",
    "            loss.backward()\n",
    "            optimizer.step()\n",
    "\n",
    "            epoch_loss += loss.item()\n",
    "            progress_bar.set_postfix(loss=loss.item())\n",
    "\n",
    "    # Validation step\n",
    "    model.eval()\n",
    "    val_loss = 0\n",
    "    correct = 0\n",
    "    with torch.no_grad():\n",
    "        for batch_X, batch_y in val_loader:\n",
    "            outputs = model(batch_X)\n",
    "            loss = criterion(outputs, batch_y)\n",
    "            val_loss += loss.item()\n",
    "\n",
    "            _, predicted = torch.max(outputs, 1)\n",
    "            correct += (predicted == batch_y).sum().item()\n",
    "\n",
    "    val_loss /= len(val_loader)\n",
    "    accuracy = correct / len(val_dataset)\n",
    "\n",
    "    # Learning rate scheduling\n",
    "    scheduler.step(val_loss)\n",
    "\n",
    "    # Save model if it's the best so far (based on accuracy)\n",
    "    if accuracy > best_accuracy:\n",
    "        best_accuracy = accuracy\n",
    "        best_val_loss = val_loss\n",
    "        torch.save({\n",
    "            'epoch': epoch,\n",
    "            'model_state_dict': model.state_dict(),\n",
    "            'optimizer_state_dict': optimizer.state_dict(),\n",
    "            'scheduler_state_dict': scheduler.state_dict(),\n",
    "            'best_accuracy': best_accuracy,\n",
    "            'best_val_loss': best_val_loss\n",
    "        }, \"best_model.pth\")\n",
    "        counter = 0  # Reset counter\n",
    "    else:\n",
    "        counter += 1  # Increment counter if accuracy didn't improve\n",
    "\n",
    "    print(f\"Epoch {epoch + 1}/{epochs} - Train Loss: {epoch_loss / num_batches:.4f} - Validation Loss: {val_loss:.4f} - Accuracy: {accuracy:.4f} - Best Accuracy: {best_accuracy:.4f}\")\n",
    "\n",
    "    # If we've waited for patience epochs with no improvement, load best model and reduce learning rate\n",
    "    if counter >= patience:\n",
    "        print(f\"No improvement for {patience} epochs. Loading best model...\")\n",
    "        exit()"
   ]
  },
  {
   "cell_type": "code",
   "execution_count": 7,
   "metadata": {},
   "outputs": [
    {
     "data": {
      "text/plain": [
       "<All keys matched successfully>"
      ]
     },
     "execution_count": 7,
     "metadata": {},
     "output_type": "execute_result"
    }
   ],
   "source": [
    "# At the end, load the best model\n",
    "checkpoint = torch.load(\"best_model.pth\", weights_only=True)\n",
    "model.load_state_dict(checkpoint['model_state_dict'])"
   ]
  },
  {
   "cell_type": "code",
   "execution_count": 8,
   "metadata": {},
   "outputs": [
    {
     "data": {
      "text/html": [
       "<pre style=\"white-space:pre;overflow-x:auto;line-height:normal;font-family:Menlo,'DejaVu Sans Mono',consolas,'Courier New',monospace\">              precision    recall  f1-score   support\n",
       "\n",
       "      BENIGN       <span style=\"color: #008080; text-decoration-color: #008080; font-weight: bold\">0.99</span>      <span style=\"color: #008080; text-decoration-color: #008080; font-weight: bold\">0.88</span>      <span style=\"color: #008080; text-decoration-color: #008080; font-weight: bold\">0.93</span>     <span style=\"color: #008080; text-decoration-color: #008080; font-weight: bold\">57664</span>\n",
       "        DDoS       <span style=\"color: #008080; text-decoration-color: #008080; font-weight: bold\">0.77</span>      <span style=\"color: #008080; text-decoration-color: #008080; font-weight: bold\">0.81</span>      <span style=\"color: #008080; text-decoration-color: #008080; font-weight: bold\">0.79</span>    <span style=\"color: #008080; text-decoration-color: #008080; font-weight: bold\">175033</span>\n",
       "         DoS       <span style=\"color: #008080; text-decoration-color: #008080; font-weight: bold\">0.56</span>      <span style=\"color: #008080; text-decoration-color: #008080; font-weight: bold\">0.50</span>      <span style=\"color: #008080; text-decoration-color: #008080; font-weight: bold\">0.53</span>     <span style=\"color: #008080; text-decoration-color: #008080; font-weight: bold\">85315</span>\n",
       "        MQTT       <span style=\"color: #008080; text-decoration-color: #008080; font-weight: bold\">0.99</span>      <span style=\"color: #008080; text-decoration-color: #008080; font-weight: bold\">0.97</span>      <span style=\"color: #008080; text-decoration-color: #008080; font-weight: bold\">0.98</span>     <span style=\"color: #008080; text-decoration-color: #008080; font-weight: bold\">32040</span>\n",
       "       RECON       <span style=\"color: #008080; text-decoration-color: #008080; font-weight: bold\">0.97</span>      <span style=\"color: #008080; text-decoration-color: #008080; font-weight: bold\">0.91</span>      <span style=\"color: #008080; text-decoration-color: #008080; font-weight: bold\">0.94</span>     <span style=\"color: #008080; text-decoration-color: #008080; font-weight: bold\">15843</span>\n",
       "    SPOOFING       <span style=\"color: #008080; text-decoration-color: #008080; font-weight: bold\">0.36</span>      <span style=\"color: #008080; text-decoration-color: #008080; font-weight: bold\">0.95</span>      <span style=\"color: #008080; text-decoration-color: #008080; font-weight: bold\">0.52</span>      <span style=\"color: #008080; text-decoration-color: #008080; font-weight: bold\">4745</span>\n",
       "\n",
       "    accuracy                           <span style=\"color: #008080; text-decoration-color: #008080; font-weight: bold\">0.77</span>    <span style=\"color: #008080; text-decoration-color: #008080; font-weight: bold\">370640</span>\n",
       "   macro avg       <span style=\"color: #008080; text-decoration-color: #008080; font-weight: bold\">0.77</span>      <span style=\"color: #008080; text-decoration-color: #008080; font-weight: bold\">0.84</span>      <span style=\"color: #008080; text-decoration-color: #008080; font-weight: bold\">0.78</span>    <span style=\"color: #008080; text-decoration-color: #008080; font-weight: bold\">370640</span>\n",
       "weighted avg       <span style=\"color: #008080; text-decoration-color: #008080; font-weight: bold\">0.78</span>      <span style=\"color: #008080; text-decoration-color: #008080; font-weight: bold\">0.77</span>      <span style=\"color: #008080; text-decoration-color: #008080; font-weight: bold\">0.77</span>    <span style=\"color: #008080; text-decoration-color: #008080; font-weight: bold\">370640</span>\n",
       "\n",
       "</pre>\n"
      ],
      "text/plain": [
       "              precision    recall  f1-score   support\n",
       "\n",
       "      BENIGN       \u001b[1;36m0.99\u001b[0m      \u001b[1;36m0.88\u001b[0m      \u001b[1;36m0.93\u001b[0m     \u001b[1;36m57664\u001b[0m\n",
       "        DDoS       \u001b[1;36m0.77\u001b[0m      \u001b[1;36m0.81\u001b[0m      \u001b[1;36m0.79\u001b[0m    \u001b[1;36m175033\u001b[0m\n",
       "         DoS       \u001b[1;36m0.56\u001b[0m      \u001b[1;36m0.50\u001b[0m      \u001b[1;36m0.53\u001b[0m     \u001b[1;36m85315\u001b[0m\n",
       "        MQTT       \u001b[1;36m0.99\u001b[0m      \u001b[1;36m0.97\u001b[0m      \u001b[1;36m0.98\u001b[0m     \u001b[1;36m32040\u001b[0m\n",
       "       RECON       \u001b[1;36m0.97\u001b[0m      \u001b[1;36m0.91\u001b[0m      \u001b[1;36m0.94\u001b[0m     \u001b[1;36m15843\u001b[0m\n",
       "    SPOOFING       \u001b[1;36m0.36\u001b[0m      \u001b[1;36m0.95\u001b[0m      \u001b[1;36m0.52\u001b[0m      \u001b[1;36m4745\u001b[0m\n",
       "\n",
       "    accuracy                           \u001b[1;36m0.77\u001b[0m    \u001b[1;36m370640\u001b[0m\n",
       "   macro avg       \u001b[1;36m0.77\u001b[0m      \u001b[1;36m0.84\u001b[0m      \u001b[1;36m0.78\u001b[0m    \u001b[1;36m370640\u001b[0m\n",
       "weighted avg       \u001b[1;36m0.78\u001b[0m      \u001b[1;36m0.77\u001b[0m      \u001b[1;36m0.77\u001b[0m    \u001b[1;36m370640\u001b[0m\n",
       "\n"
      ]
     },
     "metadata": {},
     "output_type": "display_data"
    },
    {
     "data": {
      "text/plain": [
       "array([[ 50790,      0,      4,    142,    388,   6340],\n",
       "       [     4, 140952,  34075,      2,      0,      0],\n",
       "       [     0,  42410,  42898,      7,      0,      0],\n",
       "       [    68,      0,      7,  31120,     47,    798],\n",
       "       [   361,      0,      0,     10,  14448,   1024],\n",
       "       [   187,      0,      0,     23,     20,   4515]])"
      ]
     },
     "execution_count": 8,
     "metadata": {},
     "output_type": "execute_result"
    }
   ],
   "source": [
    "#  Make predictions on the validation set\n",
    "y_pred = []\n",
    "y_true = []\n",
    "\n",
    "with torch.no_grad():\n",
    "    for inputs, labels in val_loader:\n",
    "        outputs = model(inputs)\n",
    "        _, predicted = torch.max(outputs, 1)\n",
    "        y_pred.extend(predicted.cpu().numpy())\n",
    "        y_true.extend(labels.cpu().numpy())\n",
    "\n",
    "# Convert lists to numpy arrays\n",
    "y_pred = np.array(y_pred)\n",
    "y_true = np.array(y_true)\n",
    "\n",
    "# Print classification report\n",
    "print(classification_report(y_true, y_pred, target_names=label_encoder.classes_))\n",
    "\n",
    "# Print confusion matrix\n",
    "cm = confusion_matrix(y_true, y_pred)\n",
    "cm"
   ]
  }
 ],
 "metadata": {
  "kernelspec": {
   "display_name": "Python 3",
   "language": "python",
   "name": "python3"
  },
  "language_info": {
   "codemirror_mode": {
    "name": "ipython",
    "version": 3
   },
   "file_extension": ".py",
   "mimetype": "text/x-python",
   "name": "python",
   "nbconvert_exporter": "python",
   "pygments_lexer": "ipython3",
   "version": "3.12.7"
  }
 },
 "nbformat": 4,
 "nbformat_minor": 2
}
