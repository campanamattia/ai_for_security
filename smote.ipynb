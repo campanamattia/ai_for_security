{
 "cells": [
  {
   "cell_type": "markdown",
   "metadata": {},
   "source": [
    "# NN Multiclass"
   ]
  },
  {
   "cell_type": "code",
   "execution_count": 2,
   "metadata": {},
   "outputs": [],
   "source": [
    "import pandas as pd\n",
    "from imblearn.over_sampling import SMOTE\n",
    "from sklearn.utils import resample\n",
    "from rich import print\n",
    "from tabulate import tabulate"
   ]
  },
  {
   "cell_type": "code",
   "execution_count": 3,
   "metadata": {},
   "outputs": [
    {
     "data": {
      "text/html": [
       "<pre style=\"white-space:pre;overflow-x:auto;line-height:normal;font-family:Menlo,'DejaVu Sans Mono',consolas,'Courier New',monospace\">+------------+------------+-----------------+\n",
       "| Category   |   Original |   After Balance |\n",
       "|------------+------------+-----------------|\n",
       "| BENIGN     |     <span style=\"color: #008080; text-decoration-color: #008080; font-weight: bold\">192732</span> |          <span style=\"color: #008080; text-decoration-color: #008080; font-weight: bold\">165186</span> |\n",
       "| DDoS       |     <span style=\"color: #008080; text-decoration-color: #008080; font-weight: bold\">581986</span> |          <span style=\"color: #008080; text-decoration-color: #008080; font-weight: bold\">165186</span> |\n",
       "| DoS        |     <span style=\"color: #008080; text-decoration-color: #008080; font-weight: bold\">284552</span> |          <span style=\"color: #008080; text-decoration-color: #008080; font-weight: bold\">165186</span> |\n",
       "| MQTT       |     <span style=\"color: #008080; text-decoration-color: #008080; font-weight: bold\">107607</span> |          <span style=\"color: #008080; text-decoration-color: #008080; font-weight: bold\">107607</span> |\n",
       "| RECON      |      <span style=\"color: #008080; text-decoration-color: #008080; font-weight: bold\">52541</span> |           <span style=\"color: #008080; text-decoration-color: #008080; font-weight: bold\">75084</span> |\n",
       "| SPOOFING   |      <span style=\"color: #008080; text-decoration-color: #008080; font-weight: bold\">16047</span> |           <span style=\"color: #008080; text-decoration-color: #008080; font-weight: bold\">32094</span> |\n",
       "+------------+------------+-----------------+\n",
       "</pre>\n"
      ],
      "text/plain": [
       "+------------+------------+-----------------+\n",
       "| Category   |   Original |   After Balance |\n",
       "|------------+------------+-----------------|\n",
       "| BENIGN     |     \u001b[1;36m192732\u001b[0m |          \u001b[1;36m165186\u001b[0m |\n",
       "| DDoS       |     \u001b[1;36m581986\u001b[0m |          \u001b[1;36m165186\u001b[0m |\n",
       "| DoS        |     \u001b[1;36m284552\u001b[0m |          \u001b[1;36m165186\u001b[0m |\n",
       "| MQTT       |     \u001b[1;36m107607\u001b[0m |          \u001b[1;36m107607\u001b[0m |\n",
       "| RECON      |      \u001b[1;36m52541\u001b[0m |           \u001b[1;36m75084\u001b[0m |\n",
       "| SPOOFING   |      \u001b[1;36m16047\u001b[0m |           \u001b[1;36m32094\u001b[0m |\n",
       "+------------+------------+-----------------+\n"
      ]
     },
     "metadata": {},
     "output_type": "display_data"
    }
   ],
   "source": [
    "def balance_dataset(df, max_ratio=1.5, min_ratio=0.67):\n",
    "    \"\"\"\n",
    "    Balance dataset using a more conservative approach with SMOTE\n",
    "    \n",
    "    Parameters:\n",
    "    - df: DataFrame with 'category' column\n",
    "    - max_ratio: Maximum ratio between largest and smallest class (default 1.5)\n",
    "    - min_ratio: Minimum ratio between smallest and reference class (default 0.67)\n",
    "    \n",
    "    Returns:\n",
    "    - Balanced DataFrame\n",
    "    \"\"\"\n",
    "    \n",
    "    # Get category counts\n",
    "    category_counts = df['category'].value_counts()\n",
    "    \n",
    "    # Calculate target counts\n",
    "    median_count = category_counts.median()\n",
    "    min_samples = int(median_count * min_ratio)  # Lower bound\n",
    "    max_samples = int(median_count * max_ratio)  # Upper bound\n",
    "    \n",
    "    # Initialize final dataframes list\n",
    "    final_dfs = []\n",
    "    \n",
    "    # Handle undersampling for large classes\n",
    "    for category in category_counts[category_counts > max_samples].index:\n",
    "        category_df = df[df['category'] == category]\n",
    "        downsampled = resample(category_df,\n",
    "                             n_samples=max_samples,\n",
    "                             random_state=42)\n",
    "        final_dfs.append(downsampled)\n",
    "    \n",
    "    # Handle oversampling for small classes\n",
    "    small_categories = category_counts[category_counts < min_samples].index\n",
    "    if len(small_categories) > 0:\n",
    "        # Prepare data for SMOTE\n",
    "        small_df = df[df['category'].isin(small_categories)]\n",
    "        cat_cols = ['category', 'attack']\n",
    "        cat_data = small_df[cat_cols].copy()\n",
    "        \n",
    "        # Apply SMOTE\n",
    "        smote = SMOTE(sampling_strategy={\n",
    "                cat: min(category_counts[cat] * 2, min_samples) for cat in small_categories\n",
    "            }, random_state=42)\n",
    "        \n",
    "        X_resampled, y_resampled = smote.fit_resample(\n",
    "            small_df.drop(cat_cols, axis=1), \n",
    "            small_df['category']\n",
    "        )\n",
    "        \n",
    "        # Reconstruct DataFrame\n",
    "        augmented_df = pd.DataFrame(X_resampled, columns=df.drop(cat_cols, axis=1).columns)\n",
    "        augmented_df['category'] = y_resampled\n",
    "        augmented_df['attack'] = cat_data['attack'].iloc[0]  # Simplified attack labeling\n",
    "        final_dfs.append(augmented_df)\n",
    "    \n",
    "    # Keep medium-sized classes as is\n",
    "    medium_mask = (category_counts >= min_samples) & (category_counts <= max_samples)\n",
    "    for category in category_counts[medium_mask].index:\n",
    "        final_dfs.append(df[df['category'] == category])\n",
    "    \n",
    "    # Combine all data\n",
    "    final_df = pd.concat(final_dfs, ignore_index=True)\n",
    "    # Get final counts and prepare comparison\n",
    "    final_counts = final_df['category'].value_counts()\n",
    "    \n",
    "    # Create comparison table\n",
    "    comparison_data = []\n",
    "    for category in sorted(category_counts.index):\n",
    "        comparison_data.append([\n",
    "            category,\n",
    "            category_counts[category],\n",
    "            final_counts.get(category, 0)\n",
    "        ])\n",
    "    \n",
    "    # Print comparison table\n",
    "    print(tabulate(\n",
    "        comparison_data,\n",
    "        headers=['Category', 'Original', 'After Balance'],\n",
    "        tablefmt='psql'\n",
    "    ))\n",
    "    \n",
    "    return final_df\n",
    "\n",
    "# Usage:\n",
    "df = pd.read_csv('dataset/train_labeled.csv')\n",
    "balanced_df = balance_dataset(df, max_ratio=1.1, min_ratio=0.5)\n",
    "balanced_df.to_csv('dataset/train_smote.csv', index=False)"
   ]
  }
 ],
 "metadata": {
  "kernelspec": {
   "display_name": "Python 3",
   "language": "python",
   "name": "python3"
  },
  "language_info": {
   "codemirror_mode": {
    "name": "ipython",
    "version": 3
   },
   "file_extension": ".py",
   "mimetype": "text/x-python",
   "name": "python",
   "nbconvert_exporter": "python",
   "pygments_lexer": "ipython3",
   "version": "3.12.7"
  }
 },
 "nbformat": 4,
 "nbformat_minor": 2
}
