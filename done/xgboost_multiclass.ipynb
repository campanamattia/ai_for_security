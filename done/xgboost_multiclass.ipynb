{
 "cells": [
  {
   "cell_type": "code",
   "execution_count": 1,
   "id": "e30fdf52",
   "metadata": {
    "execution": {
     "iopub.execute_input": "2024-12-16T15:33:00.458383Z",
     "iopub.status.busy": "2024-12-16T15:33:00.457983Z",
     "iopub.status.idle": "2024-12-16T15:33:03.806315Z",
     "shell.execute_reply": "2024-12-16T15:33:03.805145Z"
    },
    "papermill": {
     "duration": 3.354698,
     "end_time": "2024-12-16T15:33:03.808938",
     "exception": false,
     "start_time": "2024-12-16T15:33:00.454240",
     "status": "completed"
    },
    "tags": []
   },
   "outputs": [],
   "source": [
    "import pandas as pd\n",
    "import numpy as np\n",
    "from sklearn.model_selection import train_test_split, GridSearchCV\n",
    "from sklearn.preprocessing import LabelEncoder\n",
    "from sklearn.metrics import accuracy_score, precision_score, recall_score, f1_score, confusion_matrix\n",
    "import xgboost as xgb\n",
    "from rich.console import Console\n",
    "from rich.table import Table\n",
    "from rich.panel import Panel"
   ]
  },
  {
   "cell_type": "code",
   "execution_count": 2,
   "id": "10fcd310",
   "metadata": {
    "execution": {
     "iopub.execute_input": "2024-12-16T15:33:03.814421Z",
     "iopub.status.busy": "2024-12-16T15:33:03.813892Z",
     "iopub.status.idle": "2024-12-16T15:33:03.833823Z",
     "shell.execute_reply": "2024-12-16T15:33:03.832569Z"
    },
    "papermill": {
     "duration": 0.025401,
     "end_time": "2024-12-16T15:33:03.836273",
     "exception": false,
     "start_time": "2024-12-16T15:33:03.810872",
     "status": "completed"
    },
    "tags": []
   },
   "outputs": [],
   "source": [
    "def preprocess_data(df):\n",
    "    df = df.copy()\n",
    "    # Encode categorical target\n",
    "    le = LabelEncoder()\n",
    "    y = le.fit_transform(df['category'])\n",
    "    # Drop unnecessary columns\n",
    "    X = df.drop(['is_benign', 'attack', 'category'], axis=1)\n",
    "    return X, y, le\n",
    "\n",
    "def evaluate_model(y_true, y_pred, le, model_name=\"Model\"):\n",
    "    console = Console()\n",
    "    \n",
    "    metrics = {\n",
    "        \"Accuracy\": accuracy_score(y_true, y_pred),\n",
    "        \"Precision\": precision_score(y_true, y_pred, average='weighted'),\n",
    "        \"Recall\": recall_score(y_true, y_pred, average='weighted'),\n",
    "        \"F1 Score\": f1_score(y_true, y_pred, average='weighted')\n",
    "    }\n",
    "    \n",
    "    table = Table(show_header=True, header_style=\"bold white\", box=None)\n",
    "    table.add_column(\"Metric\", style=\"cyan\")\n",
    "    table.add_column(\"Score\", justify=\"right\")\n",
    "    \n",
    "    for metric, value in metrics.items():\n",
    "        color = \"green\" if value > 0.8 else \"yellow\" if value > 0.6 else \"red\"\n",
    "        table.add_row(metric, f\"[{color}]{value:.5f}[/{color}]\")\n",
    "    \n",
    "    # Calculate class distribution\n",
    "    total = len(y_true)\n",
    "    class_dist_table = Table(show_header=True, header_style=\"bold white\", box=None)\n",
    "    class_dist_table.add_column(\"Class\", style=\"cyan\")\n",
    "    class_dist_table.add_column(\"Distribution (%)\", justify=\"right\")\n",
    "    \n",
    "    for i, cls in enumerate(le.classes_):\n",
    "        pct = np.sum(y_pred == i) / total * 100\n",
    "        color = \"green\" if pct > 30 else \"yellow\" if pct > 10 else \"red\"\n",
    "        class_dist_table.add_row(str(cls), f\"[{color}]{pct:.2f}%[/{color}]\")\n",
    "    \n",
    "    metrics[\"Class Distribution\"] = {le.classes_[i]: np.sum(y_pred == i) / total * 100 \n",
    "                                   for i in range(len(le.classes_))}\n",
    "    \n",
    "    table.add_row(\"\", \"\")\n",
    "    table.add_row(\"Class Distribution\", \"\")\n",
    "\n",
    "    cm = confusion_matrix(y_true, y_pred)\n",
    "    cm_table = Table(show_header=True, header_style=\"bold white\", box=None)\n",
    "    cm_table.add_column(\"Pred \\\\ True\", style=\"cyan\")\n",
    "    \n",
    "    classes = le.classes_\n",
    "    for cls in classes:\n",
    "        cm_table.add_column(str(cls), justify=\"right\")\n",
    "    \n",
    "    for i, cls in enumerate(classes):\n",
    "        row = [str(cls)] + [str(cm[i, j]) for j in range(cm.shape[1])]\n",
    "        cm_table.add_row(*row)\n",
    "    \n",
    "    combined_table = Table.grid(expand=True)\n",
    "    combined_table.add_column(justify=\"center\", ratio=1)\n",
    "    combined_table.add_column(justify=\"center\", ratio=1)\n",
    "    combined_table.add_row(table, cm_table)\n",
    "    \n",
    "    panel = Panel(\n",
    "        combined_table,\n",
    "        title=f\"[bold]{model_name} - Performance Metrics and Confusion Matrix[/bold]\",\n",
    "        border_style=\"white\"\n",
    "    )\n",
    "    \n",
    "    console.print(\"\\n\", panel, \"\\n\")\n",
    "    return metrics\n",
    "\n",
    "def train_xgboost(X, y, le):\n",
    "    X_train, X_test, y_train, y_test = train_test_split(\n",
    "        X, y, test_size=0.3, random_state=42, stratify=y\n",
    "    )\n",
    "    \n",
    "    model = xgb.XGBClassifier(\n",
    "        objective='multi:softprob',\n",
    "        num_class=len(np.unique(y)),\n",
    "        random_state=42,\n",
    "        n_estimators=100,\n",
    "        learning_rate=0.1\n",
    "    )\n",
    "    \n",
    "    param_grid = {\n",
    "        'max_depth': [3, 5, 7],\n",
    "        'min_child_weight': [1, 3, 5],\n",
    "        'gamma': [0, 0.1, 0.2],\n",
    "        'subsample': [0.8, 0.9],\n",
    "        'colsample_bytree': [0.8, 0.9]\n",
    "    }\n",
    "    \n",
    "    grid_search = GridSearchCV(\n",
    "        model,\n",
    "        param_grid,\n",
    "        cv=5,\n",
    "        scoring='accuracy',\n",
    "        n_jobs=-1,\n",
    "        verbose=1\n",
    "    )\n",
    "    \n",
    "    grid_search.fit(X_train, y_train)\n",
    "    best_model = grid_search.best_estimator_\n",
    "    \n",
    "    y_pred = best_model.predict(X_test)\n",
    "    evaluate_model(y_test, y_pred, le, \"XGBoost Multiclass\")\n",
    "    \n",
    "    return best_model"
   ]
  },
  {
   "cell_type": "code",
   "execution_count": 3,
   "id": "d41b7311",
   "metadata": {
    "execution": {
     "iopub.execute_input": "2024-12-16T15:33:03.841760Z",
     "iopub.status.busy": "2024-12-16T15:33:03.841331Z",
     "iopub.status.idle": "2024-12-16T19:08:05.401418Z",
     "shell.execute_reply": "2024-12-16T19:08:05.399897Z"
    },
    "papermill": {
     "duration": 12901.566311,
     "end_time": "2024-12-16T19:08:05.404428",
     "exception": false,
     "start_time": "2024-12-16T15:33:03.838117",
     "status": "completed"
    },
    "tags": []
   },
   "outputs": [
    {
     "name": "stdout",
     "output_type": "stream",
     "text": [
      "Fitting 5 folds for each of 108 candidates, totalling 540 fits\n"
     ]
    },
    {
     "data": {
      "text/html": [
       "<pre style=\"white-space:pre;overflow-x:auto;line-height:normal;font-family:Menlo,'DejaVu Sans Mono',consolas,'Courier New',monospace\">\n",
       "\n",
       "<span style=\"color: #c0c0c0; text-decoration-color: #c0c0c0\">╭───────────────────────── </span><span style=\"color: #c0c0c0; text-decoration-color: #c0c0c0; font-weight: bold\">XGBoost Multiclass - Performance Metrics and Confusion Matrix</span><span style=\"color: #c0c0c0; text-decoration-color: #c0c0c0\"> ─────────────────────────╮</span>\n",
       "<span style=\"color: #c0c0c0; text-decoration-color: #c0c0c0\">│</span> <span style=\"color: #c0c0c0; text-decoration-color: #c0c0c0; font-weight: bold\"> Metric                Score </span>                           <span style=\"color: #c0c0c0; text-decoration-color: #c0c0c0; font-weight: bold\"> Pred \\                                                </span> <span style=\"color: #c0c0c0; text-decoration-color: #c0c0c0\">│</span>\n",
       "<span style=\"color: #c0c0c0; text-decoration-color: #c0c0c0\">│</span> <span style=\"color: #008080; text-decoration-color: #008080\"> Accuracy           </span> <span style=\"color: #008000; text-decoration-color: #008000\">0.99474</span>                            <span style=\"color: #c0c0c0; text-decoration-color: #c0c0c0; font-weight: bold\"> True     BENIGN    DDoS    DoS   MQTT  RECON  SPOOFI… </span> <span style=\"color: #c0c0c0; text-decoration-color: #c0c0c0\">│</span>\n",
       "<span style=\"color: #c0c0c0; text-decoration-color: #c0c0c0\">│</span> <span style=\"color: #008080; text-decoration-color: #008080\"> Precision          </span> <span style=\"color: #008000; text-decoration-color: #008000\">0.99472</span>                            <span style=\"color: #008080; text-decoration-color: #008080\"> BENIGN  </span>  57642       0      0     25     41      112  <span style=\"color: #c0c0c0; text-decoration-color: #c0c0c0\">│</span>\n",
       "<span style=\"color: #c0c0c0; text-decoration-color: #c0c0c0\">│</span> <span style=\"color: #008080; text-decoration-color: #008080\"> Recall             </span> <span style=\"color: #008000; text-decoration-color: #008000\">0.99474</span>                            <span style=\"color: #008080; text-decoration-color: #008080\"> DDoS    </span>      1  174568     22      3      2        0  <span style=\"color: #c0c0c0; text-decoration-color: #c0c0c0\">│</span>\n",
       "<span style=\"color: #c0c0c0; text-decoration-color: #c0c0c0\">│</span> <span style=\"color: #008080; text-decoration-color: #008080\"> F1 Score           </span> <span style=\"color: #008000; text-decoration-color: #008000\">0.99468</span>                            <span style=\"color: #008080; text-decoration-color: #008080\"> DoS     </span>      3      67  85290      5      1        0  <span style=\"color: #c0c0c0; text-decoration-color: #c0c0c0\">│</span>\n",
       "<span style=\"color: #c0c0c0; text-decoration-color: #c0c0c0\">│</span> <span style=\"color: #008080; text-decoration-color: #008080\">                    </span>                                    <span style=\"color: #008080; text-decoration-color: #008080\"> MQTT    </span>    203       1      0  31977      0      101  <span style=\"color: #c0c0c0; text-decoration-color: #c0c0c0\">│</span>\n",
       "<span style=\"color: #c0c0c0; text-decoration-color: #c0c0c0\">│</span> <span style=\"color: #008080; text-decoration-color: #008080\"> Class Distribution </span>                                    <span style=\"color: #008080; text-decoration-color: #008080\"> RECON   </span>    493       0      0      1  15150      118  <span style=\"color: #c0c0c0; text-decoration-color: #c0c0c0\">│</span>\n",
       "<span style=\"color: #c0c0c0; text-decoration-color: #c0c0c0\">│</span>                                                         <span style=\"color: #008080; text-decoration-color: #008080\"> SPOOFI… </span>    648       0      0     44     58     4064  <span style=\"color: #c0c0c0; text-decoration-color: #c0c0c0\">│</span>\n",
       "<span style=\"color: #c0c0c0; text-decoration-color: #c0c0c0\">╰─────────────────────────────────────────────────────────────────────────────────────────────────────────────────╯</span>\n",
       "\n",
       "\n",
       "</pre>\n"
      ],
      "text/plain": [
       "\n",
       "\n",
       "\u001b[37m╭─\u001b[0m\u001b[37m────────────────────────\u001b[0m\u001b[37m \u001b[0m\u001b[1;37mXGBoost Multiclass - Performance Metrics and Confusion Matrix\u001b[0m\u001b[37m \u001b[0m\u001b[37m────────────────────────\u001b[0m\u001b[37m─╮\u001b[0m\n",
       "\u001b[37m│\u001b[0m \u001b[1;37m \u001b[0m\u001b[1;37mMetric            \u001b[0m\u001b[1;37m \u001b[0m\u001b[1;37m \u001b[0m\u001b[1;37m  Score\u001b[0m\u001b[1;37m \u001b[0m                           \u001b[1;37m \u001b[0m\u001b[1;37mPred \\ \u001b[0m\u001b[1;37m \u001b[0m\u001b[1;37m        \u001b[0m\u001b[1;37m        \u001b[0m\u001b[1;37m       \u001b[0m\u001b[1;37m       \u001b[0m\u001b[1;37m       \u001b[0m\u001b[1;37m         \u001b[0m \u001b[37m│\u001b[0m\n",
       "\u001b[37m│\u001b[0m \u001b[36m \u001b[0m\u001b[36mAccuracy          \u001b[0m\u001b[36m \u001b[0m \u001b[32m0.99474\u001b[0m                            \u001b[1;37m \u001b[0m\u001b[1;37mTrue   \u001b[0m\u001b[1;37m \u001b[0m\u001b[1;37m \u001b[0m\u001b[1;37mBENIGN\u001b[0m\u001b[1;37m \u001b[0m\u001b[1;37m \u001b[0m\u001b[1;37m  DDoS\u001b[0m\u001b[1;37m \u001b[0m\u001b[1;37m \u001b[0m\u001b[1;37m  DoS\u001b[0m\u001b[1;37m \u001b[0m\u001b[1;37m \u001b[0m\u001b[1;37m MQTT\u001b[0m\u001b[1;37m \u001b[0m\u001b[1;37m \u001b[0m\u001b[1;37mRECON\u001b[0m\u001b[1;37m \u001b[0m\u001b[1;37m \u001b[0m\u001b[1;37mSPOOFI…\u001b[0m\u001b[1;37m \u001b[0m \u001b[37m│\u001b[0m\n",
       "\u001b[37m│\u001b[0m \u001b[36m \u001b[0m\u001b[36mPrecision         \u001b[0m\u001b[36m \u001b[0m \u001b[32m0.99472\u001b[0m                            \u001b[36m \u001b[0m\u001b[36mBENIGN \u001b[0m\u001b[36m \u001b[0m  57642       0      0     25     41      112  \u001b[37m│\u001b[0m\n",
       "\u001b[37m│\u001b[0m \u001b[36m \u001b[0m\u001b[36mRecall            \u001b[0m\u001b[36m \u001b[0m \u001b[32m0.99474\u001b[0m                            \u001b[36m \u001b[0m\u001b[36mDDoS   \u001b[0m\u001b[36m \u001b[0m      1  174568     22      3      2        0  \u001b[37m│\u001b[0m\n",
       "\u001b[37m│\u001b[0m \u001b[36m \u001b[0m\u001b[36mF1 Score          \u001b[0m\u001b[36m \u001b[0m \u001b[32m0.99468\u001b[0m                            \u001b[36m \u001b[0m\u001b[36mDoS    \u001b[0m\u001b[36m \u001b[0m      3      67  85290      5      1        0  \u001b[37m│\u001b[0m\n",
       "\u001b[37m│\u001b[0m \u001b[36m \u001b[0m\u001b[36m                  \u001b[0m\u001b[36m \u001b[0m                                    \u001b[36m \u001b[0m\u001b[36mMQTT   \u001b[0m\u001b[36m \u001b[0m    203       1      0  31977      0      101  \u001b[37m│\u001b[0m\n",
       "\u001b[37m│\u001b[0m \u001b[36m \u001b[0m\u001b[36mClass Distribution\u001b[0m\u001b[36m \u001b[0m                                    \u001b[36m \u001b[0m\u001b[36mRECON  \u001b[0m\u001b[36m \u001b[0m    493       0      0      1  15150      118  \u001b[37m│\u001b[0m\n",
       "\u001b[37m│\u001b[0m                                                         \u001b[36m \u001b[0m\u001b[36mSPOOFI…\u001b[0m\u001b[36m \u001b[0m    648       0      0     44     58     4064  \u001b[37m│\u001b[0m\n",
       "\u001b[37m╰─────────────────────────────────────────────────────────────────────────────────────────────────────────────────╯\u001b[0m\n",
       "\n",
       "\n"
      ]
     },
     "metadata": {},
     "output_type": "display_data"
    }
   ],
   "source": [
    "# Usage\n",
    "df = pd.read_csv('/kaggle/input/dataset/train_sel_hclust.csv')\n",
    "X, y, le = preprocess_data(df)\n",
    "best_model = train_xgboost(X, y, le)\n",
    "best_model.save_model('xgboost_multiclass_model.json')"
   ]
  }
 ],
 "metadata": {
  "kernelspec": {
   "display_name": "Python 3",
   "language": "python",
   "name": "python3"
  },
  "language_info": {
   "codemirror_mode": {
    "name": "ipython",
    "version": 3
   },
   "file_extension": ".py",
   "mimetype": "text/x-python",
   "name": "python",
   "nbconvert_exporter": "python",
   "pygments_lexer": "ipython3",
   "version": "3.10.14"
  },
  "papermill": {
   "default_parameters": {},
   "duration": 12910.777228,
   "end_time": "2024-12-16T19:08:08.028257",
   "environment_variables": {},
   "exception": null,
   "input_path": "__notebook__.ipynb",
   "output_path": "__notebook__.ipynb",
   "parameters": {},
   "start_time": "2024-12-16T15:32:57.251029",
   "version": "2.6.0"
  }
 },
 "nbformat": 4,
 "nbformat_minor": 5
}
